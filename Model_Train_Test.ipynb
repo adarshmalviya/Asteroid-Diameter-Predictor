{
 "cells": [
  {
   "cell_type": "markdown",
   "metadata": {},
   "source": [
    "# Asteroides Diameter Predictor"
   ]
  },
  {
   "cell_type": "markdown",
   "metadata": {},
   "source": [
    "## Import Necessary Liberaries"
   ]
  },
  {
   "cell_type": "code",
   "execution_count": 1,
   "metadata": {},
   "outputs": [],
   "source": [
    "import pandas as pd\n",
    "import numpy as np\n",
    "import matplotlib.pyplot as plt\n",
    "import seaborn as sns\n",
    "from scipy import stats\n",
    "import warnings\n",
    "warnings.filterwarnings('ignore')"
   ]
  },
  {
   "cell_type": "code",
   "execution_count": 2,
   "metadata": {},
   "outputs": [],
   "source": [
    "pd.set_option('display.max_columns', 50) # To see all the columns of dataset"
   ]
  },
  {
   "cell_type": "markdown",
   "metadata": {},
   "source": [
    "## Import DataSet"
   ]
  },
  {
   "cell_type": "code",
   "execution_count": 3,
   "metadata": {},
   "outputs": [
    {
     "data": {
      "text/html": [
       "<div>\n",
       "<style scoped>\n",
       "    .dataframe tbody tr th:only-of-type {\n",
       "        vertical-align: middle;\n",
       "    }\n",
       "\n",
       "    .dataframe tbody tr th {\n",
       "        vertical-align: top;\n",
       "    }\n",
       "\n",
       "    .dataframe thead th {\n",
       "        text-align: right;\n",
       "    }\n",
       "</style>\n",
       "<table border=\"1\" class=\"dataframe\">\n",
       "  <thead>\n",
       "    <tr style=\"text-align: right;\">\n",
       "      <th></th>\n",
       "      <th>Unnamed: 0</th>\n",
       "      <th>a</th>\n",
       "      <th>e</th>\n",
       "      <th>i</th>\n",
       "      <th>om</th>\n",
       "      <th>w</th>\n",
       "      <th>q</th>\n",
       "      <th>ad</th>\n",
       "      <th>per_y</th>\n",
       "      <th>data_arc</th>\n",
       "      <th>condition_code</th>\n",
       "      <th>n_obs_used</th>\n",
       "      <th>H</th>\n",
       "      <th>neo</th>\n",
       "      <th>pha</th>\n",
       "      <th>moid</th>\n",
       "      <th>class</th>\n",
       "      <th>n</th>\n",
       "      <th>per</th>\n",
       "      <th>ma</th>\n",
       "      <th>Diameter</th>\n",
       "    </tr>\n",
       "  </thead>\n",
       "  <tbody>\n",
       "    <tr>\n",
       "      <th>0</th>\n",
       "      <td>0</td>\n",
       "      <td>2.769165</td>\n",
       "      <td>0.076009</td>\n",
       "      <td>10.594067</td>\n",
       "      <td>80.305532</td>\n",
       "      <td>73.597694</td>\n",
       "      <td>2.558684</td>\n",
       "      <td>2.979647</td>\n",
       "      <td>4.608202</td>\n",
       "      <td>8822.0</td>\n",
       "      <td>0</td>\n",
       "      <td>1002.0</td>\n",
       "      <td>11.85</td>\n",
       "      <td>N</td>\n",
       "      <td>N</td>\n",
       "      <td>1.59478</td>\n",
       "      <td>MBA</td>\n",
       "      <td>0.213885</td>\n",
       "      <td>1683.145708</td>\n",
       "      <td>77.372096</td>\n",
       "      <td>10.2</td>\n",
       "    </tr>\n",
       "    <tr>\n",
       "      <th>1</th>\n",
       "      <td>1</td>\n",
       "      <td>2.772466</td>\n",
       "      <td>0.230337</td>\n",
       "      <td>26.665712</td>\n",
       "      <td>173.080063</td>\n",
       "      <td>310.048857</td>\n",
       "      <td>2.133865</td>\n",
       "      <td>3.411067</td>\n",
       "      <td>4.616444</td>\n",
       "      <td>14881.5</td>\n",
       "      <td>0</td>\n",
       "      <td>2137.5</td>\n",
       "      <td>11.85</td>\n",
       "      <td>N</td>\n",
       "      <td>N</td>\n",
       "      <td>1.23324</td>\n",
       "      <td>MBA</td>\n",
       "      <td>0.213503</td>\n",
       "      <td>1686.155999</td>\n",
       "      <td>59.699133</td>\n",
       "      <td>10.2</td>\n",
       "    </tr>\n",
       "    <tr>\n",
       "      <th>2</th>\n",
       "      <td>2</td>\n",
       "      <td>2.669150</td>\n",
       "      <td>0.256942</td>\n",
       "      <td>12.988919</td>\n",
       "      <td>169.852760</td>\n",
       "      <td>248.138626</td>\n",
       "      <td>1.983332</td>\n",
       "      <td>3.354967</td>\n",
       "      <td>4.360814</td>\n",
       "      <td>14881.5</td>\n",
       "      <td>0</td>\n",
       "      <td>2137.5</td>\n",
       "      <td>11.85</td>\n",
       "      <td>N</td>\n",
       "      <td>N</td>\n",
       "      <td>1.03454</td>\n",
       "      <td>MBA</td>\n",
       "      <td>0.226019</td>\n",
       "      <td>1592.787285</td>\n",
       "      <td>34.925016</td>\n",
       "      <td>10.2</td>\n",
       "    </tr>\n",
       "    <tr>\n",
       "      <th>3</th>\n",
       "      <td>3</td>\n",
       "      <td>2.361418</td>\n",
       "      <td>0.088721</td>\n",
       "      <td>7.141771</td>\n",
       "      <td>103.810804</td>\n",
       "      <td>150.728541</td>\n",
       "      <td>2.151909</td>\n",
       "      <td>2.570926</td>\n",
       "      <td>3.628837</td>\n",
       "      <td>14881.5</td>\n",
       "      <td>0</td>\n",
       "      <td>2137.5</td>\n",
       "      <td>11.85</td>\n",
       "      <td>N</td>\n",
       "      <td>N</td>\n",
       "      <td>1.13948</td>\n",
       "      <td>MBA</td>\n",
       "      <td>0.271609</td>\n",
       "      <td>1325.432765</td>\n",
       "      <td>95.861936</td>\n",
       "      <td>10.2</td>\n",
       "    </tr>\n",
       "    <tr>\n",
       "      <th>4</th>\n",
       "      <td>4</td>\n",
       "      <td>2.574249</td>\n",
       "      <td>0.191095</td>\n",
       "      <td>5.366988</td>\n",
       "      <td>141.576605</td>\n",
       "      <td>358.687607</td>\n",
       "      <td>2.082324</td>\n",
       "      <td>3.066174</td>\n",
       "      <td>4.130323</td>\n",
       "      <td>14881.5</td>\n",
       "      <td>0</td>\n",
       "      <td>2137.5</td>\n",
       "      <td>11.85</td>\n",
       "      <td>N</td>\n",
       "      <td>N</td>\n",
       "      <td>1.09589</td>\n",
       "      <td>MBA</td>\n",
       "      <td>0.238632</td>\n",
       "      <td>1508.600458</td>\n",
       "      <td>282.366289</td>\n",
       "      <td>10.2</td>\n",
       "    </tr>\n",
       "  </tbody>\n",
       "</table>\n",
       "</div>"
      ],
      "text/plain": [
       "   Unnamed: 0         a         e          i          om           w  \\\n",
       "0           0  2.769165  0.076009  10.594067   80.305532   73.597694   \n",
       "1           1  2.772466  0.230337  26.665712  173.080063  310.048857   \n",
       "2           2  2.669150  0.256942  12.988919  169.852760  248.138626   \n",
       "3           3  2.361418  0.088721   7.141771  103.810804  150.728541   \n",
       "4           4  2.574249  0.191095   5.366988  141.576605  358.687607   \n",
       "\n",
       "          q        ad     per_y  data_arc  condition_code  n_obs_used      H  \\\n",
       "0  2.558684  2.979647  4.608202    8822.0               0      1002.0  11.85   \n",
       "1  2.133865  3.411067  4.616444   14881.5               0      2137.5  11.85   \n",
       "2  1.983332  3.354967  4.360814   14881.5               0      2137.5  11.85   \n",
       "3  2.151909  2.570926  3.628837   14881.5               0      2137.5  11.85   \n",
       "4  2.082324  3.066174  4.130323   14881.5               0      2137.5  11.85   \n",
       "\n",
       "  neo pha     moid class         n          per          ma  Diameter  \n",
       "0   N   N  1.59478   MBA  0.213885  1683.145708   77.372096      10.2  \n",
       "1   N   N  1.23324   MBA  0.213503  1686.155999   59.699133      10.2  \n",
       "2   N   N  1.03454   MBA  0.226019  1592.787285   34.925016      10.2  \n",
       "3   N   N  1.13948   MBA  0.271609  1325.432765   95.861936      10.2  \n",
       "4   N   N  1.09589   MBA  0.238632  1508.600458  282.366289      10.2  "
      ]
     },
     "execution_count": 3,
     "metadata": {},
     "output_type": "execute_result"
    }
   ],
   "source": [
    "dataset = pd.read_csv('Clean_Dataset.csv')  # To Read dataset\n",
    "dataset.head()"
   ]
  },
  {
   "cell_type": "code",
   "execution_count": 4,
   "metadata": {},
   "outputs": [
    {
     "data": {
      "text/html": [
       "<div>\n",
       "<style scoped>\n",
       "    .dataframe tbody tr th:only-of-type {\n",
       "        vertical-align: middle;\n",
       "    }\n",
       "\n",
       "    .dataframe tbody tr th {\n",
       "        vertical-align: top;\n",
       "    }\n",
       "\n",
       "    .dataframe thead th {\n",
       "        text-align: right;\n",
       "    }\n",
       "</style>\n",
       "<table border=\"1\" class=\"dataframe\">\n",
       "  <thead>\n",
       "    <tr style=\"text-align: right;\">\n",
       "      <th></th>\n",
       "      <th>a</th>\n",
       "      <th>e</th>\n",
       "      <th>i</th>\n",
       "      <th>om</th>\n",
       "      <th>w</th>\n",
       "      <th>q</th>\n",
       "      <th>ad</th>\n",
       "      <th>per_y</th>\n",
       "      <th>data_arc</th>\n",
       "      <th>condition_code</th>\n",
       "      <th>n_obs_used</th>\n",
       "      <th>H</th>\n",
       "      <th>neo</th>\n",
       "      <th>pha</th>\n",
       "      <th>moid</th>\n",
       "      <th>class</th>\n",
       "      <th>n</th>\n",
       "      <th>per</th>\n",
       "      <th>ma</th>\n",
       "      <th>Diameter</th>\n",
       "    </tr>\n",
       "  </thead>\n",
       "  <tbody>\n",
       "    <tr>\n",
       "      <th>0</th>\n",
       "      <td>2.769165</td>\n",
       "      <td>0.076009</td>\n",
       "      <td>10.594067</td>\n",
       "      <td>80.305532</td>\n",
       "      <td>73.597694</td>\n",
       "      <td>2.558684</td>\n",
       "      <td>2.979647</td>\n",
       "      <td>4.608202</td>\n",
       "      <td>8822.0</td>\n",
       "      <td>0</td>\n",
       "      <td>1002.0</td>\n",
       "      <td>11.85</td>\n",
       "      <td>N</td>\n",
       "      <td>N</td>\n",
       "      <td>1.59478</td>\n",
       "      <td>MBA</td>\n",
       "      <td>0.213885</td>\n",
       "      <td>1683.145708</td>\n",
       "      <td>77.372096</td>\n",
       "      <td>10.2</td>\n",
       "    </tr>\n",
       "    <tr>\n",
       "      <th>1</th>\n",
       "      <td>2.772466</td>\n",
       "      <td>0.230337</td>\n",
       "      <td>26.665712</td>\n",
       "      <td>173.080063</td>\n",
       "      <td>310.048857</td>\n",
       "      <td>2.133865</td>\n",
       "      <td>3.411067</td>\n",
       "      <td>4.616444</td>\n",
       "      <td>14881.5</td>\n",
       "      <td>0</td>\n",
       "      <td>2137.5</td>\n",
       "      <td>11.85</td>\n",
       "      <td>N</td>\n",
       "      <td>N</td>\n",
       "      <td>1.23324</td>\n",
       "      <td>MBA</td>\n",
       "      <td>0.213503</td>\n",
       "      <td>1686.155999</td>\n",
       "      <td>59.699133</td>\n",
       "      <td>10.2</td>\n",
       "    </tr>\n",
       "    <tr>\n",
       "      <th>2</th>\n",
       "      <td>2.669150</td>\n",
       "      <td>0.256942</td>\n",
       "      <td>12.988919</td>\n",
       "      <td>169.852760</td>\n",
       "      <td>248.138626</td>\n",
       "      <td>1.983332</td>\n",
       "      <td>3.354967</td>\n",
       "      <td>4.360814</td>\n",
       "      <td>14881.5</td>\n",
       "      <td>0</td>\n",
       "      <td>2137.5</td>\n",
       "      <td>11.85</td>\n",
       "      <td>N</td>\n",
       "      <td>N</td>\n",
       "      <td>1.03454</td>\n",
       "      <td>MBA</td>\n",
       "      <td>0.226019</td>\n",
       "      <td>1592.787285</td>\n",
       "      <td>34.925016</td>\n",
       "      <td>10.2</td>\n",
       "    </tr>\n",
       "    <tr>\n",
       "      <th>3</th>\n",
       "      <td>2.361418</td>\n",
       "      <td>0.088721</td>\n",
       "      <td>7.141771</td>\n",
       "      <td>103.810804</td>\n",
       "      <td>150.728541</td>\n",
       "      <td>2.151909</td>\n",
       "      <td>2.570926</td>\n",
       "      <td>3.628837</td>\n",
       "      <td>14881.5</td>\n",
       "      <td>0</td>\n",
       "      <td>2137.5</td>\n",
       "      <td>11.85</td>\n",
       "      <td>N</td>\n",
       "      <td>N</td>\n",
       "      <td>1.13948</td>\n",
       "      <td>MBA</td>\n",
       "      <td>0.271609</td>\n",
       "      <td>1325.432765</td>\n",
       "      <td>95.861936</td>\n",
       "      <td>10.2</td>\n",
       "    </tr>\n",
       "    <tr>\n",
       "      <th>4</th>\n",
       "      <td>2.574249</td>\n",
       "      <td>0.191095</td>\n",
       "      <td>5.366988</td>\n",
       "      <td>141.576605</td>\n",
       "      <td>358.687607</td>\n",
       "      <td>2.082324</td>\n",
       "      <td>3.066174</td>\n",
       "      <td>4.130323</td>\n",
       "      <td>14881.5</td>\n",
       "      <td>0</td>\n",
       "      <td>2137.5</td>\n",
       "      <td>11.85</td>\n",
       "      <td>N</td>\n",
       "      <td>N</td>\n",
       "      <td>1.09589</td>\n",
       "      <td>MBA</td>\n",
       "      <td>0.238632</td>\n",
       "      <td>1508.600458</td>\n",
       "      <td>282.366289</td>\n",
       "      <td>10.2</td>\n",
       "    </tr>\n",
       "  </tbody>\n",
       "</table>\n",
       "</div>"
      ],
      "text/plain": [
       "          a         e          i          om           w         q        ad  \\\n",
       "0  2.769165  0.076009  10.594067   80.305532   73.597694  2.558684  2.979647   \n",
       "1  2.772466  0.230337  26.665712  173.080063  310.048857  2.133865  3.411067   \n",
       "2  2.669150  0.256942  12.988919  169.852760  248.138626  1.983332  3.354967   \n",
       "3  2.361418  0.088721   7.141771  103.810804  150.728541  2.151909  2.570926   \n",
       "4  2.574249  0.191095   5.366988  141.576605  358.687607  2.082324  3.066174   \n",
       "\n",
       "      per_y  data_arc  condition_code  n_obs_used      H neo pha     moid  \\\n",
       "0  4.608202    8822.0               0      1002.0  11.85   N   N  1.59478   \n",
       "1  4.616444   14881.5               0      2137.5  11.85   N   N  1.23324   \n",
       "2  4.360814   14881.5               0      2137.5  11.85   N   N  1.03454   \n",
       "3  3.628837   14881.5               0      2137.5  11.85   N   N  1.13948   \n",
       "4  4.130323   14881.5               0      2137.5  11.85   N   N  1.09589   \n",
       "\n",
       "  class         n          per          ma  Diameter  \n",
       "0   MBA  0.213885  1683.145708   77.372096      10.2  \n",
       "1   MBA  0.213503  1686.155999   59.699133      10.2  \n",
       "2   MBA  0.226019  1592.787285   34.925016      10.2  \n",
       "3   MBA  0.271609  1325.432765   95.861936      10.2  \n",
       "4   MBA  0.238632  1508.600458  282.366289      10.2  "
      ]
     },
     "execution_count": 4,
     "metadata": {},
     "output_type": "execute_result"
    }
   ],
   "source": [
    "dataset.drop('Unnamed: 0', axis=1, inplace=True)\n",
    "dataset.head()"
   ]
  },
  {
   "cell_type": "code",
   "execution_count": 5,
   "metadata": {},
   "outputs": [
    {
     "name": "stdout",
     "output_type": "stream",
     "text": [
      "Categorical Data :  ['neo', 'pha', 'class']\n",
      "Numeric Data :  ['a', 'e', 'i', 'om', 'w', 'q', 'ad', 'per_y', 'data_arc', 'condition_code', 'n_obs_used', 'H', 'moid', 'n', 'per', 'ma', 'Diameter']\n"
     ]
    }
   ],
   "source": [
    "# Segregate Data into numeric and categorical onces\n",
    "categorical, numeric = [], []\n",
    "for ele in dataset.columns:\n",
    "    if dataset[ele].dtype == 'object':\n",
    "        categorical.append(ele)\n",
    "    else:\n",
    "        numeric.append(ele)\n",
    "print(\"Categorical Data : \", categorical)\n",
    "print(\"Numeric Data : \", numeric)"
   ]
  },
  {
   "cell_type": "code",
   "execution_count": 6,
   "metadata": {},
   "outputs": [
    {
     "data": {
      "text/html": [
       "<div>\n",
       "<style scoped>\n",
       "    .dataframe tbody tr th:only-of-type {\n",
       "        vertical-align: middle;\n",
       "    }\n",
       "\n",
       "    .dataframe tbody tr th {\n",
       "        vertical-align: top;\n",
       "    }\n",
       "\n",
       "    .dataframe thead th {\n",
       "        text-align: right;\n",
       "    }\n",
       "</style>\n",
       "<table border=\"1\" class=\"dataframe\">\n",
       "  <thead>\n",
       "    <tr style=\"text-align: right;\">\n",
       "      <th></th>\n",
       "      <th>a</th>\n",
       "      <th>e</th>\n",
       "      <th>i</th>\n",
       "      <th>om</th>\n",
       "      <th>w</th>\n",
       "      <th>q</th>\n",
       "      <th>ad</th>\n",
       "      <th>per_y</th>\n",
       "      <th>data_arc</th>\n",
       "      <th>condition_code</th>\n",
       "      <th>n_obs_used</th>\n",
       "      <th>H</th>\n",
       "      <th>neo</th>\n",
       "      <th>pha</th>\n",
       "      <th>moid</th>\n",
       "      <th>class</th>\n",
       "      <th>n</th>\n",
       "      <th>per</th>\n",
       "      <th>ma</th>\n",
       "      <th>Diameter</th>\n",
       "    </tr>\n",
       "  </thead>\n",
       "  <tbody>\n",
       "    <tr>\n",
       "      <th>0</th>\n",
       "      <td>2.769165</td>\n",
       "      <td>0.076009</td>\n",
       "      <td>10.594067</td>\n",
       "      <td>80.305532</td>\n",
       "      <td>73.597694</td>\n",
       "      <td>2.558684</td>\n",
       "      <td>2.979647</td>\n",
       "      <td>4.608202</td>\n",
       "      <td>8822.0</td>\n",
       "      <td>0</td>\n",
       "      <td>1002.0</td>\n",
       "      <td>11.85</td>\n",
       "      <td>N</td>\n",
       "      <td>N</td>\n",
       "      <td>1.59478</td>\n",
       "      <td>MBA</td>\n",
       "      <td>0.213885</td>\n",
       "      <td>1683.145708</td>\n",
       "      <td>77.372096</td>\n",
       "      <td>10.2</td>\n",
       "    </tr>\n",
       "    <tr>\n",
       "      <th>1</th>\n",
       "      <td>2.772466</td>\n",
       "      <td>0.230337</td>\n",
       "      <td>26.665712</td>\n",
       "      <td>173.080063</td>\n",
       "      <td>310.048857</td>\n",
       "      <td>2.133865</td>\n",
       "      <td>3.411067</td>\n",
       "      <td>4.616444</td>\n",
       "      <td>14881.5</td>\n",
       "      <td>0</td>\n",
       "      <td>2137.5</td>\n",
       "      <td>11.85</td>\n",
       "      <td>N</td>\n",
       "      <td>N</td>\n",
       "      <td>1.23324</td>\n",
       "      <td>MBA</td>\n",
       "      <td>0.213503</td>\n",
       "      <td>1686.155999</td>\n",
       "      <td>59.699133</td>\n",
       "      <td>10.2</td>\n",
       "    </tr>\n",
       "    <tr>\n",
       "      <th>2</th>\n",
       "      <td>2.669150</td>\n",
       "      <td>0.256942</td>\n",
       "      <td>12.988919</td>\n",
       "      <td>169.852760</td>\n",
       "      <td>248.138626</td>\n",
       "      <td>1.983332</td>\n",
       "      <td>3.354967</td>\n",
       "      <td>4.360814</td>\n",
       "      <td>14881.5</td>\n",
       "      <td>0</td>\n",
       "      <td>2137.5</td>\n",
       "      <td>11.85</td>\n",
       "      <td>N</td>\n",
       "      <td>N</td>\n",
       "      <td>1.03454</td>\n",
       "      <td>MBA</td>\n",
       "      <td>0.226019</td>\n",
       "      <td>1592.787285</td>\n",
       "      <td>34.925016</td>\n",
       "      <td>10.2</td>\n",
       "    </tr>\n",
       "    <tr>\n",
       "      <th>3</th>\n",
       "      <td>2.361418</td>\n",
       "      <td>0.088721</td>\n",
       "      <td>7.141771</td>\n",
       "      <td>103.810804</td>\n",
       "      <td>150.728541</td>\n",
       "      <td>2.151909</td>\n",
       "      <td>2.570926</td>\n",
       "      <td>3.628837</td>\n",
       "      <td>14881.5</td>\n",
       "      <td>0</td>\n",
       "      <td>2137.5</td>\n",
       "      <td>11.85</td>\n",
       "      <td>N</td>\n",
       "      <td>N</td>\n",
       "      <td>1.13948</td>\n",
       "      <td>MBA</td>\n",
       "      <td>0.271609</td>\n",
       "      <td>1325.432765</td>\n",
       "      <td>95.861936</td>\n",
       "      <td>10.2</td>\n",
       "    </tr>\n",
       "    <tr>\n",
       "      <th>4</th>\n",
       "      <td>2.574249</td>\n",
       "      <td>0.191095</td>\n",
       "      <td>5.366988</td>\n",
       "      <td>141.576605</td>\n",
       "      <td>358.687607</td>\n",
       "      <td>2.082324</td>\n",
       "      <td>3.066174</td>\n",
       "      <td>4.130323</td>\n",
       "      <td>14881.5</td>\n",
       "      <td>0</td>\n",
       "      <td>2137.5</td>\n",
       "      <td>11.85</td>\n",
       "      <td>N</td>\n",
       "      <td>N</td>\n",
       "      <td>1.09589</td>\n",
       "      <td>MBA</td>\n",
       "      <td>0.238632</td>\n",
       "      <td>1508.600458</td>\n",
       "      <td>282.366289</td>\n",
       "      <td>10.2</td>\n",
       "    </tr>\n",
       "  </tbody>\n",
       "</table>\n",
       "</div>"
      ],
      "text/plain": [
       "          a         e          i          om           w         q        ad  \\\n",
       "0  2.769165  0.076009  10.594067   80.305532   73.597694  2.558684  2.979647   \n",
       "1  2.772466  0.230337  26.665712  173.080063  310.048857  2.133865  3.411067   \n",
       "2  2.669150  0.256942  12.988919  169.852760  248.138626  1.983332  3.354967   \n",
       "3  2.361418  0.088721   7.141771  103.810804  150.728541  2.151909  2.570926   \n",
       "4  2.574249  0.191095   5.366988  141.576605  358.687607  2.082324  3.066174   \n",
       "\n",
       "      per_y  data_arc  condition_code  n_obs_used      H neo pha     moid  \\\n",
       "0  4.608202    8822.0               0      1002.0  11.85   N   N  1.59478   \n",
       "1  4.616444   14881.5               0      2137.5  11.85   N   N  1.23324   \n",
       "2  4.360814   14881.5               0      2137.5  11.85   N   N  1.03454   \n",
       "3  3.628837   14881.5               0      2137.5  11.85   N   N  1.13948   \n",
       "4  4.130323   14881.5               0      2137.5  11.85   N   N  1.09589   \n",
       "\n",
       "  class         n          per          ma  Diameter  \n",
       "0   MBA  0.213885  1683.145708   77.372096      10.2  \n",
       "1   MBA  0.213503  1686.155999   59.699133      10.2  \n",
       "2   MBA  0.226019  1592.787285   34.925016      10.2  \n",
       "3   MBA  0.271609  1325.432765   95.861936      10.2  \n",
       "4   MBA  0.238632  1508.600458  282.366289      10.2  "
      ]
     },
     "execution_count": 6,
     "metadata": {},
     "output_type": "execute_result"
    }
   ],
   "source": [
    "dataset.head()"
   ]
  },
  {
   "cell_type": "markdown",
   "metadata": {},
   "source": [
    "## Converting Categorical Data into Numeric"
   ]
  },
  {
   "cell_type": "markdown",
   "metadata": {},
   "source": [
    "### Creating Dummy Variables"
   ]
  },
  {
   "cell_type": "code",
   "execution_count": 7,
   "metadata": {},
   "outputs": [
    {
     "name": "stdout",
     "output_type": "stream",
     "text": [
      "Categorical Data :  ['neo', 'pha', 'class']\n"
     ]
    }
   ],
   "source": [
    "print(\"Categorical Data : \",categorical)"
   ]
  },
  {
   "cell_type": "code",
   "execution_count": 8,
   "metadata": {},
   "outputs": [
    {
     "data": {
      "text/html": [
       "<div>\n",
       "<style scoped>\n",
       "    .dataframe tbody tr th:only-of-type {\n",
       "        vertical-align: middle;\n",
       "    }\n",
       "\n",
       "    .dataframe tbody tr th {\n",
       "        vertical-align: top;\n",
       "    }\n",
       "\n",
       "    .dataframe thead th {\n",
       "        text-align: right;\n",
       "    }\n",
       "</style>\n",
       "<table border=\"1\" class=\"dataframe\">\n",
       "  <thead>\n",
       "    <tr style=\"text-align: right;\">\n",
       "      <th></th>\n",
       "      <th>Y</th>\n",
       "    </tr>\n",
       "  </thead>\n",
       "  <tbody>\n",
       "    <tr>\n",
       "      <th>0</th>\n",
       "      <td>0</td>\n",
       "    </tr>\n",
       "    <tr>\n",
       "      <th>1</th>\n",
       "      <td>0</td>\n",
       "    </tr>\n",
       "    <tr>\n",
       "      <th>2</th>\n",
       "      <td>0</td>\n",
       "    </tr>\n",
       "    <tr>\n",
       "      <th>3</th>\n",
       "      <td>0</td>\n",
       "    </tr>\n",
       "    <tr>\n",
       "      <th>4</th>\n",
       "      <td>0</td>\n",
       "    </tr>\n",
       "  </tbody>\n",
       "</table>\n",
       "</div>"
      ],
      "text/plain": [
       "   Y\n",
       "0  0\n",
       "1  0\n",
       "2  0\n",
       "3  0\n",
       "4  0"
      ]
     },
     "execution_count": 8,
     "metadata": {},
     "output_type": "execute_result"
    }
   ],
   "source": [
    "neo_dummy = pd.get_dummies(dataset['neo'], drop_first=True)\n",
    "neo_dummy.head()"
   ]
  },
  {
   "cell_type": "code",
   "execution_count": 9,
   "metadata": {},
   "outputs": [
    {
     "data": {
      "text/html": [
       "<div>\n",
       "<style scoped>\n",
       "    .dataframe tbody tr th:only-of-type {\n",
       "        vertical-align: middle;\n",
       "    }\n",
       "\n",
       "    .dataframe tbody tr th {\n",
       "        vertical-align: top;\n",
       "    }\n",
       "\n",
       "    .dataframe thead th {\n",
       "        text-align: right;\n",
       "    }\n",
       "</style>\n",
       "<table border=\"1\" class=\"dataframe\">\n",
       "  <thead>\n",
       "    <tr style=\"text-align: right;\">\n",
       "      <th></th>\n",
       "      <th>Y</th>\n",
       "    </tr>\n",
       "  </thead>\n",
       "  <tbody>\n",
       "    <tr>\n",
       "      <th>0</th>\n",
       "      <td>0</td>\n",
       "    </tr>\n",
       "    <tr>\n",
       "      <th>1</th>\n",
       "      <td>0</td>\n",
       "    </tr>\n",
       "    <tr>\n",
       "      <th>2</th>\n",
       "      <td>0</td>\n",
       "    </tr>\n",
       "    <tr>\n",
       "      <th>3</th>\n",
       "      <td>0</td>\n",
       "    </tr>\n",
       "    <tr>\n",
       "      <th>4</th>\n",
       "      <td>0</td>\n",
       "    </tr>\n",
       "  </tbody>\n",
       "</table>\n",
       "</div>"
      ],
      "text/plain": [
       "   Y\n",
       "0  0\n",
       "1  0\n",
       "2  0\n",
       "3  0\n",
       "4  0"
      ]
     },
     "execution_count": 9,
     "metadata": {},
     "output_type": "execute_result"
    }
   ],
   "source": [
    "pha_dummy = pd.get_dummies(dataset['pha'], drop_first=True)\n",
    "pha_dummy.head()"
   ]
  },
  {
   "cell_type": "code",
   "execution_count": 10,
   "metadata": {},
   "outputs": [
    {
     "data": {
      "text/html": [
       "<div>\n",
       "<style scoped>\n",
       "    .dataframe tbody tr th:only-of-type {\n",
       "        vertical-align: middle;\n",
       "    }\n",
       "\n",
       "    .dataframe tbody tr th {\n",
       "        vertical-align: top;\n",
       "    }\n",
       "\n",
       "    .dataframe thead th {\n",
       "        text-align: right;\n",
       "    }\n",
       "</style>\n",
       "<table border=\"1\" class=\"dataframe\">\n",
       "  <thead>\n",
       "    <tr style=\"text-align: right;\">\n",
       "      <th></th>\n",
       "      <th>APO</th>\n",
       "      <th>AST</th>\n",
       "      <th>ATE</th>\n",
       "      <th>CEN</th>\n",
       "      <th>IMB</th>\n",
       "      <th>MBA</th>\n",
       "      <th>MCA</th>\n",
       "      <th>OMB</th>\n",
       "      <th>TJN</th>\n",
       "      <th>TNO</th>\n",
       "    </tr>\n",
       "  </thead>\n",
       "  <tbody>\n",
       "    <tr>\n",
       "      <th>0</th>\n",
       "      <td>0</td>\n",
       "      <td>0</td>\n",
       "      <td>0</td>\n",
       "      <td>0</td>\n",
       "      <td>0</td>\n",
       "      <td>1</td>\n",
       "      <td>0</td>\n",
       "      <td>0</td>\n",
       "      <td>0</td>\n",
       "      <td>0</td>\n",
       "    </tr>\n",
       "    <tr>\n",
       "      <th>1</th>\n",
       "      <td>0</td>\n",
       "      <td>0</td>\n",
       "      <td>0</td>\n",
       "      <td>0</td>\n",
       "      <td>0</td>\n",
       "      <td>1</td>\n",
       "      <td>0</td>\n",
       "      <td>0</td>\n",
       "      <td>0</td>\n",
       "      <td>0</td>\n",
       "    </tr>\n",
       "    <tr>\n",
       "      <th>2</th>\n",
       "      <td>0</td>\n",
       "      <td>0</td>\n",
       "      <td>0</td>\n",
       "      <td>0</td>\n",
       "      <td>0</td>\n",
       "      <td>1</td>\n",
       "      <td>0</td>\n",
       "      <td>0</td>\n",
       "      <td>0</td>\n",
       "      <td>0</td>\n",
       "    </tr>\n",
       "    <tr>\n",
       "      <th>3</th>\n",
       "      <td>0</td>\n",
       "      <td>0</td>\n",
       "      <td>0</td>\n",
       "      <td>0</td>\n",
       "      <td>0</td>\n",
       "      <td>1</td>\n",
       "      <td>0</td>\n",
       "      <td>0</td>\n",
       "      <td>0</td>\n",
       "      <td>0</td>\n",
       "    </tr>\n",
       "    <tr>\n",
       "      <th>4</th>\n",
       "      <td>0</td>\n",
       "      <td>0</td>\n",
       "      <td>0</td>\n",
       "      <td>0</td>\n",
       "      <td>0</td>\n",
       "      <td>1</td>\n",
       "      <td>0</td>\n",
       "      <td>0</td>\n",
       "      <td>0</td>\n",
       "      <td>0</td>\n",
       "    </tr>\n",
       "  </tbody>\n",
       "</table>\n",
       "</div>"
      ],
      "text/plain": [
       "   APO  AST  ATE  CEN  IMB  MBA  MCA  OMB  TJN  TNO\n",
       "0    0    0    0    0    0    1    0    0    0    0\n",
       "1    0    0    0    0    0    1    0    0    0    0\n",
       "2    0    0    0    0    0    1    0    0    0    0\n",
       "3    0    0    0    0    0    1    0    0    0    0\n",
       "4    0    0    0    0    0    1    0    0    0    0"
      ]
     },
     "execution_count": 10,
     "metadata": {},
     "output_type": "execute_result"
    }
   ],
   "source": [
    "class_dummy = pd.get_dummies(dataset['class'], drop_first=True)\n",
    "class_dummy.head()"
   ]
  },
  {
   "cell_type": "code",
   "execution_count": 11,
   "metadata": {},
   "outputs": [
    {
     "data": {
      "text/html": [
       "<div>\n",
       "<style scoped>\n",
       "    .dataframe tbody tr th:only-of-type {\n",
       "        vertical-align: middle;\n",
       "    }\n",
       "\n",
       "    .dataframe tbody tr th {\n",
       "        vertical-align: top;\n",
       "    }\n",
       "\n",
       "    .dataframe thead th {\n",
       "        text-align: right;\n",
       "    }\n",
       "</style>\n",
       "<table border=\"1\" class=\"dataframe\">\n",
       "  <thead>\n",
       "    <tr style=\"text-align: right;\">\n",
       "      <th></th>\n",
       "      <th>a</th>\n",
       "      <th>e</th>\n",
       "      <th>i</th>\n",
       "      <th>om</th>\n",
       "      <th>w</th>\n",
       "      <th>q</th>\n",
       "      <th>ad</th>\n",
       "      <th>per_y</th>\n",
       "      <th>data_arc</th>\n",
       "      <th>condition_code</th>\n",
       "      <th>n_obs_used</th>\n",
       "      <th>H</th>\n",
       "      <th>moid</th>\n",
       "      <th>n</th>\n",
       "      <th>per</th>\n",
       "      <th>ma</th>\n",
       "      <th>Diameter</th>\n",
       "      <th>Y</th>\n",
       "      <th>Y</th>\n",
       "      <th>APO</th>\n",
       "      <th>AST</th>\n",
       "      <th>ATE</th>\n",
       "      <th>CEN</th>\n",
       "      <th>IMB</th>\n",
       "      <th>MBA</th>\n",
       "      <th>MCA</th>\n",
       "      <th>OMB</th>\n",
       "      <th>TJN</th>\n",
       "      <th>TNO</th>\n",
       "    </tr>\n",
       "  </thead>\n",
       "  <tbody>\n",
       "    <tr>\n",
       "      <th>0</th>\n",
       "      <td>2.769165</td>\n",
       "      <td>0.076009</td>\n",
       "      <td>10.594067</td>\n",
       "      <td>80.305532</td>\n",
       "      <td>73.597694</td>\n",
       "      <td>2.558684</td>\n",
       "      <td>2.979647</td>\n",
       "      <td>4.608202</td>\n",
       "      <td>8822.0</td>\n",
       "      <td>0</td>\n",
       "      <td>1002.0</td>\n",
       "      <td>11.85</td>\n",
       "      <td>1.59478</td>\n",
       "      <td>0.213885</td>\n",
       "      <td>1683.145708</td>\n",
       "      <td>77.372096</td>\n",
       "      <td>10.2</td>\n",
       "      <td>0</td>\n",
       "      <td>0</td>\n",
       "      <td>0</td>\n",
       "      <td>0</td>\n",
       "      <td>0</td>\n",
       "      <td>0</td>\n",
       "      <td>0</td>\n",
       "      <td>1</td>\n",
       "      <td>0</td>\n",
       "      <td>0</td>\n",
       "      <td>0</td>\n",
       "      <td>0</td>\n",
       "    </tr>\n",
       "    <tr>\n",
       "      <th>1</th>\n",
       "      <td>2.772466</td>\n",
       "      <td>0.230337</td>\n",
       "      <td>26.665712</td>\n",
       "      <td>173.080063</td>\n",
       "      <td>310.048857</td>\n",
       "      <td>2.133865</td>\n",
       "      <td>3.411067</td>\n",
       "      <td>4.616444</td>\n",
       "      <td>14881.5</td>\n",
       "      <td>0</td>\n",
       "      <td>2137.5</td>\n",
       "      <td>11.85</td>\n",
       "      <td>1.23324</td>\n",
       "      <td>0.213503</td>\n",
       "      <td>1686.155999</td>\n",
       "      <td>59.699133</td>\n",
       "      <td>10.2</td>\n",
       "      <td>0</td>\n",
       "      <td>0</td>\n",
       "      <td>0</td>\n",
       "      <td>0</td>\n",
       "      <td>0</td>\n",
       "      <td>0</td>\n",
       "      <td>0</td>\n",
       "      <td>1</td>\n",
       "      <td>0</td>\n",
       "      <td>0</td>\n",
       "      <td>0</td>\n",
       "      <td>0</td>\n",
       "    </tr>\n",
       "    <tr>\n",
       "      <th>2</th>\n",
       "      <td>2.669150</td>\n",
       "      <td>0.256942</td>\n",
       "      <td>12.988919</td>\n",
       "      <td>169.852760</td>\n",
       "      <td>248.138626</td>\n",
       "      <td>1.983332</td>\n",
       "      <td>3.354967</td>\n",
       "      <td>4.360814</td>\n",
       "      <td>14881.5</td>\n",
       "      <td>0</td>\n",
       "      <td>2137.5</td>\n",
       "      <td>11.85</td>\n",
       "      <td>1.03454</td>\n",
       "      <td>0.226019</td>\n",
       "      <td>1592.787285</td>\n",
       "      <td>34.925016</td>\n",
       "      <td>10.2</td>\n",
       "      <td>0</td>\n",
       "      <td>0</td>\n",
       "      <td>0</td>\n",
       "      <td>0</td>\n",
       "      <td>0</td>\n",
       "      <td>0</td>\n",
       "      <td>0</td>\n",
       "      <td>1</td>\n",
       "      <td>0</td>\n",
       "      <td>0</td>\n",
       "      <td>0</td>\n",
       "      <td>0</td>\n",
       "    </tr>\n",
       "    <tr>\n",
       "      <th>3</th>\n",
       "      <td>2.361418</td>\n",
       "      <td>0.088721</td>\n",
       "      <td>7.141771</td>\n",
       "      <td>103.810804</td>\n",
       "      <td>150.728541</td>\n",
       "      <td>2.151909</td>\n",
       "      <td>2.570926</td>\n",
       "      <td>3.628837</td>\n",
       "      <td>14881.5</td>\n",
       "      <td>0</td>\n",
       "      <td>2137.5</td>\n",
       "      <td>11.85</td>\n",
       "      <td>1.13948</td>\n",
       "      <td>0.271609</td>\n",
       "      <td>1325.432765</td>\n",
       "      <td>95.861936</td>\n",
       "      <td>10.2</td>\n",
       "      <td>0</td>\n",
       "      <td>0</td>\n",
       "      <td>0</td>\n",
       "      <td>0</td>\n",
       "      <td>0</td>\n",
       "      <td>0</td>\n",
       "      <td>0</td>\n",
       "      <td>1</td>\n",
       "      <td>0</td>\n",
       "      <td>0</td>\n",
       "      <td>0</td>\n",
       "      <td>0</td>\n",
       "    </tr>\n",
       "    <tr>\n",
       "      <th>4</th>\n",
       "      <td>2.574249</td>\n",
       "      <td>0.191095</td>\n",
       "      <td>5.366988</td>\n",
       "      <td>141.576605</td>\n",
       "      <td>358.687607</td>\n",
       "      <td>2.082324</td>\n",
       "      <td>3.066174</td>\n",
       "      <td>4.130323</td>\n",
       "      <td>14881.5</td>\n",
       "      <td>0</td>\n",
       "      <td>2137.5</td>\n",
       "      <td>11.85</td>\n",
       "      <td>1.09589</td>\n",
       "      <td>0.238632</td>\n",
       "      <td>1508.600458</td>\n",
       "      <td>282.366289</td>\n",
       "      <td>10.2</td>\n",
       "      <td>0</td>\n",
       "      <td>0</td>\n",
       "      <td>0</td>\n",
       "      <td>0</td>\n",
       "      <td>0</td>\n",
       "      <td>0</td>\n",
       "      <td>0</td>\n",
       "      <td>1</td>\n",
       "      <td>0</td>\n",
       "      <td>0</td>\n",
       "      <td>0</td>\n",
       "      <td>0</td>\n",
       "    </tr>\n",
       "  </tbody>\n",
       "</table>\n",
       "</div>"
      ],
      "text/plain": [
       "          a         e          i          om           w         q        ad  \\\n",
       "0  2.769165  0.076009  10.594067   80.305532   73.597694  2.558684  2.979647   \n",
       "1  2.772466  0.230337  26.665712  173.080063  310.048857  2.133865  3.411067   \n",
       "2  2.669150  0.256942  12.988919  169.852760  248.138626  1.983332  3.354967   \n",
       "3  2.361418  0.088721   7.141771  103.810804  150.728541  2.151909  2.570926   \n",
       "4  2.574249  0.191095   5.366988  141.576605  358.687607  2.082324  3.066174   \n",
       "\n",
       "      per_y  data_arc  condition_code  n_obs_used      H     moid         n  \\\n",
       "0  4.608202    8822.0               0      1002.0  11.85  1.59478  0.213885   \n",
       "1  4.616444   14881.5               0      2137.5  11.85  1.23324  0.213503   \n",
       "2  4.360814   14881.5               0      2137.5  11.85  1.03454  0.226019   \n",
       "3  3.628837   14881.5               0      2137.5  11.85  1.13948  0.271609   \n",
       "4  4.130323   14881.5               0      2137.5  11.85  1.09589  0.238632   \n",
       "\n",
       "           per          ma  Diameter  Y  Y  APO  AST  ATE  CEN  IMB  MBA  MCA  \\\n",
       "0  1683.145708   77.372096      10.2  0  0    0    0    0    0    0    1    0   \n",
       "1  1686.155999   59.699133      10.2  0  0    0    0    0    0    0    1    0   \n",
       "2  1592.787285   34.925016      10.2  0  0    0    0    0    0    0    1    0   \n",
       "3  1325.432765   95.861936      10.2  0  0    0    0    0    0    0    1    0   \n",
       "4  1508.600458  282.366289      10.2  0  0    0    0    0    0    0    1    0   \n",
       "\n",
       "   OMB  TJN  TNO  \n",
       "0    0    0    0  \n",
       "1    0    0    0  \n",
       "2    0    0    0  \n",
       "3    0    0    0  \n",
       "4    0    0    0  "
      ]
     },
     "execution_count": 11,
     "metadata": {},
     "output_type": "execute_result"
    }
   ],
   "source": [
    "new_data = pd.concat([dataset, neo_dummy, pha_dummy, class_dummy], axis=1)\n",
    "new_data.drop(['neo', 'pha', 'class'], axis=1, inplace=True)\n",
    "new_data.head()"
   ]
  },
  {
   "cell_type": "markdown",
   "metadata": {},
   "source": [
    "## Split Data into Train and Test Data"
   ]
  },
  {
   "cell_type": "code",
   "execution_count": 12,
   "metadata": {},
   "outputs": [],
   "source": [
    "from sklearn.model_selection import train_test_split\n",
    "X_train, X_test, y_train, y_test = train_test_split(new_data.drop('Diameter', axis=1), new_data['Diameter'], test_size=0.2, random_state=1)"
   ]
  },
  {
   "cell_type": "markdown",
   "metadata": {},
   "source": [
    "## Scaling the Data"
   ]
  },
  {
   "cell_type": "code",
   "execution_count": 13,
   "metadata": {},
   "outputs": [],
   "source": [
    "from sklearn.preprocessing import StandardScaler\n",
    "sc_scale = StandardScaler()\n",
    "X_train = sc_scale.fit_transform(X_train)\n",
    "X_test = sc_scale.transform(X_test)"
   ]
  },
  {
   "cell_type": "markdown",
   "metadata": {},
   "source": [
    "## Evaluation "
   ]
  },
  {
   "cell_type": "code",
   "execution_count": 14,
   "metadata": {},
   "outputs": [],
   "source": [
    "from sklearn.metrics import mean_absolute_error\n",
    "from sklearn.metrics import mean_squared_error\n",
    "from math import sqrt\n",
    "from sklearn.metrics import r2_score"
   ]
  },
  {
   "cell_type": "code",
   "execution_count": 15,
   "metadata": {},
   "outputs": [],
   "source": [
    "def evaluate(y_pred, y_actual):\n",
    "    mae = mean_absolute_error(y_actual, y_pred)\n",
    "    mse = mean_squared_error(y_actual, y_pred)\n",
    "    rmse = sqrt(mse)\n",
    "    r2 = r2_score(y_actual, y_pred)\n",
    "\n",
    "    print(\"Mean Absolute Error :-> \", mae)\n",
    "    print(\"Mean Squared Error :-> \", mse)\n",
    "    print(\"Root Mean Squared Error :-> \", rmse)\n",
    "    print(\"R-Square :-> \", r2)\n",
    "\n",
    "    return mae, mse, rmse, r2"
   ]
  },
  {
   "cell_type": "markdown",
   "metadata": {},
   "source": [
    "## Applying Algorithms"
   ]
  },
  {
   "cell_type": "code",
   "execution_count": 16,
   "metadata": {},
   "outputs": [],
   "source": [
    "algo_score = {}     # For Storing Algoriths name and its performance"
   ]
  },
  {
   "cell_type": "markdown",
   "metadata": {},
   "source": [
    "### RandomForest Regressor"
   ]
  },
  {
   "cell_type": "code",
   "execution_count": 17,
   "metadata": {},
   "outputs": [
    {
     "data": {
      "text/plain": [
       "RandomForestRegressor()"
      ]
     },
     "execution_count": 17,
     "metadata": {},
     "output_type": "execute_result"
    }
   ],
   "source": [
    "from sklearn.ensemble import RandomForestRegressor\n",
    "rf_reg = RandomForestRegressor()\n",
    "rf_reg.fit(X_train, y_train)"
   ]
  },
  {
   "cell_type": "code",
   "execution_count": 18,
   "metadata": {},
   "outputs": [],
   "source": [
    "y_pred_rf = rf_reg.predict(X_test)"
   ]
  },
  {
   "cell_type": "code",
   "execution_count": 19,
   "metadata": {},
   "outputs": [
    {
     "name": "stdout",
     "output_type": "stream",
     "text": [
      "Mean Absolute Error :->  0.6846960296788728\n",
      "Mean Squared Error :->  0.9340603938280014\n",
      "Root Mean Squared Error :->  0.9664679993812529\n",
      "R-Square :->  0.8104701460640636\n"
     ]
    }
   ],
   "source": [
    "mae, mse, rmse, r2 = evaluate(y_test, y_pred_rf)"
   ]
  },
  {
   "cell_type": "code",
   "execution_count": 20,
   "metadata": {},
   "outputs": [],
   "source": [
    "algo_score['Random Forest'] = r2"
   ]
  },
  {
   "cell_type": "markdown",
   "metadata": {},
   "source": [
    "### K Nearest Neighbour Regressor"
   ]
  },
  {
   "cell_type": "code",
   "execution_count": 24,
   "metadata": {},
   "outputs": [
    {
     "data": {
      "text/plain": [
       "KNeighborsRegressor(n_neighbors=4)"
      ]
     },
     "execution_count": 24,
     "metadata": {},
     "output_type": "execute_result"
    }
   ],
   "source": [
    "from sklearn.neighbors import KNeighborsRegressor\n",
    "knn = KNeighborsRegressor(n_neighbors=4)\n",
    "knn.fit(X_train, y_train)"
   ]
  },
  {
   "cell_type": "code",
   "execution_count": 25,
   "metadata": {},
   "outputs": [
    {
     "name": "stdout",
     "output_type": "stream",
     "text": [
      "Mean Absolute Error :->  0.7672460585585585\n",
      "Mean Squared Error :->  1.2024815882646758\n",
      "Root Mean Squared Error :->  1.0965772149122357\n",
      "R-Square :->  0.7538540204577808\n"
     ]
    }
   ],
   "source": [
    "y_pred_knn = knn.predict(X_test)\n",
    "mae, mse, rmse, r2 = evaluate(y_test, y_pred_knn)"
   ]
  },
  {
   "cell_type": "code",
   "execution_count": 26,
   "metadata": {},
   "outputs": [],
   "source": [
    "algo_score['K Nearest Neighbour'] = r2"
   ]
  },
  {
   "cell_type": "markdown",
   "metadata": {},
   "source": [
    "### Linear Regression"
   ]
  },
  {
   "cell_type": "code",
   "execution_count": 27,
   "metadata": {},
   "outputs": [
    {
     "data": {
      "text/plain": [
       "LinearRegression()"
      ]
     },
     "execution_count": 27,
     "metadata": {},
     "output_type": "execute_result"
    }
   ],
   "source": [
    "from sklearn.linear_model import LinearRegression\n",
    "linear_r = LinearRegression()\n",
    "linear_r.fit(X_train, y_train)"
   ]
  },
  {
   "cell_type": "code",
   "execution_count": 28,
   "metadata": {},
   "outputs": [
    {
     "name": "stdout",
     "output_type": "stream",
     "text": [
      "Mean Absolute Error :->  1.0351879503976906\n",
      "Mean Squared Error :->  1.581760120453736\n",
      "Root Mean Squared Error :->  1.2576804524416112\n",
      "R-Square :->  0.6358846067618822\n"
     ]
    }
   ],
   "source": [
    "y_pred_linear = linear_r.predict(X_test)\n",
    "mae, mse, rmse, r2 = evaluate(y_test, y_pred_linear)"
   ]
  },
  {
   "cell_type": "code",
   "execution_count": 29,
   "metadata": {},
   "outputs": [],
   "source": [
    "algo_score['Linear Regression'] = r2"
   ]
  },
  {
   "cell_type": "markdown",
   "metadata": {},
   "source": [
    "### Decision Tree Regressor"
   ]
  },
  {
   "cell_type": "code",
   "execution_count": 30,
   "metadata": {},
   "outputs": [
    {
     "data": {
      "text/plain": [
       "DecisionTreeRegressor()"
      ]
     },
     "execution_count": 30,
     "metadata": {},
     "output_type": "execute_result"
    }
   ],
   "source": [
    "from sklearn.tree import DecisionTreeRegressor\n",
    "tree = DecisionTreeRegressor()\n",
    "tree.fit(X_train, y_train)"
   ]
  },
  {
   "cell_type": "code",
   "execution_count": 31,
   "metadata": {},
   "outputs": [
    {
     "name": "stdout",
     "output_type": "stream",
     "text": [
      "Mean Absolute Error :->  0.9156096156640554\n",
      "Mean Squared Error :->  1.917691502261334\n",
      "Root Mean Squared Error :->  1.384807388145129\n",
      "R-Square :->  0.6750111802932943\n"
     ]
    }
   ],
   "source": [
    "y_pred_tree = tree.predict(X_test)\n",
    "mae, mse, rmse, r2 = evaluate(y_test, y_pred_tree)"
   ]
  },
  {
   "cell_type": "code",
   "execution_count": 32,
   "metadata": {},
   "outputs": [],
   "source": [
    "algo_score['Decision Tree'] = r2"
   ]
  },
  {
   "cell_type": "markdown",
   "metadata": {},
   "source": [
    "### XGBoost Regressor"
   ]
  },
  {
   "cell_type": "code",
   "execution_count": 33,
   "metadata": {},
   "outputs": [
    {
     "data": {
      "text/plain": [
       "XGBRegressor(base_score=0.5, booster='gbtree', colsample_bylevel=1,\n",
       "             colsample_bynode=1, colsample_bytree=1, gamma=0, gpu_id=-1,\n",
       "             importance_type='gain', interaction_constraints='',\n",
       "             learning_rate=0.300000012, max_delta_step=0, max_depth=6,\n",
       "             min_child_weight=1, missing=nan, monotone_constraints='()',\n",
       "             n_estimators=100, n_jobs=8, num_parallel_tree=1, random_state=0,\n",
       "             reg_alpha=0, reg_lambda=1, scale_pos_weight=1, subsample=1,\n",
       "             tree_method='exact', validate_parameters=1, verbosity=None)"
      ]
     },
     "execution_count": 33,
     "metadata": {},
     "output_type": "execute_result"
    }
   ],
   "source": [
    "from xgboost import XGBRegressor\n",
    "xgb_r = XGBRegressor()\n",
    "xgb_r.fit(X_train, y_train)"
   ]
  },
  {
   "cell_type": "code",
   "execution_count": 34,
   "metadata": {},
   "outputs": [
    {
     "name": "stdout",
     "output_type": "stream",
     "text": [
      "Mean Absolute Error :->  0.6988885295922876\n",
      "Mean Squared Error :->  0.947227624108515\n",
      "Root Mean Squared Error :->  0.9732561965425728\n",
      "R-Square :->  0.8101861170775692\n"
     ]
    }
   ],
   "source": [
    "y_pred_xgb = xgb_r.predict(X_test)\n",
    "mae, mse, rmse, r2 = evaluate(y_test, y_pred_xgb)"
   ]
  },
  {
   "cell_type": "code",
   "execution_count": 35,
   "metadata": {},
   "outputs": [],
   "source": [
    "algo_score['XG Boost'] = r2"
   ]
  },
  {
   "cell_type": "markdown",
   "metadata": {},
   "source": [
    "### XGBoost with Hyperparameter Optimization"
   ]
  },
  {
   "cell_type": "code",
   "execution_count": 50,
   "metadata": {},
   "outputs": [],
   "source": [
    "# Defining HyperParameters\n",
    "hyper_param = {'learning_rate':[0.290,0.30,0.301],\n",
    "    'max_depth':[4,6,8],\n",
    "    'min_child_weight':[1,3],\n",
    "    'gamma':[0,0.1,0.2],\n",
    "    'colsample_bytree':[0.9,1,1.1],\n",
    "    }"
   ]
  },
  {
   "cell_type": "markdown",
   "metadata": {},
   "source": [
    "#### Using RandomizedSearchCV for finding the best parameters"
   ]
  },
  {
   "cell_type": "code",
   "execution_count": 51,
   "metadata": {},
   "outputs": [],
   "source": [
    "from sklearn.model_selection import RandomizedSearchCV\n",
    "random_search = RandomizedSearchCV(xgb_r,param_distributions=hyper_param,n_jobs=-1, scoring=\"neg_mean_squared_error\",cv=4, verbose=3, random_state=10)"
   ]
  },
  {
   "cell_type": "code",
   "execution_count": 52,
   "metadata": {},
   "outputs": [
    {
     "name": "stdout",
     "output_type": "stream",
     "text": [
      "Fitting 4 folds for each of 10 candidates, totalling 40 fits\n"
     ]
    },
    {
     "data": {
      "text/plain": [
       "RandomizedSearchCV(cv=4,\n",
       "                   estimator=XGBRegressor(base_score=0.5, booster='gbtree',\n",
       "                                          colsample_bylevel=1,\n",
       "                                          colsample_bynode=1,\n",
       "                                          colsample_bytree=1, gamma=0,\n",
       "                                          gpu_id=-1, importance_type='gain',\n",
       "                                          interaction_constraints='',\n",
       "                                          learning_rate=0.300000012,\n",
       "                                          max_delta_step=0, max_depth=6,\n",
       "                                          min_child_weight=1, missing=nan,\n",
       "                                          monotone_constraints='()',\n",
       "                                          n_estimators=100, n_jobs=8,\n",
       "                                          num_par..., random_state=0,\n",
       "                                          reg_alpha=0, reg_lambda=1,\n",
       "                                          scale_pos_weight=1, subsample=1,\n",
       "                                          tree_method='exact',\n",
       "                                          validate_parameters=1,\n",
       "                                          verbosity=None),\n",
       "                   n_jobs=-1,\n",
       "                   param_distributions={'colsample_bytree': [0.9, 1, 1.1],\n",
       "                                        'gamma': [0, 0.1, 0.2],\n",
       "                                        'learning_rate': [0.29, 0.3, 0.301],\n",
       "                                        'max_depth': [4, 6, 8],\n",
       "                                        'min_child_weight': [1, 3]},\n",
       "                   random_state=10, scoring='neg_mean_squared_error',\n",
       "                   verbose=3)"
      ]
     },
     "execution_count": 52,
     "metadata": {},
     "output_type": "execute_result"
    }
   ],
   "source": [
    "random_search.fit(X_train,y_train)"
   ]
  },
  {
   "cell_type": "code",
   "execution_count": 55,
   "metadata": {},
   "outputs": [
    {
     "name": "stdout",
     "output_type": "stream",
     "text": [
      "Best Parameters found are : \n"
     ]
    },
    {
     "data": {
      "text/plain": [
       "{'min_child_weight': 1,\n",
       " 'max_depth': 8,\n",
       " 'learning_rate': 0.29,\n",
       " 'gamma': 0,\n",
       " 'colsample_bytree': 1}"
      ]
     },
     "execution_count": 55,
     "metadata": {},
     "output_type": "execute_result"
    }
   ],
   "source": [
    "print(\"Best Parameters found are : \")\n",
    "random_search.best_params_"
   ]
  },
  {
   "cell_type": "code",
   "execution_count": 56,
   "metadata": {},
   "outputs": [
    {
     "name": "stdout",
     "output_type": "stream",
     "text": [
      "Mean Absolute Error :->  0.6877365244554777\n",
      "Mean Squared Error :->  0.9396361078429152\n",
      "Root Mean Squared Error :->  0.9693482902666695\n",
      "R-Square :->  0.8140431669907069\n"
     ]
    }
   ],
   "source": [
    "y_pred_xgb_opt = random_search.predict(X_test)\n",
    "mae, mse, rmse, r2 = evaluate(y_test, y_pred_xgb_opt)"
   ]
  },
  {
   "cell_type": "code",
   "execution_count": 57,
   "metadata": {},
   "outputs": [],
   "source": [
    "algo_score['Optimized XG Boost'] = r2"
   ]
  },
  {
   "cell_type": "markdown",
   "metadata": {},
   "source": [
    "### Artificial Neural Network"
   ]
  },
  {
   "cell_type": "code",
   "execution_count": 36,
   "metadata": {},
   "outputs": [],
   "source": [
    "from keras.models import Sequential\n",
    "from keras.layers import Dense"
   ]
  },
  {
   "cell_type": "code",
   "execution_count": 37,
   "metadata": {},
   "outputs": [],
   "source": [
    "ann = Sequential()\n",
    "ann.add(Dense(input_dim=X_train.shape[1], units=12, kernel_initializer=\"he_uniform\", activation=\"relu\"))\n",
    "ann.add(Dense(units=10, kernel_initializer=\"he_uniform\", activation=\"relu\"))\n",
    "ann.add(Dense(units=1, activation='relu'))"
   ]
  },
  {
   "cell_type": "code",
   "execution_count": 38,
   "metadata": {},
   "outputs": [
    {
     "name": "stdout",
     "output_type": "stream",
     "text": [
      "Model: \"sequential\"\n",
      "_________________________________________________________________\n",
      "Layer (type)                 Output Shape              Param #   \n",
      "=================================================================\n",
      "dense (Dense)                (None, 12)                348       \n",
      "_________________________________________________________________\n",
      "dense_1 (Dense)              (None, 10)                130       \n",
      "_________________________________________________________________\n",
      "dense_2 (Dense)              (None, 1)                 11        \n",
      "=================================================================\n",
      "Total params: 489\n",
      "Trainable params: 489\n",
      "Non-trainable params: 0\n",
      "_________________________________________________________________\n"
     ]
    }
   ],
   "source": [
    "ann.summary()"
   ]
  },
  {
   "cell_type": "code",
   "execution_count": 39,
   "metadata": {},
   "outputs": [],
   "source": [
    "ann.compile(optimizer='adam', loss='mean_squared_error')"
   ]
  },
  {
   "cell_type": "code",
   "execution_count": 40,
   "metadata": {},
   "outputs": [
    {
     "name": "stdout",
     "output_type": "stream",
     "text": [
      "Epoch 1/200\n",
      "771/771 [==============================] - 1s 1ms/step - loss: 3.5273 - val_loss: 1.6300\n",
      "Epoch 2/200\n",
      "771/771 [==============================] - 1s 2ms/step - loss: 1.4480 - val_loss: 1.3558\n",
      "Epoch 3/200\n",
      "771/771 [==============================] - 1s 1ms/step - loss: 1.3224 - val_loss: 1.2933\n",
      "Epoch 4/200\n",
      "771/771 [==============================] - 1s 1ms/step - loss: 1.2816 - val_loss: 1.2663\n",
      "Epoch 5/200\n",
      "771/771 [==============================] - 1s 2ms/step - loss: 1.2596 - val_loss: 1.2466\n",
      "Epoch 6/200\n",
      "771/771 [==============================] - 1s 1ms/step - loss: 1.2416 - val_loss: 1.2357\n",
      "Epoch 7/200\n",
      "771/771 [==============================] - 1s 942us/step - loss: 1.2283 - val_loss: 1.2262\n",
      "Epoch 8/200\n",
      "771/771 [==============================] - 1s 1ms/step - loss: 1.2201 - val_loss: 1.2103\n",
      "Epoch 9/200\n",
      "771/771 [==============================] - 1s 1ms/step - loss: 1.2030 - val_loss: 1.1941\n",
      "Epoch 10/200\n",
      "771/771 [==============================] - 1s 1ms/step - loss: 1.1911 - val_loss: 1.1804\n",
      "Epoch 11/200\n",
      "771/771 [==============================] - 1s 1ms/step - loss: 1.1803 - val_loss: 1.1776\n",
      "Epoch 12/200\n",
      "771/771 [==============================] - 1s 1ms/step - loss: 1.1648 - val_loss: 1.1576\n",
      "Epoch 13/200\n",
      "771/771 [==============================] - 1s 914us/step - loss: 1.1516 - val_loss: 1.1572\n",
      "Epoch 14/200\n",
      "771/771 [==============================] - 1s 1ms/step - loss: 1.1424 - val_loss: 1.1452\n",
      "Epoch 15/200\n",
      "771/771 [==============================] - 1s 1ms/step - loss: 1.1349 - val_loss: 1.1304\n",
      "Epoch 16/200\n",
      "771/771 [==============================] - 1s 1ms/step - loss: 1.1309 - val_loss: 1.1449\n",
      "Epoch 17/200\n",
      "771/771 [==============================] - 1s 1ms/step - loss: 1.1290 - val_loss: 1.1280\n",
      "Epoch 18/200\n",
      "771/771 [==============================] - 1s 912us/step - loss: 1.1232 - val_loss: 1.1198\n",
      "Epoch 19/200\n",
      "771/771 [==============================] - 1s 884us/step - loss: 1.1244 - val_loss: 1.1162\n",
      "Epoch 20/200\n",
      "771/771 [==============================] - 1s 1ms/step - loss: 1.1210 - val_loss: 1.1230\n",
      "Epoch 21/200\n",
      "771/771 [==============================] - 1s 1ms/step - loss: 1.1169 - val_loss: 1.1177\n",
      "Epoch 22/200\n",
      "771/771 [==============================] - 1s 1ms/step - loss: 1.1159 - val_loss: 1.1167\n",
      "Epoch 23/200\n",
      "771/771 [==============================] - 1s 818us/step - loss: 1.1154 - val_loss: 1.1106\n",
      "Epoch 24/200\n",
      "771/771 [==============================] - 1s 832us/step - loss: 1.1152 - val_loss: 1.1131\n",
      "Epoch 25/200\n",
      "771/771 [==============================] - 1s 855us/step - loss: 1.1141 - val_loss: 1.1078\n",
      "Epoch 26/200\n",
      "771/771 [==============================] - 1s 827us/step - loss: 1.1101 - val_loss: 1.1122\n",
      "Epoch 27/200\n",
      "771/771 [==============================] - 1s 819us/step - loss: 1.1092 - val_loss: 1.1043\n",
      "Epoch 28/200\n",
      "771/771 [==============================] - 1s 853us/step - loss: 1.1103 - val_loss: 1.1051\n",
      "Epoch 29/200\n",
      "771/771 [==============================] - 1s 827us/step - loss: 1.1088 - val_loss: 1.1105\n",
      "Epoch 30/200\n",
      "771/771 [==============================] - 1s 892us/step - loss: 1.1067 - val_loss: 1.1076\n",
      "Epoch 31/200\n",
      "771/771 [==============================] - 1s 832us/step - loss: 1.1074 - val_loss: 1.1017\n",
      "Epoch 32/200\n",
      "771/771 [==============================] - 1s 809us/step - loss: 1.1068 - val_loss: 1.1021\n",
      "Epoch 33/200\n",
      "771/771 [==============================] - 1s 803us/step - loss: 1.1033 - val_loss: 1.1099\n",
      "Epoch 34/200\n",
      "771/771 [==============================] - 1s 829us/step - loss: 1.1034 - val_loss: 1.1018\n",
      "Epoch 35/200\n",
      "771/771 [==============================] - 1s 818us/step - loss: 1.1018 - val_loss: 1.1115\n",
      "Epoch 36/200\n",
      "771/771 [==============================] - 1s 835us/step - loss: 1.1047 - val_loss: 1.1125\n",
      "Epoch 37/200\n",
      "771/771 [==============================] - 1s 835us/step - loss: 1.1016 - val_loss: 1.1034\n",
      "Epoch 38/200\n",
      "771/771 [==============================] - 1s 832us/step - loss: 1.0998 - val_loss: 1.0949\n",
      "Epoch 39/200\n",
      "771/771 [==============================] - 1s 807us/step - loss: 1.0988 - val_loss: 1.0991\n",
      "Epoch 40/200\n",
      "771/771 [==============================] - 1s 823us/step - loss: 1.0970 - val_loss: 1.0937\n",
      "Epoch 41/200\n",
      "771/771 [==============================] - 1s 816us/step - loss: 1.0997 - val_loss: 1.1029\n",
      "Epoch 42/200\n",
      "771/771 [==============================] - 1s 827us/step - loss: 1.0978 - val_loss: 1.0938\n",
      "Epoch 43/200\n",
      "771/771 [==============================] - 1s 849us/step - loss: 1.0955 - val_loss: 1.1002\n",
      "Epoch 44/200\n",
      "771/771 [==============================] - 1s 853us/step - loss: 1.0959 - val_loss: 1.1005\n",
      "Epoch 45/200\n",
      "771/771 [==============================] - 1s 822us/step - loss: 1.0944 - val_loss: 1.0929\n",
      "Epoch 46/200\n",
      "771/771 [==============================] - 1s 806us/step - loss: 1.0935 - val_loss: 1.0947\n",
      "Epoch 47/200\n",
      "771/771 [==============================] - 1s 811us/step - loss: 1.0962 - val_loss: 1.0985\n",
      "Epoch 48/200\n",
      "771/771 [==============================] - 1s 823us/step - loss: 1.0937 - val_loss: 1.0906\n",
      "Epoch 49/200\n",
      "771/771 [==============================] - 1s 812us/step - loss: 1.0934 - val_loss: 1.0936\n",
      "Epoch 50/200\n",
      "771/771 [==============================] - 1s 820us/step - loss: 1.0926 - val_loss: 1.0917\n",
      "Epoch 51/200\n",
      "771/771 [==============================] - 1s 822us/step - loss: 1.0911 - val_loss: 1.0915\n",
      "Epoch 52/200\n",
      "771/771 [==============================] - 1s 815us/step - loss: 1.0916 - val_loss: 1.0935\n",
      "Epoch 53/200\n",
      "771/771 [==============================] - 1s 821us/step - loss: 1.0914 - val_loss: 1.0899\n",
      "Epoch 54/200\n",
      "771/771 [==============================] - 1s 839us/step - loss: 1.0911 - val_loss: 1.0893\n",
      "Epoch 55/200\n",
      "771/771 [==============================] - 1s 823us/step - loss: 1.0894 - val_loss: 1.0950\n",
      "Epoch 56/200\n",
      "771/771 [==============================] - 1s 824us/step - loss: 1.0897 - val_loss: 1.0876\n",
      "Epoch 57/200\n",
      "771/771 [==============================] - 1s 896us/step - loss: 1.0913 - val_loss: 1.0856\n",
      "Epoch 58/200\n",
      "771/771 [==============================] - 1s 791us/step - loss: 1.0904 - val_loss: 1.0950\n",
      "Epoch 59/200\n",
      "771/771 [==============================] - 1s 823us/step - loss: 1.0883 - val_loss: 1.0846\n",
      "Epoch 60/200\n",
      "771/771 [==============================] - 1s 826us/step - loss: 1.0892 - val_loss: 1.0954\n",
      "Epoch 61/200\n",
      "771/771 [==============================] - 1s 805us/step - loss: 1.0884 - val_loss: 1.0867\n",
      "Epoch 62/200\n",
      "771/771 [==============================] - 1s 818us/step - loss: 1.0890 - val_loss: 1.0919\n",
      "Epoch 63/200\n",
      "771/771 [==============================] - 1s 829us/step - loss: 1.0875 - val_loss: 1.0872\n",
      "Epoch 64/200\n",
      "771/771 [==============================] - 1s 803us/step - loss: 1.0862 - val_loss: 1.0871\n",
      "Epoch 65/200\n",
      "771/771 [==============================] - 1s 831us/step - loss: 1.0884 - val_loss: 1.0928\n",
      "Epoch 66/200\n",
      "771/771 [==============================] - 1s 820us/step - loss: 1.0866 - val_loss: 1.0880\n",
      "Epoch 67/200\n",
      "771/771 [==============================] - 1s 809us/step - loss: 1.0869 - val_loss: 1.0858\n",
      "Epoch 68/200\n",
      "771/771 [==============================] - 1s 821us/step - loss: 1.0868 - val_loss: 1.0844\n",
      "Epoch 69/200\n",
      "771/771 [==============================] - 1s 809us/step - loss: 1.0855 - val_loss: 1.0857\n",
      "Epoch 70/200\n",
      "771/771 [==============================] - 1s 847us/step - loss: 1.0881 - val_loss: 1.0881\n",
      "Epoch 71/200\n",
      "771/771 [==============================] - 1s 829us/step - loss: 1.0853 - val_loss: 1.0849\n",
      "Epoch 72/200\n",
      "771/771 [==============================] - 1s 824us/step - loss: 1.0848 - val_loss: 1.0863\n",
      "Epoch 73/200\n",
      "771/771 [==============================] - 1s 827us/step - loss: 1.0846 - val_loss: 1.0874\n",
      "Epoch 74/200\n",
      "771/771 [==============================] - 1s 807us/step - loss: 1.0853 - val_loss: 1.0813\n",
      "Epoch 75/200\n",
      "771/771 [==============================] - 1s 823us/step - loss: 1.0855 - val_loss: 1.0822\n",
      "Epoch 76/200\n",
      "771/771 [==============================] - 1s 847us/step - loss: 1.0859 - val_loss: 1.0831\n",
      "Epoch 77/200\n",
      "771/771 [==============================] - 1s 798us/step - loss: 1.0854 - val_loss: 1.0890\n",
      "Epoch 78/200\n",
      "771/771 [==============================] - 1s 817us/step - loss: 1.0840 - val_loss: 1.0865\n",
      "Epoch 79/200\n",
      "771/771 [==============================] - 1s 818us/step - loss: 1.0839 - val_loss: 1.0834\n",
      "Epoch 80/200\n",
      "771/771 [==============================] - 1s 812us/step - loss: 1.0829 - val_loss: 1.0830\n",
      "Epoch 81/200\n",
      "771/771 [==============================] - 1s 823us/step - loss: 1.0827 - val_loss: 1.0835\n",
      "Epoch 82/200\n",
      "771/771 [==============================] - 1s 817us/step - loss: 1.0839 - val_loss: 1.0882\n",
      "Epoch 83/200\n",
      "771/771 [==============================] - 1s 864us/step - loss: 1.0828 - val_loss: 1.0802\n",
      "Epoch 84/200\n",
      "771/771 [==============================] - 1s 803us/step - loss: 1.0830 - val_loss: 1.0840\n",
      "Epoch 85/200\n",
      "771/771 [==============================] - 1s 815us/step - loss: 1.0825 - val_loss: 1.0812\n",
      "Epoch 86/200\n",
      "771/771 [==============================] - 1s 826us/step - loss: 1.0823 - val_loss: 1.0793\n",
      "Epoch 87/200\n",
      "771/771 [==============================] - 1s 825us/step - loss: 1.0819 - val_loss: 1.0782\n",
      "Epoch 88/200\n",
      "771/771 [==============================] - 1s 822us/step - loss: 1.0827 - val_loss: 1.0819\n",
      "Epoch 89/200\n",
      "771/771 [==============================] - 1s 800us/step - loss: 1.0811 - val_loss: 1.0806\n",
      "Epoch 90/200\n",
      "771/771 [==============================] - 1s 816us/step - loss: 1.0816 - val_loss: 1.0980\n",
      "Epoch 91/200\n",
      "771/771 [==============================] - 1s 818us/step - loss: 1.0821 - val_loss: 1.0819\n",
      "Epoch 92/200\n",
      "771/771 [==============================] - 1s 817us/step - loss: 1.0806 - val_loss: 1.0805\n",
      "Epoch 93/200\n",
      "771/771 [==============================] - 1s 795us/step - loss: 1.0812 - val_loss: 1.0760\n",
      "Epoch 94/200\n",
      "771/771 [==============================] - 1s 823us/step - loss: 1.0808 - val_loss: 1.0856\n",
      "Epoch 95/200\n",
      "771/771 [==============================] - 1s 807us/step - loss: 1.0817 - val_loss: 1.0813\n",
      "Epoch 96/200\n",
      "771/771 [==============================] - 1s 820us/step - loss: 1.0807 - val_loss: 1.0803\n",
      "Epoch 97/200\n",
      "771/771 [==============================] - 1s 890us/step - loss: 1.0795 - val_loss: 1.0865\n",
      "Epoch 98/200\n",
      "771/771 [==============================] - 1s 823us/step - loss: 1.0790 - val_loss: 1.0820\n",
      "Epoch 99/200\n",
      "771/771 [==============================] - 1s 792us/step - loss: 1.0804 - val_loss: 1.0760\n",
      "Epoch 100/200\n",
      "771/771 [==============================] - 1s 819us/step - loss: 1.0788 - val_loss: 1.0833\n",
      "Epoch 101/200\n",
      "771/771 [==============================] - 1s 822us/step - loss: 1.0781 - val_loss: 1.0801\n",
      "Epoch 102/200\n",
      "771/771 [==============================] - 1s 808us/step - loss: 1.0782 - val_loss: 1.0795\n",
      "Epoch 103/200\n",
      "771/771 [==============================] - 1s 804us/step - loss: 1.0782 - val_loss: 1.0751\n",
      "Epoch 104/200\n",
      "771/771 [==============================] - 1s 815us/step - loss: 1.0785 - val_loss: 1.0789\n",
      "Epoch 105/200\n",
      "771/771 [==============================] - 1s 801us/step - loss: 1.0786 - val_loss: 1.0790\n",
      "Epoch 106/200\n",
      "771/771 [==============================] - 1s 829us/step - loss: 1.0792 - val_loss: 1.0797\n",
      "Epoch 107/200\n",
      "771/771 [==============================] - 1s 826us/step - loss: 1.0766 - val_loss: 1.0857\n",
      "Epoch 108/200\n",
      "771/771 [==============================] - 1s 794us/step - loss: 1.0773 - val_loss: 1.0796\n",
      "Epoch 109/200\n",
      "771/771 [==============================] - 1s 796us/step - loss: 1.0784 - val_loss: 1.0852\n",
      "Epoch 110/200\n",
      "771/771 [==============================] - 1s 834us/step - loss: 1.0780 - val_loss: 1.0769\n",
      "Epoch 111/200\n",
      "771/771 [==============================] - 1s 853us/step - loss: 1.0772 - val_loss: 1.0772\n",
      "Epoch 112/200\n",
      "771/771 [==============================] - 1s 813us/step - loss: 1.0777 - val_loss: 1.0771\n",
      "Epoch 113/200\n",
      "771/771 [==============================] - 1s 814us/step - loss: 1.0769 - val_loss: 1.0796\n",
      "Epoch 114/200\n",
      "771/771 [==============================] - 1s 816us/step - loss: 1.0766 - val_loss: 1.0769\n",
      "Epoch 115/200\n",
      "771/771 [==============================] - 1s 799us/step - loss: 1.0800 - val_loss: 1.0729\n",
      "Epoch 116/200\n",
      "771/771 [==============================] - 1s 803us/step - loss: 1.0774 - val_loss: 1.0813\n",
      "Epoch 117/200\n",
      "771/771 [==============================] - 1s 817us/step - loss: 1.0756 - val_loss: 1.0795\n",
      "Epoch 118/200\n",
      "771/771 [==============================] - 1s 819us/step - loss: 1.0763 - val_loss: 1.0746\n",
      "Epoch 119/200\n",
      "771/771 [==============================] - 1s 813us/step - loss: 1.0767 - val_loss: 1.0773\n",
      "Epoch 120/200\n",
      "771/771 [==============================] - 1s 802us/step - loss: 1.0754 - val_loss: 1.0739\n",
      "Epoch 121/200\n",
      "771/771 [==============================] - 1s 834us/step - loss: 1.0749 - val_loss: 1.0762\n",
      "Epoch 122/200\n",
      "771/771 [==============================] - 1s 820us/step - loss: 1.0767 - val_loss: 1.0754\n",
      "Epoch 123/200\n",
      "771/771 [==============================] - 1s 851us/step - loss: 1.0755 - val_loss: 1.0746\n",
      "Epoch 124/200\n",
      "771/771 [==============================] - 1s 815us/step - loss: 1.0755 - val_loss: 1.0775\n",
      "Epoch 125/200\n",
      "771/771 [==============================] - 1s 837us/step - loss: 1.0748 - val_loss: 1.0758\n",
      "Epoch 126/200\n",
      "771/771 [==============================] - 1s 818us/step - loss: 1.0761 - val_loss: 1.0746\n",
      "Epoch 127/200\n",
      "771/771 [==============================] - 1s 795us/step - loss: 1.0757 - val_loss: 1.0775\n",
      "Epoch 128/200\n",
      "771/771 [==============================] - 1s 806us/step - loss: 1.0755 - val_loss: 1.0727\n",
      "Epoch 129/200\n",
      "771/771 [==============================] - 1s 803us/step - loss: 1.0737 - val_loss: 1.0775\n",
      "Epoch 130/200\n",
      "771/771 [==============================] - 1s 820us/step - loss: 1.0753 - val_loss: 1.0843\n",
      "Epoch 131/200\n",
      "771/771 [==============================] - 1s 825us/step - loss: 1.0753 - val_loss: 1.0741\n",
      "Epoch 132/200\n",
      "771/771 [==============================] - 1s 797us/step - loss: 1.0740 - val_loss: 1.0711\n",
      "Epoch 133/200\n",
      "771/771 [==============================] - 1s 821us/step - loss: 1.0738 - val_loss: 1.0734\n",
      "Epoch 134/200\n",
      "771/771 [==============================] - 1s 792us/step - loss: 1.0733 - val_loss: 1.0727\n",
      "Epoch 135/200\n",
      "771/771 [==============================] - 1s 827us/step - loss: 1.0744 - val_loss: 1.0775\n",
      "Epoch 136/200\n",
      "771/771 [==============================] - 1s 872us/step - loss: 1.0743 - val_loss: 1.0758\n",
      "Epoch 137/200\n",
      "771/771 [==============================] - 1s 816us/step - loss: 1.0729 - val_loss: 1.0791\n",
      "Epoch 138/200\n",
      "771/771 [==============================] - 1s 804us/step - loss: 1.0747 - val_loss: 1.0871\n",
      "Epoch 139/200\n",
      "771/771 [==============================] - 1s 825us/step - loss: 1.0740 - val_loss: 1.0752\n",
      "Epoch 140/200\n",
      "771/771 [==============================] - 1s 874us/step - loss: 1.0735 - val_loss: 1.0739\n",
      "Epoch 141/200\n",
      "771/771 [==============================] - 1s 880us/step - loss: 1.0740 - val_loss: 1.0745\n",
      "Epoch 142/200\n",
      "771/771 [==============================] - 1s 887us/step - loss: 1.0729 - val_loss: 1.0767\n",
      "Epoch 143/200\n",
      "771/771 [==============================] - 1s 920us/step - loss: 1.0728 - val_loss: 1.0813\n",
      "Epoch 144/200\n",
      "771/771 [==============================] - 1s 934us/step - loss: 1.0727 - val_loss: 1.0741\n",
      "Epoch 145/200\n",
      "771/771 [==============================] - 1s 909us/step - loss: 1.0738 - val_loss: 1.0767\n",
      "Epoch 146/200\n",
      "771/771 [==============================] - 1s 878us/step - loss: 1.0722 - val_loss: 1.0778\n",
      "Epoch 147/200\n",
      "771/771 [==============================] - 1s 870us/step - loss: 1.0729 - val_loss: 1.0731\n",
      "Epoch 148/200\n",
      "771/771 [==============================] - 1s 896us/step - loss: 1.0723 - val_loss: 1.0728\n",
      "Epoch 149/200\n",
      "771/771 [==============================] - 1s 888us/step - loss: 1.0712 - val_loss: 1.0702\n",
      "Epoch 150/200\n",
      "771/771 [==============================] - 1s 974us/step - loss: 1.0723 - val_loss: 1.0771\n",
      "Epoch 151/200\n",
      "771/771 [==============================] - 1s 895us/step - loss: 1.0712 - val_loss: 1.0740\n",
      "Epoch 152/200\n",
      "771/771 [==============================] - 1s 884us/step - loss: 1.0726 - val_loss: 1.0693\n",
      "Epoch 153/200\n",
      "771/771 [==============================] - 1s 895us/step - loss: 1.0724 - val_loss: 1.0706\n",
      "Epoch 154/200\n",
      "771/771 [==============================] - 1s 891us/step - loss: 1.0717 - val_loss: 1.0742\n",
      "Epoch 155/200\n",
      "771/771 [==============================] - 1s 895us/step - loss: 1.0709 - val_loss: 1.0740\n",
      "Epoch 156/200\n",
      "771/771 [==============================] - 1s 879us/step - loss: 1.0706 - val_loss: 1.0673\n",
      "Epoch 157/200\n",
      "771/771 [==============================] - 1s 904us/step - loss: 1.0703 - val_loss: 1.0716\n",
      "Epoch 158/200\n",
      "771/771 [==============================] - 1s 908us/step - loss: 1.0705 - val_loss: 1.0834\n",
      "Epoch 159/200\n",
      "771/771 [==============================] - 1s 928us/step - loss: 1.0703 - val_loss: 1.0713\n",
      "Epoch 160/200\n",
      "771/771 [==============================] - 1s 876us/step - loss: 1.0697 - val_loss: 1.0732\n",
      "Epoch 161/200\n",
      "771/771 [==============================] - 1s 892us/step - loss: 1.0701 - val_loss: 1.0815\n",
      "Epoch 162/200\n",
      "771/771 [==============================] - 1s 975us/step - loss: 1.0701 - val_loss: 1.0740\n",
      "Epoch 163/200\n",
      "771/771 [==============================] - 1s 899us/step - loss: 1.0709 - val_loss: 1.0690\n",
      "Epoch 164/200\n",
      "771/771 [==============================] - 1s 873us/step - loss: 1.0704 - val_loss: 1.0790\n",
      "Epoch 165/200\n",
      "771/771 [==============================] - 1s 887us/step - loss: 1.0700 - val_loss: 1.0680\n",
      "Epoch 166/200\n",
      "771/771 [==============================] - 1s 905us/step - loss: 1.0694 - val_loss: 1.0674\n",
      "Epoch 167/200\n",
      "771/771 [==============================] - 1s 889us/step - loss: 1.0698 - val_loss: 1.0782\n",
      "Epoch 168/200\n",
      "771/771 [==============================] - 1s 905us/step - loss: 1.0707 - val_loss: 1.0783\n",
      "Epoch 169/200\n",
      "771/771 [==============================] - 1s 885us/step - loss: 1.0698 - val_loss: 1.0702\n",
      "Epoch 170/200\n",
      "771/771 [==============================] - 1s 879us/step - loss: 1.0679 - val_loss: 1.0679\n",
      "Epoch 171/200\n",
      "771/771 [==============================] - 1s 900us/step - loss: 1.0686 - val_loss: 1.0710\n",
      "Epoch 172/200\n",
      "771/771 [==============================] - 1s 877us/step - loss: 1.0686 - val_loss: 1.0706\n",
      "Epoch 173/200\n",
      "771/771 [==============================] - 1s 911us/step - loss: 1.0685 - val_loss: 1.0701\n",
      "Epoch 174/200\n",
      "771/771 [==============================] - 1s 883us/step - loss: 1.0681 - val_loss: 1.0704\n",
      "Epoch 175/200\n",
      "771/771 [==============================] - 1s 1ms/step - loss: 1.0692 - val_loss: 1.0675\n",
      "Epoch 176/200\n",
      "771/771 [==============================] - 1s 897us/step - loss: 1.0688 - val_loss: 1.0708\n",
      "Epoch 177/200\n",
      "771/771 [==============================] - 1s 876us/step - loss: 1.0682 - val_loss: 1.0674\n",
      "Epoch 178/200\n",
      "771/771 [==============================] - 1s 886us/step - loss: 1.0681 - val_loss: 1.0684\n",
      "Epoch 179/200\n",
      "771/771 [==============================] - 1s 877us/step - loss: 1.0682 - val_loss: 1.0699\n",
      "Epoch 180/200\n",
      "771/771 [==============================] - 1s 883us/step - loss: 1.0680 - val_loss: 1.0737\n",
      "Epoch 181/200\n",
      "771/771 [==============================] - 1s 893us/step - loss: 1.0674 - val_loss: 1.0648\n",
      "Epoch 182/200\n",
      "771/771 [==============================] - 1s 898us/step - loss: 1.0676 - val_loss: 1.0705\n",
      "Epoch 183/200\n",
      "771/771 [==============================] - 1s 896us/step - loss: 1.0673 - val_loss: 1.0678\n",
      "Epoch 184/200\n",
      "771/771 [==============================] - 1s 878us/step - loss: 1.0672 - val_loss: 1.0763\n",
      "Epoch 185/200\n",
      "771/771 [==============================] - 1s 886us/step - loss: 1.0680 - val_loss: 1.0782\n",
      "Epoch 186/200\n",
      "771/771 [==============================] - 1s 874us/step - loss: 1.0680 - val_loss: 1.0747\n",
      "Epoch 187/200\n",
      "771/771 [==============================] - 1s 886us/step - loss: 1.0662 - val_loss: 1.0800\n",
      "Epoch 188/200\n",
      "771/771 [==============================] - 1s 873us/step - loss: 1.0681 - val_loss: 1.0680\n",
      "Epoch 189/200\n",
      "771/771 [==============================] - 1s 975us/step - loss: 1.0672 - val_loss: 1.0679\n",
      "Epoch 190/200\n",
      "771/771 [==============================] - 1s 894us/step - loss: 1.0661 - val_loss: 1.0804\n",
      "Epoch 191/200\n",
      "771/771 [==============================] - 1s 883us/step - loss: 1.0655 - val_loss: 1.0756\n",
      "Epoch 192/200\n",
      "771/771 [==============================] - 1s 882us/step - loss: 1.0654 - val_loss: 1.0752\n",
      "Epoch 193/200\n",
      "771/771 [==============================] - 1s 873us/step - loss: 1.0670 - val_loss: 1.0780\n",
      "Epoch 194/200\n",
      "771/771 [==============================] - 1s 891us/step - loss: 1.0653 - val_loss: 1.0732\n",
      "Epoch 195/200\n",
      "771/771 [==============================] - 1s 883us/step - loss: 1.0676 - val_loss: 1.0794\n",
      "Epoch 196/200\n",
      "771/771 [==============================] - 1s 887us/step - loss: 1.0663 - val_loss: 1.0707\n",
      "Epoch 197/200\n",
      "771/771 [==============================] - 1s 887us/step - loss: 1.0656 - val_loss: 1.0738\n",
      "Epoch 198/200\n",
      "771/771 [==============================] - 1s 881us/step - loss: 1.0666 - val_loss: 1.0748\n",
      "Epoch 199/200\n",
      "771/771 [==============================] - 1s 894us/step - loss: 1.0651 - val_loss: 1.0779\n",
      "Epoch 200/200\n",
      "771/771 [==============================] - 1s 881us/step - loss: 1.0651 - val_loss: 1.0703\n"
     ]
    }
   ],
   "source": [
    "ann_r = ann.fit(X_train, y_train, validation_split=0.3, epochs=200, batch_size=100)"
   ]
  },
  {
   "cell_type": "code",
   "execution_count": 41,
   "metadata": {},
   "outputs": [
    {
     "name": "stdout",
     "output_type": "stream",
     "text": [
      "Mean Absolute Error :->  0.7596266918177867\n",
      "Mean Squared Error :->  1.0591658087561415\n",
      "Root Mean Squared Error :->  1.0291578152820595\n",
      "R-Square :->  0.7790035758287919\n"
     ]
    }
   ],
   "source": [
    "y_pred_ann = ann.predict(X_test)\n",
    "mae, mse, rmse, r2 = evaluate(y_test, y_pred_ann)"
   ]
  },
  {
   "cell_type": "code",
   "execution_count": 42,
   "metadata": {},
   "outputs": [],
   "source": [
    "algo_score['ANN'] = r2"
   ]
  },
  {
   "cell_type": "markdown",
   "metadata": {},
   "source": [
    "## Accuracy of Algorithms"
   ]
  },
  {
   "cell_type": "code",
   "execution_count": 58,
   "metadata": {},
   "outputs": [
    {
     "data": {
      "image/png": "[encoded data removed]",
      "text/plain": [
       "<Figure size 1440x576 with 1 Axes>"
      ]
     },
     "metadata": {
      "needs_background": "light"
     },
     "output_type": "display_data"
    }
   ],
   "source": [
    "plt.figure(figsize=(20,8))\n",
    "sns.barplot(x=list(algo_score.keys()), y=list(algo_score.values()))\n",
    "plt.title(\"Algorithms Performance\")\n",
    "plt.xlabel(\"Algorithms\")\n",
    "plt.ylabel(\"R-Squared Values\")\n",
    "plt.show()"
   ]
  },
  {
   "cell_type": "code",
   "execution_count": 59,
   "metadata": {},
   "outputs": [
    {
     "name": "stdout",
     "output_type": "stream",
     "text": [
      "Random Forest ---> 0.8104701460640636\n",
      "K Nearest Neighbour ---> 0.7538540204577808\n",
      "Linear Regression ---> 0.6358846067618822\n",
      "Decision Tree ---> 0.6750111802932943\n",
      "XG Boost ---> 0.8101861170775692\n",
      "ANN ---> 0.7790035758287919\n",
      "Optimized XG Boost ---> 0.8140431669907069\n"
     ]
    }
   ],
   "source": [
    "for key, val in algo_score.items():\n",
    "    print(key, '--->', val)"
   ]
  },
  {
   "cell_type": "markdown",
   "metadata": {},
   "source": [
    "## Best performing Model is Optimized XG Boost"
   ]
  }
 ],
 "metadata": {
  "interpreter": {
   "hash": "9ddfba760c93d0781cb88c4db9a31eb68ca4e1616821530f19d735f356a5c9ec"
  },
  "kernelspec": {
   "display_name": "Python 3.8.3 64-bit",
   "name": "python3"
  },
  "language_info": {
   "codemirror_mode": {
    "name": "ipython",
    "version": 3
   },
   "file_extension": ".py",
   "mimetype": "text/x-python",
   "name": "python",
   "nbconvert_exporter": "python",
   "pygments_lexer": "ipython3",
   "version": "3.8.3"
  },
  "orig_nbformat": 4
 },
 "nbformat": 4,
 "nbformat_minor": 2
}
