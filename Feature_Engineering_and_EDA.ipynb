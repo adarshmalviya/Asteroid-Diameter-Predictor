{
 "cells": [
  {
   "cell_type": "markdown",
   "metadata": {},
   "source": [
    "# Asteroides Diameter Predictor"
   ]
  },
  {
   "cell_type": "markdown",
   "metadata": {},
   "source": [
    "## Import Necessary Liberaries"
   ]
  },
  {
   "cell_type": "code",
   "execution_count": 1,
   "metadata": {},
   "outputs": [],
   "source": [
    "import pandas as pd\n",
    "import numpy as np\n",
    "import matplotlib.pyplot as plt\n",
    "import seaborn as sns\n",
    "from scipy import stats\n",
    "import warnings\n",
    "warnings.filterwarnings('ignore')"
   ]
  },
  {
   "cell_type": "code",
   "execution_count": 2,
   "metadata": {},
   "outputs": [],
   "source": [
    "pd.set_option('display.max_columns', 50) # To see all the columns of dataset"
   ]
  },
  {
   "cell_type": "markdown",
   "metadata": {},
   "source": [
    "## Import DataSet"
   ]
  },
  {
   "cell_type": "code",
   "execution_count": 3,
   "metadata": {},
   "outputs": [
    {
     "data": {
      "text/html": [
       "<div>\n",
       "<style scoped>\n",
       "    .dataframe tbody tr th:only-of-type {\n",
       "        vertical-align: middle;\n",
       "    }\n",
       "\n",
       "    .dataframe tbody tr th {\n",
       "        vertical-align: top;\n",
       "    }\n",
       "\n",
       "    .dataframe thead th {\n",
       "        text-align: right;\n",
       "    }\n",
       "</style>\n",
       "<table border=\"1\" class=\"dataframe\">\n",
       "  <thead>\n",
       "    <tr style=\"text-align: right;\">\n",
       "      <th></th>\n",
       "      <th>name</th>\n",
       "      <th>a</th>\n",
       "      <th>e</th>\n",
       "      <th>i</th>\n",
       "      <th>om</th>\n",
       "      <th>w</th>\n",
       "      <th>q</th>\n",
       "      <th>ad</th>\n",
       "      <th>per_y</th>\n",
       "      <th>data_arc</th>\n",
       "      <th>condition_code</th>\n",
       "      <th>n_obs_used</th>\n",
       "      <th>H</th>\n",
       "      <th>neo</th>\n",
       "      <th>pha</th>\n",
       "      <th>diameter</th>\n",
       "      <th>extent</th>\n",
       "      <th>albedo</th>\n",
       "      <th>rot_per</th>\n",
       "      <th>GM</th>\n",
       "      <th>BV</th>\n",
       "      <th>UB</th>\n",
       "      <th>IR</th>\n",
       "      <th>spec_B</th>\n",
       "      <th>spec_T</th>\n",
       "      <th>G</th>\n",
       "      <th>moid</th>\n",
       "      <th>class</th>\n",
       "      <th>n</th>\n",
       "      <th>per</th>\n",
       "      <th>ma</th>\n",
       "    </tr>\n",
       "  </thead>\n",
       "  <tbody>\n",
       "    <tr>\n",
       "      <th>0</th>\n",
       "      <td>Ceres</td>\n",
       "      <td>2.769165</td>\n",
       "      <td>0.076009</td>\n",
       "      <td>10.594067</td>\n",
       "      <td>80.305532</td>\n",
       "      <td>73.597694</td>\n",
       "      <td>2.558684</td>\n",
       "      <td>2.979647</td>\n",
       "      <td>4.608202</td>\n",
       "      <td>8822.0</td>\n",
       "      <td>0</td>\n",
       "      <td>1002</td>\n",
       "      <td>3.34</td>\n",
       "      <td>N</td>\n",
       "      <td>N</td>\n",
       "      <td>939.4</td>\n",
       "      <td>964.4 x 964.2 x 891.8</td>\n",
       "      <td>0.0900</td>\n",
       "      <td>9.074170</td>\n",
       "      <td>62.6284</td>\n",
       "      <td>0.713</td>\n",
       "      <td>0.426</td>\n",
       "      <td>NaN</td>\n",
       "      <td>C</td>\n",
       "      <td>G</td>\n",
       "      <td>0.12</td>\n",
       "      <td>1.59478</td>\n",
       "      <td>MBA</td>\n",
       "      <td>0.213885</td>\n",
       "      <td>1683.145708</td>\n",
       "      <td>77.372096</td>\n",
       "    </tr>\n",
       "    <tr>\n",
       "      <th>1</th>\n",
       "      <td>Pallas</td>\n",
       "      <td>2.772466</td>\n",
       "      <td>0.230337</td>\n",
       "      <td>34.836234</td>\n",
       "      <td>173.080063</td>\n",
       "      <td>310.048857</td>\n",
       "      <td>2.133865</td>\n",
       "      <td>3.411067</td>\n",
       "      <td>4.616444</td>\n",
       "      <td>72318.0</td>\n",
       "      <td>0</td>\n",
       "      <td>8490</td>\n",
       "      <td>4.13</td>\n",
       "      <td>N</td>\n",
       "      <td>N</td>\n",
       "      <td>545</td>\n",
       "      <td>582x556x500</td>\n",
       "      <td>0.1010</td>\n",
       "      <td>7.813200</td>\n",
       "      <td>14.3000</td>\n",
       "      <td>0.635</td>\n",
       "      <td>0.284</td>\n",
       "      <td>NaN</td>\n",
       "      <td>B</td>\n",
       "      <td>B</td>\n",
       "      <td>0.11</td>\n",
       "      <td>1.23324</td>\n",
       "      <td>MBA</td>\n",
       "      <td>0.213503</td>\n",
       "      <td>1686.155999</td>\n",
       "      <td>59.699133</td>\n",
       "    </tr>\n",
       "    <tr>\n",
       "      <th>2</th>\n",
       "      <td>Juno</td>\n",
       "      <td>2.669150</td>\n",
       "      <td>0.256942</td>\n",
       "      <td>12.988919</td>\n",
       "      <td>169.852760</td>\n",
       "      <td>248.138626</td>\n",
       "      <td>1.983332</td>\n",
       "      <td>3.354967</td>\n",
       "      <td>4.360814</td>\n",
       "      <td>72684.0</td>\n",
       "      <td>0</td>\n",
       "      <td>7104</td>\n",
       "      <td>5.33</td>\n",
       "      <td>N</td>\n",
       "      <td>N</td>\n",
       "      <td>246.596</td>\n",
       "      <td>NaN</td>\n",
       "      <td>0.2140</td>\n",
       "      <td>7.210000</td>\n",
       "      <td>NaN</td>\n",
       "      <td>0.824</td>\n",
       "      <td>0.433</td>\n",
       "      <td>NaN</td>\n",
       "      <td>Sk</td>\n",
       "      <td>S</td>\n",
       "      <td>0.32</td>\n",
       "      <td>1.03454</td>\n",
       "      <td>MBA</td>\n",
       "      <td>0.226019</td>\n",
       "      <td>1592.787285</td>\n",
       "      <td>34.925016</td>\n",
       "    </tr>\n",
       "    <tr>\n",
       "      <th>3</th>\n",
       "      <td>Vesta</td>\n",
       "      <td>2.361418</td>\n",
       "      <td>0.088721</td>\n",
       "      <td>7.141771</td>\n",
       "      <td>103.810804</td>\n",
       "      <td>150.728541</td>\n",
       "      <td>2.151909</td>\n",
       "      <td>2.570926</td>\n",
       "      <td>3.628837</td>\n",
       "      <td>24288.0</td>\n",
       "      <td>0</td>\n",
       "      <td>9325</td>\n",
       "      <td>3.20</td>\n",
       "      <td>N</td>\n",
       "      <td>N</td>\n",
       "      <td>525.4</td>\n",
       "      <td>572.6 x 557.2 x 446.4</td>\n",
       "      <td>0.4228</td>\n",
       "      <td>5.342128</td>\n",
       "      <td>17.8000</td>\n",
       "      <td>0.782</td>\n",
       "      <td>0.492</td>\n",
       "      <td>NaN</td>\n",
       "      <td>V</td>\n",
       "      <td>V</td>\n",
       "      <td>0.32</td>\n",
       "      <td>1.13948</td>\n",
       "      <td>MBA</td>\n",
       "      <td>0.271609</td>\n",
       "      <td>1325.432765</td>\n",
       "      <td>95.861936</td>\n",
       "    </tr>\n",
       "    <tr>\n",
       "      <th>4</th>\n",
       "      <td>Astraea</td>\n",
       "      <td>2.574249</td>\n",
       "      <td>0.191095</td>\n",
       "      <td>5.366988</td>\n",
       "      <td>141.576605</td>\n",
       "      <td>358.687607</td>\n",
       "      <td>2.082324</td>\n",
       "      <td>3.066174</td>\n",
       "      <td>4.130323</td>\n",
       "      <td>63507.0</td>\n",
       "      <td>0</td>\n",
       "      <td>2916</td>\n",
       "      <td>6.85</td>\n",
       "      <td>N</td>\n",
       "      <td>N</td>\n",
       "      <td>106.699</td>\n",
       "      <td>NaN</td>\n",
       "      <td>0.2740</td>\n",
       "      <td>16.806000</td>\n",
       "      <td>NaN</td>\n",
       "      <td>0.826</td>\n",
       "      <td>0.411</td>\n",
       "      <td>NaN</td>\n",
       "      <td>S</td>\n",
       "      <td>S</td>\n",
       "      <td>NaN</td>\n",
       "      <td>1.09589</td>\n",
       "      <td>MBA</td>\n",
       "      <td>0.238632</td>\n",
       "      <td>1508.600458</td>\n",
       "      <td>282.366289</td>\n",
       "    </tr>\n",
       "  </tbody>\n",
       "</table>\n",
       "</div>"
      ],
      "text/plain": [
       "      name         a         e          i          om           w         q  \\\n",
       "0    Ceres  2.769165  0.076009  10.594067   80.305532   73.597694  2.558684   \n",
       "1   Pallas  2.772466  0.230337  34.836234  173.080063  310.048857  2.133865   \n",
       "2     Juno  2.669150  0.256942  12.988919  169.852760  248.138626  1.983332   \n",
       "3    Vesta  2.361418  0.088721   7.141771  103.810804  150.728541  2.151909   \n",
       "4  Astraea  2.574249  0.191095   5.366988  141.576605  358.687607  2.082324   \n",
       "\n",
       "         ad     per_y  data_arc condition_code  n_obs_used     H neo pha  \\\n",
       "0  2.979647  4.608202    8822.0              0        1002  3.34   N   N   \n",
       "1  3.411067  4.616444   72318.0              0        8490  4.13   N   N   \n",
       "2  3.354967  4.360814   72684.0              0        7104  5.33   N   N   \n",
       "3  2.570926  3.628837   24288.0              0        9325  3.20   N   N   \n",
       "4  3.066174  4.130323   63507.0              0        2916  6.85   N   N   \n",
       "\n",
       "  diameter                 extent  albedo    rot_per       GM     BV     UB  \\\n",
       "0    939.4  964.4 x 964.2 x 891.8  0.0900   9.074170  62.6284  0.713  0.426   \n",
       "1      545            582x556x500  0.1010   7.813200  14.3000  0.635  0.284   \n",
       "2  246.596                    NaN  0.2140   7.210000      NaN  0.824  0.433   \n",
       "3    525.4  572.6 x 557.2 x 446.4  0.4228   5.342128  17.8000  0.782  0.492   \n",
       "4  106.699                    NaN  0.2740  16.806000      NaN  0.826  0.411   \n",
       "\n",
       "   IR spec_B spec_T     G     moid class         n          per          ma  \n",
       "0 NaN      C      G  0.12  1.59478   MBA  0.213885  1683.145708   77.372096  \n",
       "1 NaN      B      B  0.11  1.23324   MBA  0.213503  1686.155999   59.699133  \n",
       "2 NaN     Sk      S  0.32  1.03454   MBA  0.226019  1592.787285   34.925016  \n",
       "3 NaN      V      V  0.32  1.13948   MBA  0.271609  1325.432765   95.861936  \n",
       "4 NaN      S      S   NaN  1.09589   MBA  0.238632  1508.600458  282.366289  "
      ]
     },
     "execution_count": 3,
     "metadata": {},
     "output_type": "execute_result"
    }
   ],
   "source": [
    "dataset = pd.read_csv('Asteroid_Updated.csv', low_memory=False)  # To Read dataset and as some colums have mixed datatype so using 'low_memory = False'\n",
    "dataset.head()"
   ]
  },
  {
   "cell_type": "code",
   "execution_count": 4,
   "metadata": {},
   "outputs": [
    {
     "name": "stdout",
     "output_type": "stream",
     "text": [
      "Number of Rows :->  839714\n",
      "Number of Columns :->  31\n"
     ]
    }
   ],
   "source": [
    "# Shape of Dataset\n",
    "print(\"Number of Rows :-> \", dataset.shape[0])\n",
    "print(\"Number of Columns :-> \", dataset.shape[1])\n"
   ]
  },
  {
   "cell_type": "code",
   "execution_count": 5,
   "metadata": {},
   "outputs": [
    {
     "name": "stdout",
     "output_type": "stream",
     "text": [
      "<class 'pandas.core.frame.DataFrame'>\n",
      "RangeIndex: 839714 entries, 0 to 839713\n",
      "Data columns (total 31 columns):\n",
      " #   Column          Non-Null Count   Dtype  \n",
      "---  ------          --------------   -----  \n",
      " 0   name            21967 non-null   object \n",
      " 1   a               839712 non-null  float64\n",
      " 2   e               839714 non-null  float64\n",
      " 3   i               839714 non-null  float64\n",
      " 4   om              839714 non-null  float64\n",
      " 5   w               839714 non-null  float64\n",
      " 6   q               839714 non-null  float64\n",
      " 7   ad              839708 non-null  float64\n",
      " 8   per_y           839713 non-null  float64\n",
      " 9   data_arc        824240 non-null  float64\n",
      " 10  condition_code  838847 non-null  object \n",
      " 11  n_obs_used      839714 non-null  int64  \n",
      " 12  H               837025 non-null  float64\n",
      " 13  neo             839708 non-null  object \n",
      " 14  pha             823272 non-null  object \n",
      " 15  diameter        137636 non-null  object \n",
      " 16  extent          18 non-null      object \n",
      " 17  albedo          136409 non-null  float64\n",
      " 18  rot_per         18796 non-null   float64\n",
      " 19  GM              14 non-null      float64\n",
      " 20  BV              1021 non-null    float64\n",
      " 21  UB              979 non-null     float64\n",
      " 22  IR              1 non-null       float64\n",
      " 23  spec_B          1666 non-null    object \n",
      " 24  spec_T          980 non-null     object \n",
      " 25  G               119 non-null     float64\n",
      " 26  moid            823272 non-null  float64\n",
      " 27  class           839714 non-null  object \n",
      " 28  n               839712 non-null  float64\n",
      " 29  per             839708 non-null  float64\n",
      " 30  ma              839706 non-null  float64\n",
      "dtypes: float64(21), int64(1), object(9)\n",
      "memory usage: 198.6+ MB\n"
     ]
    }
   ],
   "source": [
    "dataset.info()"
   ]
  },
  {
   "cell_type": "code",
   "execution_count": 6,
   "metadata": {},
   "outputs": [
    {
     "name": "stdout",
     "output_type": "stream",
     "text": [
      "Categorical Data :  ['name', 'condition_code', 'neo', 'pha', 'diameter', 'extent', 'spec_B', 'spec_T', 'class']\n",
      "Numeric Data :  ['a', 'e', 'i', 'om', 'w', 'q', 'ad', 'per_y', 'data_arc', 'n_obs_used', 'H', 'albedo', 'rot_per', 'GM', 'BV', 'UB', 'IR', 'G', 'moid', 'n', 'per', 'ma']\n"
     ]
    }
   ],
   "source": [
    "# Segregate Data into numeric and categorical onces\n",
    "categorical, numeric = [], []\n",
    "for ele in dataset.columns:\n",
    "    if dataset[ele].dtype == 'object':\n",
    "        categorical.append(ele)\n",
    "    else:\n",
    "        numeric.append(ele)\n",
    "print(\"Categorical Data : \", categorical)\n",
    "print(\"Numeric Data : \", numeric)"
   ]
  },
  {
   "cell_type": "code",
   "execution_count": 7,
   "metadata": {},
   "outputs": [],
   "source": [
    "# As Diameter is not categorical variable but is interpreted as categorical vairable so removing diameter from categorical array\n",
    "categorical.remove('diameter')"
   ]
  },
  {
   "cell_type": "markdown",
   "metadata": {},
   "source": [
    "## Feature Engineering & Exploratory Data Analysis"
   ]
  },
  {
   "cell_type": "markdown",
   "metadata": {},
   "source": [
    "### 1) Univariate Analysis"
   ]
  },
  {
   "cell_type": "markdown",
   "metadata": {},
   "source": [
    "### For Numeric Data"
   ]
  },
  {
   "cell_type": "code",
   "execution_count": 8,
   "metadata": {},
   "outputs": [
    {
     "data": {
      "text/html": [
       "<div>\n",
       "<style scoped>\n",
       "    .dataframe tbody tr th:only-of-type {\n",
       "        vertical-align: middle;\n",
       "    }\n",
       "\n",
       "    .dataframe tbody tr th {\n",
       "        vertical-align: top;\n",
       "    }\n",
       "\n",
       "    .dataframe thead th {\n",
       "        text-align: right;\n",
       "    }\n",
       "</style>\n",
       "<table border=\"1\" class=\"dataframe\">\n",
       "  <thead>\n",
       "    <tr style=\"text-align: right;\">\n",
       "      <th></th>\n",
       "      <th>a</th>\n",
       "      <th>e</th>\n",
       "      <th>i</th>\n",
       "      <th>om</th>\n",
       "      <th>w</th>\n",
       "      <th>q</th>\n",
       "      <th>ad</th>\n",
       "      <th>per_y</th>\n",
       "      <th>data_arc</th>\n",
       "      <th>n_obs_used</th>\n",
       "      <th>H</th>\n",
       "      <th>albedo</th>\n",
       "      <th>rot_per</th>\n",
       "      <th>GM</th>\n",
       "      <th>BV</th>\n",
       "      <th>UB</th>\n",
       "      <th>IR</th>\n",
       "      <th>G</th>\n",
       "      <th>moid</th>\n",
       "      <th>n</th>\n",
       "      <th>per</th>\n",
       "      <th>ma</th>\n",
       "    </tr>\n",
       "  </thead>\n",
       "  <tbody>\n",
       "    <tr>\n",
       "      <th>count</th>\n",
       "      <td>839712.000000</td>\n",
       "      <td>839714.000000</td>\n",
       "      <td>839714.000000</td>\n",
       "      <td>839714.000000</td>\n",
       "      <td>839714.000000</td>\n",
       "      <td>839714.000000</td>\n",
       "      <td>839708.000000</td>\n",
       "      <td>839713.000000</td>\n",
       "      <td>824240.000000</td>\n",
       "      <td>839714.000000</td>\n",
       "      <td>837025.000000</td>\n",
       "      <td>136409.000000</td>\n",
       "      <td>18796.000000</td>\n",
       "      <td>1.400000e+01</td>\n",
       "      <td>1021.000000</td>\n",
       "      <td>979.000000</td>\n",
       "      <td>1.00</td>\n",
       "      <td>119.000000</td>\n",
       "      <td>8.232720e+05</td>\n",
       "      <td>8.397120e+05</td>\n",
       "      <td>8.397080e+05</td>\n",
       "      <td>839706.000000</td>\n",
       "    </tr>\n",
       "    <tr>\n",
       "      <th>mean</th>\n",
       "      <td>2.757514</td>\n",
       "      <td>0.155636</td>\n",
       "      <td>8.949826</td>\n",
       "      <td>168.499466</td>\n",
       "      <td>181.075796</td>\n",
       "      <td>2.404728</td>\n",
       "      <td>3.385710</td>\n",
       "      <td>6.859734</td>\n",
       "      <td>5688.422331</td>\n",
       "      <td>259.191837</td>\n",
       "      <td>16.786249</td>\n",
       "      <td>0.130067</td>\n",
       "      <td>21.136772</td>\n",
       "      <td>7.821928e+00</td>\n",
       "      <td>0.769212</td>\n",
       "      <td>0.364396</td>\n",
       "      <td>-0.33</td>\n",
       "      <td>0.178739</td>\n",
       "      <td>1.423371e+00</td>\n",
       "      <td>2.374145e-01</td>\n",
       "      <td>2.505533e+03</td>\n",
       "      <td>180.659892</td>\n",
       "    </tr>\n",
       "    <tr>\n",
       "      <th>std</th>\n",
       "      <td>114.384959</td>\n",
       "      <td>0.093897</td>\n",
       "      <td>6.666087</td>\n",
       "      <td>103.096307</td>\n",
       "      <td>104.023854</td>\n",
       "      <td>2.233172</td>\n",
       "      <td>12.748733</td>\n",
       "      <td>252.264249</td>\n",
       "      <td>4208.177231</td>\n",
       "      <td>371.759667</td>\n",
       "      <td>1.821574</td>\n",
       "      <td>0.109994</td>\n",
       "      <td>73.131751</td>\n",
       "      <td>1.678880e+01</td>\n",
       "      <td>0.088625</td>\n",
       "      <td>0.095780</td>\n",
       "      <td>NaN</td>\n",
       "      <td>0.134603</td>\n",
       "      <td>2.250450e+00</td>\n",
       "      <td>8.095014e-02</td>\n",
       "      <td>9.213979e+04</td>\n",
       "      <td>106.562235</td>\n",
       "    </tr>\n",
       "    <tr>\n",
       "      <th>min</th>\n",
       "      <td>-104279.220927</td>\n",
       "      <td>0.000000</td>\n",
       "      <td>0.007546</td>\n",
       "      <td>0.000388</td>\n",
       "      <td>0.001666</td>\n",
       "      <td>0.070511</td>\n",
       "      <td>0.773684</td>\n",
       "      <td>0.000000</td>\n",
       "      <td>0.000000</td>\n",
       "      <td>2.000000</td>\n",
       "      <td>-1.100000</td>\n",
       "      <td>0.001000</td>\n",
       "      <td>0.004389</td>\n",
       "      <td>2.100000e-09</td>\n",
       "      <td>0.580000</td>\n",
       "      <td>0.120000</td>\n",
       "      <td>-0.33</td>\n",
       "      <td>-0.250000</td>\n",
       "      <td>3.437640e-07</td>\n",
       "      <td>2.926897e-08</td>\n",
       "      <td>1.511339e+02</td>\n",
       "      <td>-67.136826</td>\n",
       "    </tr>\n",
       "    <tr>\n",
       "      <th>25%</th>\n",
       "      <td>2.385258</td>\n",
       "      <td>0.091454</td>\n",
       "      <td>4.069077</td>\n",
       "      <td>80.211400</td>\n",
       "      <td>91.041603</td>\n",
       "      <td>1.971941</td>\n",
       "      <td>2.775350</td>\n",
       "      <td>3.683928</td>\n",
       "      <td>3608.000000</td>\n",
       "      <td>50.000000</td>\n",
       "      <td>15.900000</td>\n",
       "      <td>0.053000</td>\n",
       "      <td>4.210000</td>\n",
       "      <td>1.022225e-03</td>\n",
       "      <td>0.700000</td>\n",
       "      <td>0.289000</td>\n",
       "      <td>-0.33</td>\n",
       "      <td>0.100000</td>\n",
       "      <td>9.784998e-01</td>\n",
       "      <td>1.900553e-01</td>\n",
       "      <td>1.345555e+03</td>\n",
       "      <td>86.642618</td>\n",
       "    </tr>\n",
       "    <tr>\n",
       "      <th>50%</th>\n",
       "      <td>2.644219</td>\n",
       "      <td>0.143655</td>\n",
       "      <td>7.257101</td>\n",
       "      <td>160.294860</td>\n",
       "      <td>181.669478</td>\n",
       "      <td>2.225510</td>\n",
       "      <td>3.037761</td>\n",
       "      <td>4.299859</td>\n",
       "      <td>5806.000000</td>\n",
       "      <td>118.000000</td>\n",
       "      <td>16.800000</td>\n",
       "      <td>0.078000</td>\n",
       "      <td>6.653000</td>\n",
       "      <td>6.192500e-01</td>\n",
       "      <td>0.743000</td>\n",
       "      <td>0.360000</td>\n",
       "      <td>-0.33</td>\n",
       "      <td>0.190000</td>\n",
       "      <td>1.237810e+00</td>\n",
       "      <td>2.292228e-01</td>\n",
       "      <td>1.570524e+03</td>\n",
       "      <td>181.517775</td>\n",
       "    </tr>\n",
       "    <tr>\n",
       "      <th>75%</th>\n",
       "      <td>2.996048</td>\n",
       "      <td>0.199400</td>\n",
       "      <td>12.255653</td>\n",
       "      <td>252.201519</td>\n",
       "      <td>271.521717</td>\n",
       "      <td>2.578162</td>\n",
       "      <td>3.357967</td>\n",
       "      <td>5.185985</td>\n",
       "      <td>7270.000000</td>\n",
       "      <td>296.000000</td>\n",
       "      <td>17.600000</td>\n",
       "      <td>0.188000</td>\n",
       "      <td>12.624250</td>\n",
       "      <td>6.500000e+00</td>\n",
       "      <td>0.850000</td>\n",
       "      <td>0.439000</td>\n",
       "      <td>-0.33</td>\n",
       "      <td>0.250000</td>\n",
       "      <td>1.590560e+00</td>\n",
       "      <td>2.675475e-01</td>\n",
       "      <td>1.894184e+03</td>\n",
       "      <td>274.301731</td>\n",
       "    </tr>\n",
       "    <tr>\n",
       "      <th>max</th>\n",
       "      <td>3043.149073</td>\n",
       "      <td>1.201134</td>\n",
       "      <td>175.188725</td>\n",
       "      <td>359.999800</td>\n",
       "      <td>359.999833</td>\n",
       "      <td>80.424175</td>\n",
       "      <td>6081.841956</td>\n",
       "      <td>167877.712688</td>\n",
       "      <td>72684.000000</td>\n",
       "      <td>9325.000000</td>\n",
       "      <td>33.200000</td>\n",
       "      <td>1.000000</td>\n",
       "      <td>3240.000000</td>\n",
       "      <td>6.262840e+01</td>\n",
       "      <td>1.077000</td>\n",
       "      <td>0.655000</td>\n",
       "      <td>-0.33</td>\n",
       "      <td>0.600000</td>\n",
       "      <td>7.950130e+01</td>\n",
       "      <td>2.381994e+00</td>\n",
       "      <td>6.131733e+07</td>\n",
       "      <td>491.618014</td>\n",
       "    </tr>\n",
       "  </tbody>\n",
       "</table>\n",
       "</div>"
      ],
      "text/plain": [
       "                   a              e              i             om  \\\n",
       "count  839712.000000  839714.000000  839714.000000  839714.000000   \n",
       "mean        2.757514       0.155636       8.949826     168.499466   \n",
       "std       114.384959       0.093897       6.666087     103.096307   \n",
       "min   -104279.220927       0.000000       0.007546       0.000388   \n",
       "25%         2.385258       0.091454       4.069077      80.211400   \n",
       "50%         2.644219       0.143655       7.257101     160.294860   \n",
       "75%         2.996048       0.199400      12.255653     252.201519   \n",
       "max      3043.149073       1.201134     175.188725     359.999800   \n",
       "\n",
       "                   w              q             ad          per_y  \\\n",
       "count  839714.000000  839714.000000  839708.000000  839713.000000   \n",
       "mean      181.075796       2.404728       3.385710       6.859734   \n",
       "std       104.023854       2.233172      12.748733     252.264249   \n",
       "min         0.001666       0.070511       0.773684       0.000000   \n",
       "25%        91.041603       1.971941       2.775350       3.683928   \n",
       "50%       181.669478       2.225510       3.037761       4.299859   \n",
       "75%       271.521717       2.578162       3.357967       5.185985   \n",
       "max       359.999833      80.424175    6081.841956  167877.712688   \n",
       "\n",
       "            data_arc     n_obs_used              H         albedo  \\\n",
       "count  824240.000000  839714.000000  837025.000000  136409.000000   \n",
       "mean     5688.422331     259.191837      16.786249       0.130067   \n",
       "std      4208.177231     371.759667       1.821574       0.109994   \n",
       "min         0.000000       2.000000      -1.100000       0.001000   \n",
       "25%      3608.000000      50.000000      15.900000       0.053000   \n",
       "50%      5806.000000     118.000000      16.800000       0.078000   \n",
       "75%      7270.000000     296.000000      17.600000       0.188000   \n",
       "max     72684.000000    9325.000000      33.200000       1.000000   \n",
       "\n",
       "            rot_per            GM           BV          UB    IR           G  \\\n",
       "count  18796.000000  1.400000e+01  1021.000000  979.000000  1.00  119.000000   \n",
       "mean      21.136772  7.821928e+00     0.769212    0.364396 -0.33    0.178739   \n",
       "std       73.131751  1.678880e+01     0.088625    0.095780   NaN    0.134603   \n",
       "min        0.004389  2.100000e-09     0.580000    0.120000 -0.33   -0.250000   \n",
       "25%        4.210000  1.022225e-03     0.700000    0.289000 -0.33    0.100000   \n",
       "50%        6.653000  6.192500e-01     0.743000    0.360000 -0.33    0.190000   \n",
       "75%       12.624250  6.500000e+00     0.850000    0.439000 -0.33    0.250000   \n",
       "max     3240.000000  6.262840e+01     1.077000    0.655000 -0.33    0.600000   \n",
       "\n",
       "               moid             n           per             ma  \n",
       "count  8.232720e+05  8.397120e+05  8.397080e+05  839706.000000  \n",
       "mean   1.423371e+00  2.374145e-01  2.505533e+03     180.659892  \n",
       "std    2.250450e+00  8.095014e-02  9.213979e+04     106.562235  \n",
       "min    3.437640e-07  2.926897e-08  1.511339e+02     -67.136826  \n",
       "25%    9.784998e-01  1.900553e-01  1.345555e+03      86.642618  \n",
       "50%    1.237810e+00  2.292228e-01  1.570524e+03     181.517775  \n",
       "75%    1.590560e+00  2.675475e-01  1.894184e+03     274.301731  \n",
       "max    7.950130e+01  2.381994e+00  6.131733e+07     491.618014  "
      ]
     },
     "execution_count": 8,
     "metadata": {},
     "output_type": "execute_result"
    }
   ],
   "source": [
    "dataset.describe()"
   ]
  },
  {
   "cell_type": "markdown",
   "metadata": {},
   "source": [
    "### For Categorical Data"
   ]
  },
  {
   "cell_type": "code",
   "execution_count": 9,
   "metadata": {},
   "outputs": [
    {
     "data": {
      "image/png": "[encoded data removed]",
      "text/plain": [
       "<Figure size 432x288 with 1 Axes>"
      ]
     },
     "metadata": {
      "needs_background": "light"
     },
     "output_type": "display_data"
    }
   ],
   "source": [
    "condition_c = dataset['condition_code'].value_counts()\n",
    "condition_c = pd.DataFrame({\"Frequency\":condition_c})\n",
    "condition_c['Condition_code'] = condition_c.index\n",
    "condition_c.plot.bar(x='Condition_code', y='Frequency', rot=0)\n",
    "plt.show()"
   ]
  },
  {
   "cell_type": "code",
   "execution_count": 10,
   "metadata": {},
   "outputs": [
    {
     "data": {
      "image/png": "[encoded data removed]",
      "text/plain": [
       "<Figure size 432x288 with 1 Axes>"
      ]
     },
     "metadata": {
      "needs_background": "light"
     },
     "output_type": "display_data"
    }
   ],
   "source": [
    "neo = dataset['neo'].value_counts()\n",
    "neo = pd.DataFrame({\"Frequency\":neo})\n",
    "neo['neo'] = neo.index\n",
    "neo.plot.bar(x='neo', y='Frequency', rot=0)\n",
    "plt.show()"
   ]
  },
  {
   "cell_type": "markdown",
   "metadata": {},
   "source": [
    "Majority of values are 'N'"
   ]
  },
  {
   "cell_type": "code",
   "execution_count": 11,
   "metadata": {},
   "outputs": [
    {
     "data": {
      "image/png": "[encoded data removed]",
      "text/plain": [
       "<Figure size 432x288 with 1 Axes>"
      ]
     },
     "metadata": {
      "needs_background": "light"
     },
     "output_type": "display_data"
    }
   ],
   "source": [
    "pha = dataset['pha'].value_counts()\n",
    "pha = pd.DataFrame({\"Frequency\":pha})\n",
    "pha['pha'] = pha.index\n",
    "pha.plot.bar(x='pha', y='Frequency', rot=0)\n",
    "plt.show()"
   ]
  },
  {
   "cell_type": "markdown",
   "metadata": {},
   "source": [
    "'Y' is almost Nill as compare to 'N'"
   ]
  },
  {
   "cell_type": "code",
   "execution_count": 12,
   "metadata": {},
   "outputs": [
    {
     "data": {
      "text/plain": [
       "<Figure size 864x576 with 0 Axes>"
      ]
     },
     "metadata": {},
     "output_type": "display_data"
    },
    {
     "data": {
      "image/png": "[encoded data removed]",
      "text/plain": [
       "<Figure size 432x288 with 1 Axes>"
      ]
     },
     "metadata": {
      "needs_background": "light"
     },
     "output_type": "display_data"
    }
   ],
   "source": [
    "plt.figure(figsize=(12,8))\n",
    "spec_B = dataset['spec_B'].value_counts()\n",
    "spec_B = pd.DataFrame({\"Frequency\":spec_B})\n",
    "spec_B['spec_B'] = spec_B.index\n",
    "spec_B.plot.bar(x='spec_B', y='Frequency', rot=0)\n",
    "plt.show()"
   ]
  },
  {
   "cell_type": "code",
   "execution_count": 13,
   "metadata": {},
   "outputs": [
    {
     "data": {
      "image/png": "[encoded data removed]",
      "text/plain": [
       "<Figure size 432x288 with 1 Axes>"
      ]
     },
     "metadata": {
      "needs_background": "light"
     },
     "output_type": "display_data"
    }
   ],
   "source": [
    "spec_T = dataset['spec_T'].value_counts()[:5]\n",
    "spec_T = pd.DataFrame({\"Frequency\":spec_T})\n",
    "spec_T['spec_T'] = spec_T.index\n",
    "spec_T.plot.bar(x='spec_T', y='Frequency', rot=0)\n",
    "plt.show()"
   ]
  },
  {
   "cell_type": "markdown",
   "metadata": {},
   "source": [
    "### 2) Bivariate Analysis"
   ]
  },
  {
   "cell_type": "markdown",
   "metadata": {},
   "source": [
    "### Bivariate Analysis for Numeric Data"
   ]
  },
  {
   "cell_type": "markdown",
   "metadata": {},
   "source": [
    "### Finding Correlation Between features"
   ]
  },
  {
   "cell_type": "code",
   "execution_count": 14,
   "metadata": {},
   "outputs": [
    {
     "data": {
      "image/png": "[encoded data removed]",
      "text/plain": [
       "<Figure size 720x720 with 2 Axes>"
      ]
     },
     "metadata": {
      "needs_background": "light"
     },
     "output_type": "display_data"
    }
   ],
   "source": [
    "plt.figure(figsize=(10,10))\n",
    "sns.heatmap(dataset.corr())\n",
    "plt.show()"
   ]
  },
  {
   "cell_type": "code",
   "execution_count": 15,
   "metadata": {},
   "outputs": [],
   "source": [
    "num_corr = {}"
   ]
  },
  {
   "cell_type": "code",
   "execution_count": 16,
   "metadata": {},
   "outputs": [],
   "source": [
    "def corr_max(feature):\n",
    "    dicto = dict(dataset.corrwith(dataset[feature]))\n",
    "\n",
    "    for key, val in dicto.items():\n",
    "        if (val > 0.97 or val < -0.97) and (feature != key):\n",
    "            num_corr[feature] = key\n",
    "            print(feature,\"---->\", key)"
   ]
  },
  {
   "cell_type": "code",
   "execution_count": 17,
   "metadata": {},
   "outputs": [
    {
     "name": "stdout",
     "output_type": "stream",
     "text": [
      "Heavy Correlation is between : \n",
      "a ----> ad\n",
      "q ----> moid\n",
      "ad ----> a\n",
      "per_y ----> per\n",
      "moid ----> q\n",
      "per ----> per_y\n"
     ]
    }
   ],
   "source": [
    "print(\"Heavy Correlation is between : \")\n",
    "for col in numeric:\n",
    "    corr_max(col)"
   ]
  },
  {
   "cell_type": "markdown",
   "metadata": {},
   "source": [
    "### Bivariate Analysis for Categorical Data"
   ]
  },
  {
   "cell_type": "markdown",
   "metadata": {},
   "source": [
    "### Chi-Square Test for relationship between categorical data"
   ]
  },
  {
   "cell_type": "code",
   "execution_count": 18,
   "metadata": {},
   "outputs": [
    {
     "name": "stdout",
     "output_type": "stream",
     "text": [
      "Categorical Data :  ['name', 'condition_code', 'neo', 'pha', 'extent', 'spec_B', 'spec_T', 'class']\n"
     ]
    }
   ],
   "source": [
    "print(\"Categorical Data : \", categorical)"
   ]
  },
  {
   "cell_type": "code",
   "execution_count": 19,
   "metadata": {},
   "outputs": [
    {
     "name": "stdout",
     "output_type": "stream",
     "text": [
      "Categories for correlation test :  ['condition_code', 'neo', 'pha', 'extent', 'spec_B', 'spec_T', 'class']\n"
     ]
    }
   ],
   "source": [
    "test_corr_cat = categorical.copy()\n",
    "test_corr_cat.remove('name')\n",
    "print(\"Categories for correlation test : \", test_corr_cat) "
   ]
  },
  {
   "cell_type": "code",
   "execution_count": 20,
   "metadata": {},
   "outputs": [],
   "source": [
    "cat_corr = {}"
   ]
  },
  {
   "cell_type": "code",
   "execution_count": 21,
   "metadata": {},
   "outputs": [],
   "source": [
    "def cat_correlation(feature1, feature2):\n",
    "    crosstab = pd.crosstab(dataset[feature1], dataset[feature2])\n",
    "    p_value = stats.chi2_contingency(crosstab)[1]\n",
    "\n",
    "    if p_value < 0.05:\n",
    "        cat_corr[feature1] = feature2\n",
    "        print(feature1, \" is Related to \", feature2, \"with p-value : \", p_value)"
   ]
  },
  {
   "cell_type": "code",
   "execution_count": 22,
   "metadata": {},
   "outputs": [
    {
     "name": "stdout",
     "output_type": "stream",
     "text": [
      "condition_code  is Related to  neo with p-value :  0.0\n",
      "condition_code  is Related to  pha with p-value :  1.0312155367979149e-199\n",
      "condition_code  is Related to  spec_B with p-value :  1.5849916756916413e-96\n",
      "condition_code  is Related to  spec_T with p-value :  2.8792242695344553e-43\n",
      "condition_code  is Related to  class with p-value :  0.0\n",
      "neo  is Related to  pha with p-value :  0.0\n",
      "neo  is Related to  spec_B with p-value :  1.0784031329999345e-66\n",
      "neo  is Related to  spec_T with p-value :  1.0549449724674979e-13\n",
      "neo  is Related to  class with p-value :  0.0\n",
      "pha  is Related to  spec_B with p-value :  1.3109230338722967e-22\n",
      "pha  is Related to  spec_T with p-value :  9.1499734851376e-05\n",
      "pha  is Related to  class with p-value :  0.0\n",
      "spec_B  is Related to  spec_T with p-value :  1.331145733430803e-216\n",
      "spec_B  is Related to  class with p-value :  2.0145187772655847e-99\n",
      "spec_T  is Related to  class with p-value :  4.3217214624777004e-72\n"
     ]
    }
   ],
   "source": [
    "for ind1 in range(len(test_corr_cat)):\n",
    "    for ind2 in range(ind1+1, len(test_corr_cat)):\n",
    "        cat_correlation(test_corr_cat[ind1], test_corr_cat[ind2])"
   ]
  },
  {
   "cell_type": "markdown",
   "metadata": {},
   "source": [
    "Almost all categories are related to each other except 'extent'"
   ]
  },
  {
   "cell_type": "markdown",
   "metadata": {},
   "source": [
    "## Handling Missing Values"
   ]
  },
  {
   "cell_type": "code",
   "execution_count": 23,
   "metadata": {},
   "outputs": [
    {
     "data": {
      "text/plain": [
       "name              817747\n",
       "a                      2\n",
       "e                      0\n",
       "i                      0\n",
       "om                     0\n",
       "w                      0\n",
       "q                      0\n",
       "ad                     6\n",
       "per_y                  1\n",
       "data_arc           15474\n",
       "condition_code       867\n",
       "n_obs_used             0\n",
       "H                   2689\n",
       "neo                    6\n",
       "pha                16442\n",
       "diameter          702078\n",
       "extent            839696\n",
       "albedo            703305\n",
       "rot_per           820918\n",
       "GM                839700\n",
       "BV                838693\n",
       "UB                838735\n",
       "IR                839713\n",
       "spec_B            838048\n",
       "spec_T            838734\n",
       "G                 839595\n",
       "moid               16442\n",
       "class                  0\n",
       "n                      2\n",
       "per                    6\n",
       "ma                     8\n",
       "dtype: int64"
      ]
     },
     "execution_count": 23,
     "metadata": {},
     "output_type": "execute_result"
    }
   ],
   "source": [
    "# All Missing Values\n",
    "dataset.isnull().sum()"
   ]
  },
  {
   "cell_type": "markdown",
   "metadata": {},
   "source": [
    "### Treating Categorical Missing Values"
   ]
  },
  {
   "cell_type": "code",
   "execution_count": 24,
   "metadata": {},
   "outputs": [
    {
     "name": "stdout",
     "output_type": "stream",
     "text": [
      "name  --->  817747\n",
      "condition_code  --->  867\n",
      "neo  --->  6\n",
      "pha  --->  16442\n",
      "extent  --->  839696\n",
      "spec_B  --->  838048\n",
      "spec_T  --->  838734\n"
     ]
    }
   ],
   "source": [
    "# Categorical Missing Values\n",
    "for feature in categorical:\n",
    "    missing = dataset[feature].isnull().sum()\n",
    "    if missing > 0:\n",
    "        print(feature, \" ---> \", missing)"
   ]
  },
  {
   "cell_type": "code",
   "execution_count": 25,
   "metadata": {},
   "outputs": [
    {
     "name": "stdout",
     "output_type": "stream",
     "text": [
      "Percentage of NaN values for name  :  97 %\n",
      "Percentage of NaN values for extent  :  99 %\n",
      "Percentage of NaN values for spec_B  :  99 %\n",
      "Percentage of NaN values for spec_T  :  99 %\n"
     ]
    }
   ],
   "source": [
    "# Categories with more NaN values then Non-NaN values\n",
    "\n",
    "remove_cat = []\n",
    "max_len = dataset.shape[0]\n",
    "\n",
    "for ele in categorical:\n",
    "    null = len(dataset[ele][dataset[ele].isnull()==True])\n",
    "    not_null = len(dataset[ele][dataset[ele].isnull()==False])\n",
    "\n",
    "    if null > not_null:\n",
    "        print(\"Percentage of NaN values for\", ele, \" : \", null*100//max_len, \"%\")\n",
    "        remove_cat.append(ele)\n"
   ]
  },
  {
   "cell_type": "code",
   "execution_count": 26,
   "metadata": {},
   "outputs": [],
   "source": [
    "dataset.drop(remove_cat, axis=1, inplace=True)"
   ]
  },
  {
   "cell_type": "code",
   "execution_count": 27,
   "metadata": {},
   "outputs": [],
   "source": [
    "# Filling missing values of remaining categories with Mode\n",
    "dataset['condition_code'].fillna(dataset['condition_code'].mode()[0], inplace=True)\n",
    "dataset['neo'].fillna(dataset['neo'].mode()[0], inplace=True)\n",
    "dataset['pha'].fillna(dataset['pha'].mode()[0], inplace=True)\n"
   ]
  },
  {
   "cell_type": "markdown",
   "metadata": {},
   "source": [
    "### Treating Numeric Missing Values"
   ]
  },
  {
   "cell_type": "code",
   "execution_count": 28,
   "metadata": {},
   "outputs": [
    {
     "name": "stdout",
     "output_type": "stream",
     "text": [
      "a  --->  2\n",
      "ad  --->  6\n",
      "per_y  --->  1\n",
      "data_arc  --->  15474\n",
      "H  --->  2689\n",
      "albedo  --->  703305\n",
      "rot_per  --->  820918\n",
      "GM  --->  839700\n",
      "BV  --->  838693\n",
      "UB  --->  838735\n",
      "IR  --->  839713\n",
      "G  --->  839595\n",
      "moid  --->  16442\n",
      "n  --->  2\n",
      "per  --->  6\n",
      "ma  --->  8\n"
     ]
    }
   ],
   "source": [
    "# Numeric Missing Values\n",
    "\n",
    "missing_num = []\n",
    "for feature in numeric:\n",
    "    missing = dataset[feature].isnull().sum()\n",
    "    if missing > 0:\n",
    "        print(feature, \" ---> \", missing)\n",
    "        missing_num.append(feature)"
   ]
  },
  {
   "cell_type": "code",
   "execution_count": 29,
   "metadata": {},
   "outputs": [
    {
     "name": "stdout",
     "output_type": "stream",
     "text": [
      "Percentage of NaN values for albedo  :  83 %\n",
      "Percentage of NaN values for rot_per  :  97 %\n",
      "Percentage of NaN values for GM  :  99 %\n",
      "Percentage of NaN values for BV  :  99 %\n",
      "Percentage of NaN values for UB  :  99 %\n",
      "Percentage of NaN values for IR  :  99 %\n",
      "Percentage of NaN values for G  :  99 %\n"
     ]
    }
   ],
   "source": [
    "# Numeric with more NaN values then Non-NaN values\n",
    "\n",
    "remove_num = []\n",
    "max_len = dataset.shape[0]\n",
    "\n",
    "for ele in numeric:\n",
    "    null = len(dataset[ele][dataset[ele].isnull()==True])\n",
    "    not_null = len(dataset[ele][dataset[ele].isnull()==False])\n",
    "\n",
    "    if null > not_null:\n",
    "        print(\"Percentage of NaN values for\", ele, \" : \", null*100//max_len, \"%\")\n",
    "        remove_num.append(ele)"
   ]
  },
  {
   "cell_type": "code",
   "execution_count": 30,
   "metadata": {},
   "outputs": [],
   "source": [
    "dataset.drop(remove_num, axis=1, inplace=True)"
   ]
  },
  {
   "cell_type": "code",
   "execution_count": 31,
   "metadata": {},
   "outputs": [
    {
     "name": "stdout",
     "output_type": "stream",
     "text": [
      "Remaining Row with Missing Values  ['a', 'ad', 'per_y', 'data_arc', 'H', 'moid', 'n', 'per', 'ma']\n"
     ]
    }
   ],
   "source": [
    "remain_miss_num = [x for x in missing_num if x not in remove_num]\n",
    "print(\"Remaining Row with Missing Values \", remain_miss_num)"
   ]
  },
  {
   "cell_type": "code",
   "execution_count": 32,
   "metadata": {},
   "outputs": [
    {
     "data": {
      "text/plain": [
       "2.0     9297\n",
       "1.0     7907\n",
       "3.0     6069\n",
       "8.0     4249\n",
       "4.0     4201\n",
       "5.0     4181\n",
       "9.0     3593\n",
       "6.0     3333\n",
       "7.0     3328\n",
       "10.0    2892\n",
       "Name: data_arc, dtype: int64"
      ]
     },
     "execution_count": 32,
     "metadata": {},
     "output_type": "execute_result"
    }
   ],
   "source": [
    "dataset['data_arc'].value_counts()[:10]"
   ]
  },
  {
   "cell_type": "code",
   "execution_count": 33,
   "metadata": {},
   "outputs": [
    {
     "data": {
      "text/plain": [
       "16.800    24097\n",
       "16.500    24006\n",
       "16.600    23683\n",
       "16.700    23642\n",
       "16.900    23560\n",
       "          ...  \n",
       "17.794       50\n",
       "17.228       50\n",
       "17.655       50\n",
       "17.410       50\n",
       "10.000       50\n",
       "Name: H, Length: 455, dtype: int64"
      ]
     },
     "execution_count": 33,
     "metadata": {},
     "output_type": "execute_result"
    }
   ],
   "source": [
    "dataset['H'].value_counts()[:10]"
   ]
  },
  {
   "cell_type": "markdown",
   "metadata": {},
   "source": [
    "#### Some values are very common in 'data_arc' and 'H' so treat the missing values of this two columns with mean of first 10 most occuring values"
   ]
  },
  {
   "cell_type": "code",
   "execution_count": 34,
   "metadata": {},
   "outputs": [],
   "source": [
    "def fill_na(feature):\n",
    "    dataset[feature].fillna(dataset[feature].mean(), inplace=True)"
   ]
  },
  {
   "cell_type": "code",
   "execution_count": 35,
   "metadata": {},
   "outputs": [],
   "source": [
    "for ele in remain_miss_num:\n",
    "    if ele not in ['data_arc','H']:\n",
    "        fill_na(ele)"
   ]
  },
  {
   "cell_type": "code",
   "execution_count": 36,
   "metadata": {},
   "outputs": [
    {
     "name": "stdout",
     "output_type": "stream",
     "text": [
      "Top 10 most occuring values of feature 'data_arc' :  dict_keys([2.0, 1.0, 3.0, 8.0, 4.0, 5.0, 9.0, 6.0, 7.0, 10.0])\n"
     ]
    }
   ],
   "source": [
    "most_data_arc = dict(dataset['data_arc'].value_counts()[:10])\n",
    "print(\"Top 10 most occuring values of feature 'data_arc' : \", most_data_arc.keys())"
   ]
  },
  {
   "cell_type": "code",
   "execution_count": 37,
   "metadata": {},
   "outputs": [],
   "source": [
    "mean = sum(list(most_data_arc.keys()))//10\n",
    "dataset['data_arc'].fillna(mean, inplace=True)"
   ]
  },
  {
   "cell_type": "code",
   "execution_count": 38,
   "metadata": {},
   "outputs": [
    {
     "name": "stdout",
     "output_type": "stream",
     "text": [
      "Top 10 most occuring values of feature 'H' :  [16.8, 16.5, 16.6, 16.7, 16.9, 16.4, 17.0, 17.1, 16.3, 16.2]\n"
     ]
    }
   ],
   "source": [
    "H_list = list(dict(dataset['H'].value_counts().sort_values(ascending=False)).keys())\n",
    "print(\"Top 10 most occuring values of feature 'H' : \", H_list[:10])"
   ]
  },
  {
   "cell_type": "code",
   "execution_count": 39,
   "metadata": {},
   "outputs": [],
   "source": [
    "mean_H = sum(H_list[:10])//10\n",
    "dataset['H'].fillna(mean_H, inplace=True)"
   ]
  },
  {
   "cell_type": "code",
   "execution_count": 40,
   "metadata": {},
   "outputs": [
    {
     "data": {
      "text/plain": [
       "a                      0\n",
       "e                      0\n",
       "i                      0\n",
       "om                     0\n",
       "w                      0\n",
       "q                      0\n",
       "ad                     0\n",
       "per_y                  0\n",
       "data_arc               0\n",
       "condition_code         0\n",
       "n_obs_used             0\n",
       "H                      0\n",
       "neo                    0\n",
       "pha                    0\n",
       "diameter          702078\n",
       "moid                   0\n",
       "class                  0\n",
       "n                      0\n",
       "per                    0\n",
       "ma                     0\n",
       "dtype: int64"
      ]
     },
     "execution_count": 40,
     "metadata": {},
     "output_type": "execute_result"
    }
   ],
   "source": [
    "dataset.isnull().sum()"
   ]
  },
  {
   "cell_type": "markdown",
   "metadata": {},
   "source": [
    "### As 'diameter' is target variable its missing values needs to be droped"
   ]
  },
  {
   "cell_type": "code",
   "execution_count": 41,
   "metadata": {},
   "outputs": [
    {
     "name": "stdout",
     "output_type": "stream",
     "text": [
      "Number of Non-Null values in diameter :->  137636\n",
      "Number of Null values in diameter :->  702078\n",
      "Percentage of missing values in target variable :  84 %\n"
     ]
    }
   ],
   "source": [
    "print('Number of Non-Null values in diameter :-> ', len(dataset['diameter'][dataset['diameter'].isnull() == False]))\n",
    "print('Number of Null values in diameter :-> ', len(dataset['diameter'][dataset['diameter'].isnull() == True]))\n",
    "print(\"Percentage of missing values in target variable : \", round(len(dataset['diameter'][dataset['diameter'].isnull() == True])*100/max_len), \"%\")"
   ]
  },
  {
   "cell_type": "code",
   "execution_count": 42,
   "metadata": {},
   "outputs": [
    {
     "data": {
      "text/html": [
       "<div>\n",
       "<style scoped>\n",
       "    .dataframe tbody tr th:only-of-type {\n",
       "        vertical-align: middle;\n",
       "    }\n",
       "\n",
       "    .dataframe tbody tr th {\n",
       "        vertical-align: top;\n",
       "    }\n",
       "\n",
       "    .dataframe thead th {\n",
       "        text-align: right;\n",
       "    }\n",
       "</style>\n",
       "<table border=\"1\" class=\"dataframe\">\n",
       "  <thead>\n",
       "    <tr style=\"text-align: right;\">\n",
       "      <th></th>\n",
       "      <th>a</th>\n",
       "      <th>e</th>\n",
       "      <th>i</th>\n",
       "      <th>om</th>\n",
       "      <th>w</th>\n",
       "      <th>q</th>\n",
       "      <th>ad</th>\n",
       "      <th>per_y</th>\n",
       "      <th>data_arc</th>\n",
       "      <th>condition_code</th>\n",
       "      <th>n_obs_used</th>\n",
       "      <th>H</th>\n",
       "      <th>neo</th>\n",
       "      <th>pha</th>\n",
       "      <th>diameter</th>\n",
       "      <th>moid</th>\n",
       "      <th>class</th>\n",
       "      <th>n</th>\n",
       "      <th>per</th>\n",
       "      <th>ma</th>\n",
       "    </tr>\n",
       "  </thead>\n",
       "  <tbody>\n",
       "    <tr>\n",
       "      <th>0</th>\n",
       "      <td>2.769165</td>\n",
       "      <td>0.076009</td>\n",
       "      <td>10.594067</td>\n",
       "      <td>80.305532</td>\n",
       "      <td>73.597694</td>\n",
       "      <td>2.558684</td>\n",
       "      <td>2.979647</td>\n",
       "      <td>4.608202</td>\n",
       "      <td>8822.0</td>\n",
       "      <td>0</td>\n",
       "      <td>1002</td>\n",
       "      <td>3.34</td>\n",
       "      <td>N</td>\n",
       "      <td>N</td>\n",
       "      <td>939.4</td>\n",
       "      <td>1.59478</td>\n",
       "      <td>MBA</td>\n",
       "      <td>0.213885</td>\n",
       "      <td>1683.145708</td>\n",
       "      <td>77.372096</td>\n",
       "    </tr>\n",
       "    <tr>\n",
       "      <th>1</th>\n",
       "      <td>2.772466</td>\n",
       "      <td>0.230337</td>\n",
       "      <td>34.836234</td>\n",
       "      <td>173.080063</td>\n",
       "      <td>310.048857</td>\n",
       "      <td>2.133865</td>\n",
       "      <td>3.411067</td>\n",
       "      <td>4.616444</td>\n",
       "      <td>72318.0</td>\n",
       "      <td>0</td>\n",
       "      <td>8490</td>\n",
       "      <td>4.13</td>\n",
       "      <td>N</td>\n",
       "      <td>N</td>\n",
       "      <td>545</td>\n",
       "      <td>1.23324</td>\n",
       "      <td>MBA</td>\n",
       "      <td>0.213503</td>\n",
       "      <td>1686.155999</td>\n",
       "      <td>59.699133</td>\n",
       "    </tr>\n",
       "    <tr>\n",
       "      <th>2</th>\n",
       "      <td>2.669150</td>\n",
       "      <td>0.256942</td>\n",
       "      <td>12.988919</td>\n",
       "      <td>169.852760</td>\n",
       "      <td>248.138626</td>\n",
       "      <td>1.983332</td>\n",
       "      <td>3.354967</td>\n",
       "      <td>4.360814</td>\n",
       "      <td>72684.0</td>\n",
       "      <td>0</td>\n",
       "      <td>7104</td>\n",
       "      <td>5.33</td>\n",
       "      <td>N</td>\n",
       "      <td>N</td>\n",
       "      <td>246.596</td>\n",
       "      <td>1.03454</td>\n",
       "      <td>MBA</td>\n",
       "      <td>0.226019</td>\n",
       "      <td>1592.787285</td>\n",
       "      <td>34.925016</td>\n",
       "    </tr>\n",
       "    <tr>\n",
       "      <th>3</th>\n",
       "      <td>2.361418</td>\n",
       "      <td>0.088721</td>\n",
       "      <td>7.141771</td>\n",
       "      <td>103.810804</td>\n",
       "      <td>150.728541</td>\n",
       "      <td>2.151909</td>\n",
       "      <td>2.570926</td>\n",
       "      <td>3.628837</td>\n",
       "      <td>24288.0</td>\n",
       "      <td>0</td>\n",
       "      <td>9325</td>\n",
       "      <td>3.20</td>\n",
       "      <td>N</td>\n",
       "      <td>N</td>\n",
       "      <td>525.4</td>\n",
       "      <td>1.13948</td>\n",
       "      <td>MBA</td>\n",
       "      <td>0.271609</td>\n",
       "      <td>1325.432765</td>\n",
       "      <td>95.861936</td>\n",
       "    </tr>\n",
       "    <tr>\n",
       "      <th>4</th>\n",
       "      <td>2.574249</td>\n",
       "      <td>0.191095</td>\n",
       "      <td>5.366988</td>\n",
       "      <td>141.576605</td>\n",
       "      <td>358.687607</td>\n",
       "      <td>2.082324</td>\n",
       "      <td>3.066174</td>\n",
       "      <td>4.130323</td>\n",
       "      <td>63507.0</td>\n",
       "      <td>0</td>\n",
       "      <td>2916</td>\n",
       "      <td>6.85</td>\n",
       "      <td>N</td>\n",
       "      <td>N</td>\n",
       "      <td>106.699</td>\n",
       "      <td>1.09589</td>\n",
       "      <td>MBA</td>\n",
       "      <td>0.238632</td>\n",
       "      <td>1508.600458</td>\n",
       "      <td>282.366289</td>\n",
       "    </tr>\n",
       "  </tbody>\n",
       "</table>\n",
       "</div>"
      ],
      "text/plain": [
       "          a         e          i          om           w         q        ad  \\\n",
       "0  2.769165  0.076009  10.594067   80.305532   73.597694  2.558684  2.979647   \n",
       "1  2.772466  0.230337  34.836234  173.080063  310.048857  2.133865  3.411067   \n",
       "2  2.669150  0.256942  12.988919  169.852760  248.138626  1.983332  3.354967   \n",
       "3  2.361418  0.088721   7.141771  103.810804  150.728541  2.151909  2.570926   \n",
       "4  2.574249  0.191095   5.366988  141.576605  358.687607  2.082324  3.066174   \n",
       "\n",
       "      per_y  data_arc condition_code  n_obs_used     H neo pha diameter  \\\n",
       "0  4.608202    8822.0              0        1002  3.34   N   N    939.4   \n",
       "1  4.616444   72318.0              0        8490  4.13   N   N      545   \n",
       "2  4.360814   72684.0              0        7104  5.33   N   N  246.596   \n",
       "3  3.628837   24288.0              0        9325  3.20   N   N    525.4   \n",
       "4  4.130323   63507.0              0        2916  6.85   N   N  106.699   \n",
       "\n",
       "      moid class         n          per          ma  \n",
       "0  1.59478   MBA  0.213885  1683.145708   77.372096  \n",
       "1  1.23324   MBA  0.213503  1686.155999   59.699133  \n",
       "2  1.03454   MBA  0.226019  1592.787285   34.925016  \n",
       "3  1.13948   MBA  0.271609  1325.432765   95.861936  \n",
       "4  1.09589   MBA  0.238632  1508.600458  282.366289  "
      ]
     },
     "execution_count": 42,
     "metadata": {},
     "output_type": "execute_result"
    }
   ],
   "source": [
    "clean_dataset = dataset.dropna()\n",
    "clean_dataset.head()"
   ]
  },
  {
   "cell_type": "code",
   "execution_count": 43,
   "metadata": {},
   "outputs": [],
   "source": [
    "# Converting 'diameter' to continuous datatype\n",
    "clean_dataset['Diameter'] = clean_dataset['diameter'].apply(lambda x: float(x))"
   ]
  },
  {
   "cell_type": "code",
   "execution_count": 44,
   "metadata": {},
   "outputs": [],
   "source": [
    "clean_dataset.drop('diameter', axis=1, inplace=True)"
   ]
  },
  {
   "cell_type": "code",
   "execution_count": 45,
   "metadata": {},
   "outputs": [
    {
     "data": {
      "text/plain": [
       "Index(['a', 'e', 'i', 'om', 'w', 'q', 'ad', 'per_y', 'data_arc',\n",
       "       'condition_code', 'n_obs_used', 'H', 'neo', 'pha', 'moid', 'class', 'n',\n",
       "       'per', 'ma', 'Diameter'],\n",
       "      dtype='object')"
      ]
     },
     "execution_count": 45,
     "metadata": {},
     "output_type": "execute_result"
    }
   ],
   "source": [
    "clean_dataset.columns"
   ]
  },
  {
   "cell_type": "markdown",
   "metadata": {},
   "source": [
    "## Outlier Detection & Treatment"
   ]
  },
  {
   "cell_type": "markdown",
   "metadata": {},
   "source": [
    "### Detecting Outlier using Box Plot \n"
   ]
  },
  {
   "cell_type": "code",
   "execution_count": 46,
   "metadata": {},
   "outputs": [
    {
     "data": {
      "image/png": "[encoded data removed]",
      "text/plain": [
       "<Figure size 864x576 with 1 Axes>"
      ]
     },
     "metadata": {
      "needs_background": "light"
     },
     "output_type": "display_data"
    }
   ],
   "source": [
    "plt.figure(figsize=(12,8))\n",
    "clean_dataset.boxplot()\n",
    "plt.show()"
   ]
  },
  {
   "cell_type": "markdown",
   "metadata": {},
   "source": [
    "The Feature 'per' contains very large outliers"
   ]
  },
  {
   "cell_type": "markdown",
   "metadata": {},
   "source": [
    "### Detecting Outlier using Z-Score"
   ]
  },
  {
   "cell_type": "code",
   "execution_count": 47,
   "metadata": {},
   "outputs": [],
   "source": [
    "outliers=[]\n",
    "def detect_outliers(data):\n",
    "    \n",
    "    threshold=4\n",
    "    mean = np.mean(data)\n",
    "    std =np.std(data)\n",
    "    \n",
    "    \n",
    "    for i in data:\n",
    "        z_score= (i - mean)/std \n",
    "        if np.abs(z_score) > threshold:\n",
    "            outliers.append(i)\n",
    "    return outliers"
   ]
  },
  {
   "cell_type": "code",
   "execution_count": 48,
   "metadata": {},
   "outputs": [
    {
     "name": "stdout",
     "output_type": "stream",
     "text": [
      "Numeric Data :->  ['a', 'e', 'i', 'om', 'w', 'q', 'ad', 'per_y', 'data_arc', 'n_obs_used', 'H', 'moid', 'n', 'per', 'ma', 'Diameter']\n"
     ]
    }
   ],
   "source": [
    "num_data = []\n",
    "for ele in clean_dataset.columns:\n",
    "    if clean_dataset[ele].dtype != 'object':\n",
    "        num_data.append(ele)\n",
    "print(\"Numeric Data :-> \", num_data)"
   ]
  },
  {
   "cell_type": "code",
   "execution_count": 49,
   "metadata": {},
   "outputs": [
    {
     "name": "stdout",
     "output_type": "stream",
     "text": [
      "Number of Outliers for a :---> 50\n",
      "Number of Outliers for e :---> 649\n",
      "Number of Outliers for i :---> 801\n",
      "Number of Outliers for om :---> 801\n",
      "Number of Outliers for w :---> 801\n",
      "Number of Outliers for q :---> 2636\n",
      "Number of Outliers for ad :---> 2685\n",
      "Number of Outliers for per_y :---> 2705\n",
      "Number of Outliers for data_arc :---> 4077\n",
      "Number of Outliers for n_obs_used :---> 4272\n",
      "Number of Outliers for H :---> 5036\n",
      "Number of Outliers for moid :---> 6842\n",
      "Number of Outliers for n :---> 7253\n",
      "Number of Outliers for per :---> 7273\n",
      "Number of Outliers for ma :---> 7273\n",
      "Number of Outliers for Diameter :---> 8187\n"
     ]
    }
   ],
   "source": [
    "# Number outliers from each section\n",
    "for ele in num_data:\n",
    "    outlier = detect_outliers(clean_dataset[ele])\n",
    "    if len(outlier) > 0:\n",
    "        print(\"Number of Outliers for\", ele, \":--->\", len(outlier))"
   ]
  },
  {
   "cell_type": "markdown",
   "metadata": {},
   "source": [
    "### Detecting and Treating outlier using InterQunatile Range"
   ]
  },
  {
   "cell_type": "code",
   "execution_count": 50,
   "metadata": {},
   "outputs": [],
   "source": [
    "#Function to find Lower Limit and Upper Limit\n",
    "def outlier_limits(col):\n",
    "  Q3, Q1 = np.percentile(col, [75, 25])\n",
    "  IQR = Q3 - Q1\n",
    "  UL = Q3 + 1.5*IQR\n",
    "  LL = Q1 - 1.5*IQR\n",
    "  return UL, LL"
   ]
  },
  {
   "cell_type": "markdown",
   "metadata": {},
   "source": [
    "### Treating Outliers using Capping"
   ]
  },
  {
   "cell_type": "code",
   "execution_count": 51,
   "metadata": {},
   "outputs": [],
   "source": [
    "new_df = pd.DataFrame()"
   ]
  },
  {
   "cell_type": "code",
   "execution_count": 52,
   "metadata": {},
   "outputs": [
    {
     "name": "stdout",
     "output_type": "stream",
     "text": [
      "a ---> Lower Limit : 2.0  |  Upper Limit : 4.0\n",
      "e ---> Lower Limit : -0.0  |  Upper Limit : 0.0\n",
      "i ---> Lower Limit : -8.0  |  Upper Limit : 27.0\n",
      "om ---> Lower Limit : -179.0  |  Upper Limit : 517.0\n",
      "w ---> Lower Limit : -178.0  |  Upper Limit : 541.0\n",
      "q ---> Lower Limit : 1.0  |  Upper Limit : 4.0\n",
      "ad ---> Lower Limit : 2.0  |  Upper Limit : 4.0\n",
      "per_y ---> Lower Limit : 2.0  |  Upper Limit : 8.0\n",
      "data_arc ---> Lower Limit : 1134.0  |  Upper Limit : 14882.0\n",
      "n_obs_used ---> Lower Limit : -938.0  |  Upper Limit : 2138.0\n",
      "H ---> Lower Limit : 12.0  |  Upper Limit : 19.0\n",
      "moid ---> Lower Limit : 0.0  |  Upper Limit : 3.0\n",
      "n ---> Lower Limit : 0.0  |  Upper Limit : 0.0\n",
      "per ---> Lower Limit : 710.0  |  Upper Limit : 2752.0\n",
      "ma ---> Lower Limit : -171.0  |  Upper Limit : 537.0\n",
      "Diameter ---> Lower Limit : -2.0  |  Upper Limit : 10.0\n"
     ]
    }
   ],
   "source": [
    "for ele in num_data:\n",
    "    UL, LL = outlier_limits(clean_dataset[ele])\n",
    "    print(ele, \"--->\",\"Lower Limit :\", round(LL), \" | \",\"Upper Limit :\", round(UL))\n",
    "    clean_dataset[ele] =   np.where(clean_dataset[ele]>UL, \n",
    "                    UL, \n",
    "                    np.where(\n",
    "                    clean_dataset[ele]<LL,\n",
    "                    LL,\n",
    "                    clean_dataset[ele]))"
   ]
  },
  {
   "cell_type": "code",
   "execution_count": 53,
   "metadata": {},
   "outputs": [],
   "source": [
    "# Save Clean Dataset\n",
    "clean_dataset.to_csv('Clean_Dataset.csv')"
   ]
  }
 ],
 "metadata": {
  "interpreter": {
   "hash": "9ddfba760c93d0781cb88c4db9a31eb68ca4e1616821530f19d735f356a5c9ec"
  },
  "kernelspec": {
   "display_name": "Python 3.8.3 64-bit",
   "name": "python3"
  },
  "language_info": {
   "codemirror_mode": {
    "name": "ipython",
    "version": 3
   },
   "file_extension": ".py",
   "mimetype": "text/x-python",
   "name": "python",
   "nbconvert_exporter": "python",
   "pygments_lexer": "ipython3",
   "version": "3.8.3"
  },
  "orig_nbformat": 4
 },
 "nbformat": 4,
 "nbformat_minor": 2
}
