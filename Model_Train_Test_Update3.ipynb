{
 "cells": [
  {
   "cell_type": "markdown",
   "metadata": {},
   "source": [
    "# Asteroides Diameter Predictor"
   ]
  },
  {
   "cell_type": "markdown",
   "metadata": {},
   "source": [
    "## Import Necessary Liberaries"
   ]
  },
  {
   "cell_type": "code",
   "execution_count": 1,
   "metadata": {
    "_cell_guid": "79c7e3d0-c299-4dcb-8224-4455121ee9b0",
    "_uuid": "d629ff2d2480ee46fbb7e2d37f6b5fab8052498a"
   },
   "outputs": [],
   "source": [
    "import pandas as pd\n",
    "import numpy as np\n",
    "import matplotlib.pyplot as plt\n",
    "import seaborn as sns\n",
    "from scipy import stats\n",
    "import warnings\n",
    "warnings.filterwarnings('ignore')"
   ]
  },
  {
   "cell_type": "markdown",
   "metadata": {},
   "source": [
    "## Import DataSet"
   ]
  },
  {
   "cell_type": "code",
   "execution_count": 2,
   "metadata": {},
   "outputs": [
    {
     "data": {
      "text/html": [
       "<div>\n",
       "<style scoped>\n",
       "    .dataframe tbody tr th:only-of-type {\n",
       "        vertical-align: middle;\n",
       "    }\n",
       "\n",
       "    .dataframe tbody tr th {\n",
       "        vertical-align: top;\n",
       "    }\n",
       "\n",
       "    .dataframe thead th {\n",
       "        text-align: right;\n",
       "    }\n",
       "</style>\n",
       "<table border=\"1\" class=\"dataframe\">\n",
       "  <thead>\n",
       "    <tr style=\"text-align: right;\">\n",
       "      <th></th>\n",
       "      <th>name</th>\n",
       "      <th>a</th>\n",
       "      <th>e</th>\n",
       "      <th>i</th>\n",
       "      <th>om</th>\n",
       "      <th>w</th>\n",
       "      <th>q</th>\n",
       "      <th>ad</th>\n",
       "      <th>per_y</th>\n",
       "      <th>data_arc</th>\n",
       "      <th>...</th>\n",
       "      <th>UB</th>\n",
       "      <th>IR</th>\n",
       "      <th>spec_B</th>\n",
       "      <th>spec_T</th>\n",
       "      <th>G</th>\n",
       "      <th>moid</th>\n",
       "      <th>class</th>\n",
       "      <th>n</th>\n",
       "      <th>per</th>\n",
       "      <th>ma</th>\n",
       "    </tr>\n",
       "  </thead>\n",
       "  <tbody>\n",
       "    <tr>\n",
       "      <th>0</th>\n",
       "      <td>Ceres</td>\n",
       "      <td>2.769165</td>\n",
       "      <td>0.076009</td>\n",
       "      <td>10.594067</td>\n",
       "      <td>80.305532</td>\n",
       "      <td>73.597694</td>\n",
       "      <td>2.558684</td>\n",
       "      <td>2.979647</td>\n",
       "      <td>4.608202</td>\n",
       "      <td>8822.0</td>\n",
       "      <td>...</td>\n",
       "      <td>0.426</td>\n",
       "      <td>NaN</td>\n",
       "      <td>C</td>\n",
       "      <td>G</td>\n",
       "      <td>0.12</td>\n",
       "      <td>1.59478</td>\n",
       "      <td>MBA</td>\n",
       "      <td>0.213885</td>\n",
       "      <td>1683.145708</td>\n",
       "      <td>77.372096</td>\n",
       "    </tr>\n",
       "    <tr>\n",
       "      <th>1</th>\n",
       "      <td>Pallas</td>\n",
       "      <td>2.772466</td>\n",
       "      <td>0.230337</td>\n",
       "      <td>34.836234</td>\n",
       "      <td>173.080063</td>\n",
       "      <td>310.048857</td>\n",
       "      <td>2.133865</td>\n",
       "      <td>3.411067</td>\n",
       "      <td>4.616444</td>\n",
       "      <td>72318.0</td>\n",
       "      <td>...</td>\n",
       "      <td>0.284</td>\n",
       "      <td>NaN</td>\n",
       "      <td>B</td>\n",
       "      <td>B</td>\n",
       "      <td>0.11</td>\n",
       "      <td>1.23324</td>\n",
       "      <td>MBA</td>\n",
       "      <td>0.213503</td>\n",
       "      <td>1686.155999</td>\n",
       "      <td>59.699133</td>\n",
       "    </tr>\n",
       "    <tr>\n",
       "      <th>2</th>\n",
       "      <td>Juno</td>\n",
       "      <td>2.669150</td>\n",
       "      <td>0.256942</td>\n",
       "      <td>12.988919</td>\n",
       "      <td>169.852760</td>\n",
       "      <td>248.138626</td>\n",
       "      <td>1.983332</td>\n",
       "      <td>3.354967</td>\n",
       "      <td>4.360814</td>\n",
       "      <td>72684.0</td>\n",
       "      <td>...</td>\n",
       "      <td>0.433</td>\n",
       "      <td>NaN</td>\n",
       "      <td>Sk</td>\n",
       "      <td>S</td>\n",
       "      <td>0.32</td>\n",
       "      <td>1.03454</td>\n",
       "      <td>MBA</td>\n",
       "      <td>0.226019</td>\n",
       "      <td>1592.787285</td>\n",
       "      <td>34.925016</td>\n",
       "    </tr>\n",
       "    <tr>\n",
       "      <th>3</th>\n",
       "      <td>Vesta</td>\n",
       "      <td>2.361418</td>\n",
       "      <td>0.088721</td>\n",
       "      <td>7.141771</td>\n",
       "      <td>103.810804</td>\n",
       "      <td>150.728541</td>\n",
       "      <td>2.151909</td>\n",
       "      <td>2.570926</td>\n",
       "      <td>3.628837</td>\n",
       "      <td>24288.0</td>\n",
       "      <td>...</td>\n",
       "      <td>0.492</td>\n",
       "      <td>NaN</td>\n",
       "      <td>V</td>\n",
       "      <td>V</td>\n",
       "      <td>0.32</td>\n",
       "      <td>1.13948</td>\n",
       "      <td>MBA</td>\n",
       "      <td>0.271609</td>\n",
       "      <td>1325.432765</td>\n",
       "      <td>95.861936</td>\n",
       "    </tr>\n",
       "    <tr>\n",
       "      <th>4</th>\n",
       "      <td>Astraea</td>\n",
       "      <td>2.574249</td>\n",
       "      <td>0.191095</td>\n",
       "      <td>5.366988</td>\n",
       "      <td>141.576605</td>\n",
       "      <td>358.687607</td>\n",
       "      <td>2.082324</td>\n",
       "      <td>3.066174</td>\n",
       "      <td>4.130323</td>\n",
       "      <td>63507.0</td>\n",
       "      <td>...</td>\n",
       "      <td>0.411</td>\n",
       "      <td>NaN</td>\n",
       "      <td>S</td>\n",
       "      <td>S</td>\n",
       "      <td>NaN</td>\n",
       "      <td>1.09589</td>\n",
       "      <td>MBA</td>\n",
       "      <td>0.238632</td>\n",
       "      <td>1508.600458</td>\n",
       "      <td>282.366289</td>\n",
       "    </tr>\n",
       "  </tbody>\n",
       "</table>\n",
       "<p>5 rows × 31 columns</p>\n",
       "</div>"
      ],
      "text/plain": [
       "      name         a         e          i          om           w         q  \\\n",
       "0    Ceres  2.769165  0.076009  10.594067   80.305532   73.597694  2.558684   \n",
       "1   Pallas  2.772466  0.230337  34.836234  173.080063  310.048857  2.133865   \n",
       "2     Juno  2.669150  0.256942  12.988919  169.852760  248.138626  1.983332   \n",
       "3    Vesta  2.361418  0.088721   7.141771  103.810804  150.728541  2.151909   \n",
       "4  Astraea  2.574249  0.191095   5.366988  141.576605  358.687607  2.082324   \n",
       "\n",
       "         ad     per_y  data_arc  ...     UB  IR  spec_B spec_T     G     moid  \\\n",
       "0  2.979647  4.608202    8822.0  ...  0.426 NaN       C      G  0.12  1.59478   \n",
       "1  3.411067  4.616444   72318.0  ...  0.284 NaN       B      B  0.11  1.23324   \n",
       "2  3.354967  4.360814   72684.0  ...  0.433 NaN      Sk      S  0.32  1.03454   \n",
       "3  2.570926  3.628837   24288.0  ...  0.492 NaN       V      V  0.32  1.13948   \n",
       "4  3.066174  4.130323   63507.0  ...  0.411 NaN       S      S   NaN  1.09589   \n",
       "\n",
       "  class         n          per          ma  \n",
       "0   MBA  0.213885  1683.145708   77.372096  \n",
       "1   MBA  0.213503  1686.155999   59.699133  \n",
       "2   MBA  0.226019  1592.787285   34.925016  \n",
       "3   MBA  0.271609  1325.432765   95.861936  \n",
       "4   MBA  0.238632  1508.600458  282.366289  \n",
       "\n",
       "[5 rows x 31 columns]"
      ]
     },
     "execution_count": 2,
     "metadata": {},
     "output_type": "execute_result"
    }
   ],
   "source": [
    "dataset = pd.read_csv(\"Asteroid_Updated.csv\")\n",
    "dataset.head()"
   ]
  },
  {
   "cell_type": "code",
   "execution_count": 3,
   "metadata": {},
   "outputs": [
    {
     "name": "stdout",
     "output_type": "stream",
     "text": [
      "Number of Rows :->  839714\n",
      "Number of Columns :->  31\n"
     ]
    }
   ],
   "source": [
    "# Shape of Dataset\n",
    "print(\"Number of Rows :-> \", dataset.shape[0])\n",
    "print(\"Number of Columns :-> \", dataset.shape[1])"
   ]
  },
  {
   "cell_type": "code",
   "execution_count": 4,
   "metadata": {},
   "outputs": [
    {
     "name": "stdout",
     "output_type": "stream",
     "text": [
      "<class 'pandas.core.frame.DataFrame'>\n",
      "RangeIndex: 839714 entries, 0 to 839713\n",
      "Data columns (total 31 columns):\n",
      " #   Column          Non-Null Count   Dtype  \n",
      "---  ------          --------------   -----  \n",
      " 0   name            21967 non-null   object \n",
      " 1   a               839712 non-null  float64\n",
      " 2   e               839714 non-null  float64\n",
      " 3   i               839714 non-null  float64\n",
      " 4   om              839714 non-null  float64\n",
      " 5   w               839714 non-null  float64\n",
      " 6   q               839714 non-null  float64\n",
      " 7   ad              839708 non-null  float64\n",
      " 8   per_y           839713 non-null  float64\n",
      " 9   data_arc        824240 non-null  float64\n",
      " 10  condition_code  838847 non-null  object \n",
      " 11  n_obs_used      839714 non-null  int64  \n",
      " 12  H               837025 non-null  float64\n",
      " 13  neo             839708 non-null  object \n",
      " 14  pha             823272 non-null  object \n",
      " 15  diameter        137636 non-null  object \n",
      " 16  extent          18 non-null      object \n",
      " 17  albedo          136409 non-null  float64\n",
      " 18  rot_per         18796 non-null   float64\n",
      " 19  GM              14 non-null      float64\n",
      " 20  BV              1021 non-null    float64\n",
      " 21  UB              979 non-null     float64\n",
      " 22  IR              1 non-null       float64\n",
      " 23  spec_B          1666 non-null    object \n",
      " 24  spec_T          980 non-null     object \n",
      " 25  G               119 non-null     float64\n",
      " 26  moid            823272 non-null  float64\n",
      " 27  class           839714 non-null  object \n",
      " 28  n               839712 non-null  float64\n",
      " 29  per             839708 non-null  float64\n",
      " 30  ma              839706 non-null  float64\n",
      "dtypes: float64(21), int64(1), object(9)\n",
      "memory usage: 198.6+ MB\n"
     ]
    }
   ],
   "source": [
    "dataset.info()"
   ]
  },
  {
   "cell_type": "code",
   "execution_count": 5,
   "metadata": {},
   "outputs": [
    {
     "name": "stdout",
     "output_type": "stream",
     "text": [
      "Categorical Data :  ['name', 'condition_code', 'neo', 'pha', 'diameter', 'extent', 'spec_B', 'spec_T', 'class']\n",
      "Numeric Data :  ['a', 'e', 'i', 'om', 'w', 'q', 'ad', 'per_y', 'data_arc', 'n_obs_used', 'H', 'albedo', 'rot_per', 'GM', 'BV', 'UB', 'IR', 'G', 'moid', 'n', 'per', 'ma']\n"
     ]
    }
   ],
   "source": [
    "# Segregate Data into numeric and categorical onces\n",
    "categorical, numeric = [], []\n",
    "for ele in dataset.columns:\n",
    "    if dataset[ele].dtype == 'object':\n",
    "        categorical.append(ele)\n",
    "    else:\n",
    "        numeric.append(ele)\n",
    "print(\"Categorical Data : \", categorical)\n",
    "print(\"Numeric Data : \", numeric)"
   ]
  },
  {
   "cell_type": "code",
   "execution_count": 6,
   "metadata": {},
   "outputs": [],
   "source": [
    "# Converting 'diameter' into float32 data type\n",
    "dataset['diameter'] = np.float32(dataset['diameter'])"
   ]
  },
  {
   "cell_type": "code",
   "execution_count": 7,
   "metadata": {},
   "outputs": [],
   "source": [
    "categorical.remove('diameter')"
   ]
  },
  {
   "cell_type": "markdown",
   "metadata": {},
   "source": [
    "## Handling Missing Values"
   ]
  },
  {
   "cell_type": "code",
   "execution_count": 8,
   "metadata": {},
   "outputs": [
    {
     "data": {
      "text/plain": [
       "name              817747\n",
       "a                      2\n",
       "e                      0\n",
       "i                      0\n",
       "om                     0\n",
       "w                      0\n",
       "q                      0\n",
       "ad                     6\n",
       "per_y                  1\n",
       "data_arc           15474\n",
       "condition_code       867\n",
       "n_obs_used             0\n",
       "H                   2689\n",
       "neo                    6\n",
       "pha                16442\n",
       "diameter          702078\n",
       "extent            839696\n",
       "albedo            703305\n",
       "rot_per           820918\n",
       "GM                839700\n",
       "BV                838693\n",
       "UB                838735\n",
       "IR                839713\n",
       "spec_B            838048\n",
       "spec_T            838734\n",
       "G                 839595\n",
       "moid               16442\n",
       "class                  0\n",
       "n                      2\n",
       "per                    6\n",
       "ma                     8\n",
       "dtype: int64"
      ]
     },
     "execution_count": 8,
     "metadata": {},
     "output_type": "execute_result"
    }
   ],
   "source": [
    "# All Missing Values\n",
    "dataset.isnull().sum()"
   ]
  },
  {
   "cell_type": "markdown",
   "metadata": {},
   "source": [
    "### Treating Numeric Missing Values"
   ]
  },
  {
   "cell_type": "code",
   "execution_count": 9,
   "metadata": {},
   "outputs": [
    {
     "name": "stdout",
     "output_type": "stream",
     "text": [
      "a  --->  2\n",
      "ad  --->  6\n",
      "per_y  --->  1\n",
      "data_arc  --->  15474\n",
      "H  --->  2689\n",
      "albedo  --->  703305\n",
      "rot_per  --->  820918\n",
      "GM  --->  839700\n",
      "BV  --->  838693\n",
      "UB  --->  838735\n",
      "IR  --->  839713\n",
      "G  --->  839595\n",
      "moid  --->  16442\n",
      "n  --->  2\n",
      "per  --->  6\n",
      "ma  --->  8\n"
     ]
    }
   ],
   "source": [
    "# Numeric Missing Values\n",
    "\n",
    "missing_num = []\n",
    "for feature in numeric:\n",
    "    missing = dataset[feature].isnull().sum()\n",
    "    if missing > 0:\n",
    "        print(feature, \" ---> \", missing)\n",
    "        missing_num.append(feature)"
   ]
  },
  {
   "cell_type": "code",
   "execution_count": 10,
   "metadata": {},
   "outputs": [
    {
     "name": "stdout",
     "output_type": "stream",
     "text": [
      "Percentage of NaN values for rot_per  :  97 %\n",
      "Percentage of NaN values for GM  :  99 %\n",
      "Percentage of NaN values for BV  :  99 %\n",
      "Percentage of NaN values for UB  :  99 %\n",
      "Percentage of NaN values for IR  :  99 %\n",
      "Percentage of NaN values for G  :  99 %\n"
     ]
    }
   ],
   "source": [
    "# Numeric with more than 90% NaN values \n",
    "\n",
    "remove_num = []\n",
    "max_len = dataset.shape[0]\n",
    "\n",
    "for ele in numeric:\n",
    "    null = len(dataset[ele][dataset[ele].isnull()==True])\n",
    "    not_null = len(dataset[ele][dataset[ele].isnull()==False])\n",
    "\n",
    "    if null > not_null:\n",
    "        percentage = null*100//max_len\n",
    "        if percentage > 90:\n",
    "            print(\"Percentage of NaN values for\", ele, \" : \", null*100//max_len, \"%\")\n",
    "            remove_num.append(ele)"
   ]
  },
  {
   "cell_type": "code",
   "execution_count": 11,
   "metadata": {},
   "outputs": [],
   "source": [
    "dataset.drop(remove_num, axis=1,inplace=True)"
   ]
  },
  {
   "cell_type": "code",
   "execution_count": 12,
   "metadata": {},
   "outputs": [
    {
     "name": "stdout",
     "output_type": "stream",
     "text": [
      "Remaining Row with Missing Values  ['a', 'ad', 'per_y', 'data_arc', 'H', 'albedo', 'moid', 'n', 'per', 'ma']\n"
     ]
    }
   ],
   "source": [
    "remain_miss_num = [x for x in missing_num if x not in remove_num]\n",
    "print(\"Remaining Row with Missing Values \", remain_miss_num)"
   ]
  },
  {
   "cell_type": "code",
   "execution_count": 13,
   "metadata": {},
   "outputs": [],
   "source": [
    "def fill_na(feature):\n",
    "    mean = dataset[feature].mean()\n",
    "    dataset[feature].fillna(mean, inplace=True)"
   ]
  },
  {
   "cell_type": "code",
   "execution_count": 14,
   "metadata": {},
   "outputs": [],
   "source": [
    "# Filling the remaining missing values with Mean\n",
    "for ele in remain_miss_num:\n",
    "    fill_na(ele)"
   ]
  },
  {
   "cell_type": "code",
   "execution_count": 15,
   "metadata": {},
   "outputs": [
    {
     "data": {
      "text/plain": [
       "Index(['name', 'a', 'e', 'i', 'om', 'w', 'q', 'ad', 'per_y', 'data_arc',\n",
       "       'condition_code', 'n_obs_used', 'H', 'neo', 'pha', 'diameter', 'extent',\n",
       "       'albedo', 'spec_B', 'spec_T', 'moid', 'class', 'n', 'per', 'ma'],\n",
       "      dtype='object')"
      ]
     },
     "execution_count": 15,
     "metadata": {},
     "output_type": "execute_result"
    }
   ],
   "source": [
    "dataset.columns"
   ]
  },
  {
   "cell_type": "markdown",
   "metadata": {},
   "source": [
    "### Treating Categorical Missing Values"
   ]
  },
  {
   "cell_type": "code",
   "execution_count": 16,
   "metadata": {},
   "outputs": [
    {
     "data": {
      "text/plain": [
       "['name', 'condition_code', 'neo', 'pha', 'extent', 'spec_B', 'spec_T', 'class']"
      ]
     },
     "execution_count": 16,
     "metadata": {},
     "output_type": "execute_result"
    }
   ],
   "source": [
    "categorical"
   ]
  },
  {
   "cell_type": "code",
   "execution_count": 17,
   "metadata": {},
   "outputs": [
    {
     "name": "stdout",
     "output_type": "stream",
     "text": [
      "name  --->  817747\n",
      "condition_code  --->  867\n",
      "neo  --->  6\n",
      "pha  --->  16442\n",
      "extent  --->  839696\n",
      "spec_B  --->  838048\n",
      "spec_T  --->  838734\n"
     ]
    }
   ],
   "source": [
    "# Categorical Missing Values\n",
    "for feature in categorical:\n",
    "    missing = dataset[feature].isnull().sum()\n",
    "    if missing > 0:\n",
    "        print(feature, \" ---> \", missing)"
   ]
  },
  {
   "cell_type": "code",
   "execution_count": 18,
   "metadata": {},
   "outputs": [
    {
     "data": {
      "text/plain": [
       "0      540392\n",
       "0       95711\n",
       "9       23942\n",
       "1       22193\n",
       "5       19766\n",
       "6       17103\n",
       "7       15556\n",
       "8       15474\n",
       "4       15173\n",
       "2       14541\n",
       "1       10568\n",
       "3        9430\n",
       "9.0      7224\n",
       "6.0      5804\n",
       "2        5563\n",
       "5        5336\n",
       "7.0      4946\n",
       "8.0      4347\n",
       "3        3133\n",
       "4        2490\n",
       "E         154\n",
       "D           1\n",
       "Name: condition_code, dtype: int64"
      ]
     },
     "execution_count": 18,
     "metadata": {},
     "output_type": "execute_result"
    }
   ],
   "source": [
    "dataset['condition_code'].value_counts()"
   ]
  },
  {
   "cell_type": "markdown",
   "metadata": {},
   "source": [
    "#### Some values are string and some are float and some numbers are in string formate so It seems to be that data is corrupted due to severe changes in data type and its occurances. So this column need to be droped  "
   ]
  },
  {
   "cell_type": "code",
   "execution_count": 19,
   "metadata": {},
   "outputs": [],
   "source": [
    "dataset.drop('condition_code', axis=1, inplace=True)\n",
    "categorical.remove('condition_code')"
   ]
  },
  {
   "cell_type": "code",
   "execution_count": 20,
   "metadata": {},
   "outputs": [
    {
     "name": "stdout",
     "output_type": "stream",
     "text": [
      "Percentage of NaN values for name  :  97 %\n",
      "Percentage of NaN values for extent  :  99 %\n",
      "Percentage of NaN values for spec_B  :  99 %\n",
      "Percentage of NaN values for spec_T  :  99 %\n"
     ]
    }
   ],
   "source": [
    "# Categories with more then 90% NaN values\n",
    "\n",
    "remove_cat = []\n",
    "max_len = dataset.shape[0]\n",
    "\n",
    "for ele in categorical:\n",
    "    null = len(dataset[ele][dataset[ele].isnull()==True])\n",
    "    not_null = len(dataset[ele][dataset[ele].isnull()==False])\n",
    "\n",
    "    if null > not_null:\n",
    "        percentage = null*100//max_len\n",
    "        if percentage > 90:\n",
    "            print(\"Percentage of NaN values for\", ele, \" : \", null*100//max_len, \"%\")\n",
    "            remove_cat.append(ele)\n"
   ]
  },
  {
   "cell_type": "code",
   "execution_count": 21,
   "metadata": {},
   "outputs": [],
   "source": [
    "dataset.drop(remove_cat, axis=1, inplace=True)"
   ]
  },
  {
   "cell_type": "code",
   "execution_count": 22,
   "metadata": {},
   "outputs": [],
   "source": [
    "# Filling the remaining columns with mode.\n",
    "dataset['neo'].fillna(dataset['neo'].mode()[0], inplace=True)\n",
    "dataset['pha'].fillna(dataset['pha'].mode()[0], inplace=True)\n",
    "dataset['class'].fillna(dataset['class'].mode()[0], inplace=True)"
   ]
  },
  {
   "cell_type": "code",
   "execution_count": 23,
   "metadata": {},
   "outputs": [
    {
     "data": {
      "text/plain": [
       "a                  0\n",
       "e                  0\n",
       "i                  0\n",
       "om                 0\n",
       "w                  0\n",
       "q                  0\n",
       "ad                 0\n",
       "per_y              0\n",
       "data_arc           0\n",
       "n_obs_used         0\n",
       "H                  0\n",
       "neo                0\n",
       "pha                0\n",
       "diameter      702078\n",
       "albedo             0\n",
       "moid               0\n",
       "class              0\n",
       "n                  0\n",
       "per                0\n",
       "ma                 0\n",
       "dtype: int64"
      ]
     },
     "execution_count": 23,
     "metadata": {},
     "output_type": "execute_result"
    }
   ],
   "source": [
    "dataset.isnull().sum()"
   ]
  },
  {
   "cell_type": "code",
   "execution_count": 24,
   "metadata": {},
   "outputs": [],
   "source": [
    "# Filling 'diameter' column with mean.\n",
    "dataset['diameter'].fillna(dataset['diameter'].mean(), inplace=True)"
   ]
  },
  {
   "cell_type": "markdown",
   "metadata": {},
   "source": [
    "## Outliers in 'diameter'"
   ]
  },
  {
   "cell_type": "code",
   "execution_count": 25,
   "metadata": {},
   "outputs": [
    {
     "data": {
      "image/png": "[encoded data removed]",
      "text/plain": [
       "<Figure size 432x288 with 1 Axes>"
      ]
     },
     "metadata": {
      "needs_background": "light"
     },
     "output_type": "display_data"
    }
   ],
   "source": [
    "plt.boxplot(dataset['diameter'])\n",
    "plt.show()"
   ]
  },
  {
   "cell_type": "code",
   "execution_count": 26,
   "metadata": {},
   "outputs": [
    {
     "name": "stdout",
     "output_type": "stream",
     "text": [
      "Number of rows with diameter greater than 7 :  21935\n"
     ]
    }
   ],
   "source": [
    "print(\"Number of rows with diameter greater than 7 : \",len(dataset[dataset['diameter']>7]))"
   ]
  },
  {
   "cell_type": "code",
   "execution_count": 27,
   "metadata": {},
   "outputs": [
    {
     "name": "stdout",
     "output_type": "stream",
     "text": [
      "Number of rows with diameter greater than 8 :  16156\n"
     ]
    }
   ],
   "source": [
    "print(\"Number of rows with diameter greater than 8 : \",len(dataset[dataset['diameter']>8]))"
   ]
  },
  {
   "cell_type": "markdown",
   "metadata": {},
   "source": [
    "#### Number of rows with diameter greater than 8 is very less as compare to size of dataset so considering data with 'diameter' less than 8"
   ]
  },
  {
   "cell_type": "code",
   "execution_count": 28,
   "metadata": {},
   "outputs": [],
   "source": [
    "dataset = dataset[dataset['diameter']<8]"
   ]
  },
  {
   "cell_type": "markdown",
   "metadata": {},
   "source": [
    "## Converting categorical data into numeric"
   ]
  },
  {
   "cell_type": "code",
   "execution_count": 29,
   "metadata": {},
   "outputs": [
    {
     "data": {
      "text/plain": [
       "N    802162\n",
       "Y     21394\n",
       "Name: neo, dtype: int64"
      ]
     },
     "execution_count": 29,
     "metadata": {},
     "output_type": "execute_result"
    }
   ],
   "source": [
    "dataset['neo'].value_counts()"
   ]
  },
  {
   "cell_type": "code",
   "execution_count": 30,
   "metadata": {},
   "outputs": [
    {
     "data": {
      "text/plain": [
       "N    821541\n",
       "Y      2015\n",
       "Name: pha, dtype: int64"
      ]
     },
     "execution_count": 30,
     "metadata": {},
     "output_type": "execute_result"
    }
   ],
   "source": [
    "dataset['pha'].value_counts()"
   ]
  },
  {
   "cell_type": "code",
   "execution_count": 31,
   "metadata": {},
   "outputs": [
    {
     "data": {
      "text/plain": [
       "MBA    735512\n",
       "OMB     22415\n",
       "IMB     17541\n",
       "MCA     17340\n",
       "APO     11758\n",
       "AMO      8015\n",
       "TJN      5523\n",
       "TNO      3299\n",
       "ATE      1601\n",
       "CEN       447\n",
       "AST        79\n",
       "IEO        20\n",
       "HYA         4\n",
       "PAA         2\n",
       "Name: class, dtype: int64"
      ]
     },
     "execution_count": 31,
     "metadata": {},
     "output_type": "execute_result"
    }
   ],
   "source": [
    "dataset['class'].value_counts()"
   ]
  },
  {
   "cell_type": "code",
   "execution_count": 32,
   "metadata": {},
   "outputs": [],
   "source": [
    "# Label Encoding the categorical features 'neo' and 'pha' due to severe imbalanced data\n",
    "from sklearn.preprocessing import LabelEncoder\n",
    "lb_encode = LabelEncoder()\n",
    "dataset['neo'] = lb_encode.fit_transform(dataset['neo'])\n",
    "dataset['pha'] = lb_encode.fit_transform(dataset['pha'])"
   ]
  },
  {
   "cell_type": "code",
   "execution_count": 33,
   "metadata": {},
   "outputs": [
    {
     "data": {
      "text/html": [
       "<div>\n",
       "<style scoped>\n",
       "    .dataframe tbody tr th:only-of-type {\n",
       "        vertical-align: middle;\n",
       "    }\n",
       "\n",
       "    .dataframe tbody tr th {\n",
       "        vertical-align: top;\n",
       "    }\n",
       "\n",
       "    .dataframe thead th {\n",
       "        text-align: right;\n",
       "    }\n",
       "</style>\n",
       "<table border=\"1\" class=\"dataframe\">\n",
       "  <thead>\n",
       "    <tr style=\"text-align: right;\">\n",
       "      <th></th>\n",
       "      <th>APO</th>\n",
       "      <th>AST</th>\n",
       "      <th>ATE</th>\n",
       "      <th>CEN</th>\n",
       "      <th>HYA</th>\n",
       "      <th>IEO</th>\n",
       "      <th>IMB</th>\n",
       "      <th>MBA</th>\n",
       "      <th>MCA</th>\n",
       "      <th>OMB</th>\n",
       "      <th>PAA</th>\n",
       "      <th>TJN</th>\n",
       "      <th>TNO</th>\n",
       "    </tr>\n",
       "  </thead>\n",
       "  <tbody>\n",
       "    <tr>\n",
       "      <th>314</th>\n",
       "      <td>0</td>\n",
       "      <td>0</td>\n",
       "      <td>0</td>\n",
       "      <td>0</td>\n",
       "      <td>0</td>\n",
       "      <td>0</td>\n",
       "      <td>0</td>\n",
       "      <td>1</td>\n",
       "      <td>0</td>\n",
       "      <td>0</td>\n",
       "      <td>0</td>\n",
       "      <td>0</td>\n",
       "      <td>0</td>\n",
       "    </tr>\n",
       "    <tr>\n",
       "      <th>648</th>\n",
       "      <td>0</td>\n",
       "      <td>0</td>\n",
       "      <td>0</td>\n",
       "      <td>0</td>\n",
       "      <td>0</td>\n",
       "      <td>0</td>\n",
       "      <td>0</td>\n",
       "      <td>1</td>\n",
       "      <td>0</td>\n",
       "      <td>0</td>\n",
       "      <td>0</td>\n",
       "      <td>0</td>\n",
       "      <td>0</td>\n",
       "    </tr>\n",
       "    <tr>\n",
       "      <th>681</th>\n",
       "      <td>0</td>\n",
       "      <td>0</td>\n",
       "      <td>0</td>\n",
       "      <td>0</td>\n",
       "      <td>0</td>\n",
       "      <td>0</td>\n",
       "      <td>0</td>\n",
       "      <td>1</td>\n",
       "      <td>0</td>\n",
       "      <td>0</td>\n",
       "      <td>0</td>\n",
       "      <td>0</td>\n",
       "      <td>0</td>\n",
       "    </tr>\n",
       "    <tr>\n",
       "      <th>698</th>\n",
       "      <td>0</td>\n",
       "      <td>0</td>\n",
       "      <td>0</td>\n",
       "      <td>0</td>\n",
       "      <td>0</td>\n",
       "      <td>0</td>\n",
       "      <td>0</td>\n",
       "      <td>0</td>\n",
       "      <td>1</td>\n",
       "      <td>0</td>\n",
       "      <td>0</td>\n",
       "      <td>0</td>\n",
       "      <td>0</td>\n",
       "    </tr>\n",
       "    <tr>\n",
       "      <th>702</th>\n",
       "      <td>0</td>\n",
       "      <td>0</td>\n",
       "      <td>0</td>\n",
       "      <td>0</td>\n",
       "      <td>0</td>\n",
       "      <td>0</td>\n",
       "      <td>0</td>\n",
       "      <td>1</td>\n",
       "      <td>0</td>\n",
       "      <td>0</td>\n",
       "      <td>0</td>\n",
       "      <td>0</td>\n",
       "      <td>0</td>\n",
       "    </tr>\n",
       "  </tbody>\n",
       "</table>\n",
       "</div>"
      ],
      "text/plain": [
       "     APO  AST  ATE  CEN  HYA  IEO  IMB  MBA  MCA  OMB  PAA  TJN  TNO\n",
       "314    0    0    0    0    0    0    0    1    0    0    0    0    0\n",
       "648    0    0    0    0    0    0    0    1    0    0    0    0    0\n",
       "681    0    0    0    0    0    0    0    1    0    0    0    0    0\n",
       "698    0    0    0    0    0    0    0    0    1    0    0    0    0\n",
       "702    0    0    0    0    0    0    0    1    0    0    0    0    0"
      ]
     },
     "execution_count": 33,
     "metadata": {},
     "output_type": "execute_result"
    }
   ],
   "source": [
    "# Treating categorical feature 'class' with dummy variables trap\n",
    "class_dummy = pd.get_dummies(dataset['class'], drop_first=True)\n",
    "class_dummy.head()"
   ]
  },
  {
   "cell_type": "code",
   "execution_count": 34,
   "metadata": {},
   "outputs": [],
   "source": [
    "# Combining both datasets\n",
    "dataset = pd.concat([dataset, class_dummy], axis=1)\n",
    "dataset.drop('class', axis = 1, inplace=True)"
   ]
  },
  {
   "cell_type": "code",
   "execution_count": 35,
   "metadata": {},
   "outputs": [],
   "source": [
    "# Saving the cleaned numeric dataset\n",
    "dataset.to_csv(\"Clean_Num_data.csv\")"
   ]
  },
  {
   "cell_type": "code",
   "execution_count": 36,
   "metadata": {},
   "outputs": [],
   "source": [
    "# Seprating target feature from dataset\n",
    "dataset, target = dataset.drop('diameter', axis=1), dataset['diameter']"
   ]
  },
  {
   "cell_type": "code",
   "execution_count": 37,
   "metadata": {},
   "outputs": [],
   "source": [
    "# Converting dataset of data type float64 to float32\n",
    "ndataset = np.float32(dataset)"
   ]
  },
  {
   "cell_type": "markdown",
   "metadata": {},
   "source": [
    "## Split Data set into Training and test set"
   ]
  },
  {
   "cell_type": "code",
   "execution_count": 38,
   "metadata": {},
   "outputs": [],
   "source": [
    "from sklearn.model_selection import train_test_split\n",
    "X_train, X_test, y_train, y_test = train_test_split(ndataset, target, test_size = 0.2, random_state = 0)"
   ]
  },
  {
   "cell_type": "markdown",
   "metadata": {},
   "source": [
    "## Scaling the data"
   ]
  },
  {
   "cell_type": "code",
   "execution_count": 39,
   "metadata": {},
   "outputs": [],
   "source": [
    "from sklearn.preprocessing import StandardScaler\n",
    "sc_scale = StandardScaler()\n",
    "X_train = sc_scale.fit_transform(X_train)\n",
    "X_test = sc_scale.transform(X_test)"
   ]
  },
  {
   "cell_type": "markdown",
   "metadata": {},
   "source": [
    "## Evaluation "
   ]
  },
  {
   "cell_type": "code",
   "execution_count": 40,
   "metadata": {},
   "outputs": [],
   "source": [
    "from sklearn.metrics import mean_absolute_error\n",
    "from sklearn.metrics import mean_squared_error\n",
    "from math import sqrt\n",
    "from sklearn.metrics import r2_score"
   ]
  },
  {
   "cell_type": "code",
   "execution_count": 41,
   "metadata": {},
   "outputs": [],
   "source": [
    "def evaluate(y_pred, y_actual):\n",
    "    mae = round(mean_absolute_error(y_actual, y_pred), 4)\n",
    "    mse = round(mean_squared_error(y_actual, y_pred), 4)\n",
    "    rmse = round(sqrt(mse), 4)\n",
    "    r2 = round(r2_score(y_actual, y_pred), 4)\n",
    "\n",
    "    print(\"Mean Absolute Error :-> \", mae)\n",
    "    print(\"Mean Squared Error :-> \", mse)\n",
    "    print(\"Root Mean Squared Error :-> \", rmse)\n",
    "    print(\"R-Square :-> \", r2)\n",
    "\n",
    "    return mae, mse, rmse, r2"
   ]
  },
  {
   "cell_type": "markdown",
   "metadata": {},
   "source": [
    "## Applying Algorithms"
   ]
  },
  {
   "cell_type": "code",
   "execution_count": 42,
   "metadata": {},
   "outputs": [],
   "source": [
    "algo_score = {}     # For Storing Algoriths name and its performance"
   ]
  },
  {
   "cell_type": "markdown",
   "metadata": {},
   "source": [
    "### CatBoost Regressor"
   ]
  },
  {
   "cell_type": "code",
   "execution_count": 43,
   "metadata": {},
   "outputs": [
    {
     "name": "stdout",
     "output_type": "stream",
     "text": [
      "Learning rate set to 0.114169\n",
      "0:\tlearn: 0.7574489\ttotal: 221ms\tremaining: 3m 40s\n",
      "1:\tlearn: 0.6873353\ttotal: 278ms\tremaining: 2m 18s\n",
      "2:\tlearn: 0.6258838\ttotal: 334ms\tremaining: 1m 50s\n",
      "3:\tlearn: 0.5714819\ttotal: 388ms\tremaining: 1m 36s\n",
      "4:\tlearn: 0.5235177\ttotal: 444ms\tremaining: 1m 28s\n",
      "5:\tlearn: 0.4823801\ttotal: 501ms\tremaining: 1m 23s\n",
      "6:\tlearn: 0.4471151\ttotal: 553ms\tremaining: 1m 18s\n",
      "7:\tlearn: 0.4157595\ttotal: 602ms\tremaining: 1m 14s\n",
      "8:\tlearn: 0.3881428\ttotal: 653ms\tremaining: 1m 11s\n",
      "9:\tlearn: 0.3645245\ttotal: 703ms\tremaining: 1m 9s\n",
      "10:\tlearn: 0.3437910\ttotal: 753ms\tremaining: 1m 7s\n",
      "11:\tlearn: 0.3267239\ttotal: 801ms\tremaining: 1m 5s\n",
      "12:\tlearn: 0.3111830\ttotal: 849ms\tremaining: 1m 4s\n",
      "13:\tlearn: 0.2977348\ttotal: 901ms\tremaining: 1m 3s\n",
      "14:\tlearn: 0.2857934\ttotal: 951ms\tremaining: 1m 2s\n",
      "15:\tlearn: 0.2752796\ttotal: 1s\tremaining: 1m 1s\n",
      "16:\tlearn: 0.2668233\ttotal: 1.06s\tremaining: 1m 1s\n",
      "17:\tlearn: 0.2590552\ttotal: 1.11s\tremaining: 1m\n",
      "18:\tlearn: 0.2522546\ttotal: 1.16s\tremaining: 60s\n",
      "19:\tlearn: 0.2460793\ttotal: 1.21s\tremaining: 59.4s\n",
      "20:\tlearn: 0.2407892\ttotal: 1.26s\tremaining: 58.9s\n",
      "21:\tlearn: 0.2368129\ttotal: 1.31s\tremaining: 58.3s\n",
      "22:\tlearn: 0.2334802\ttotal: 1.36s\tremaining: 57.9s\n",
      "23:\tlearn: 0.2300216\ttotal: 1.41s\tremaining: 57.4s\n",
      "24:\tlearn: 0.2272037\ttotal: 1.46s\tremaining: 57s\n",
      "25:\tlearn: 0.2245656\ttotal: 1.51s\tremaining: 56.6s\n",
      "26:\tlearn: 0.2213363\ttotal: 1.56s\tremaining: 56.3s\n",
      "27:\tlearn: 0.2192919\ttotal: 1.61s\tremaining: 55.9s\n",
      "28:\tlearn: 0.2166763\ttotal: 1.66s\tremaining: 55.6s\n",
      "29:\tlearn: 0.2151573\ttotal: 1.71s\tremaining: 55.2s\n",
      "30:\tlearn: 0.2133481\ttotal: 1.75s\tremaining: 54.9s\n",
      "31:\tlearn: 0.2121495\ttotal: 1.8s\tremaining: 54.4s\n",
      "32:\tlearn: 0.2103494\ttotal: 1.85s\tremaining: 54.2s\n",
      "33:\tlearn: 0.2093693\ttotal: 1.89s\tremaining: 53.8s\n",
      "34:\tlearn: 0.2078385\ttotal: 1.94s\tremaining: 53.6s\n",
      "35:\tlearn: 0.2067184\ttotal: 1.99s\tremaining: 53.2s\n",
      "36:\tlearn: 0.2054784\ttotal: 2.04s\tremaining: 53s\n",
      "37:\tlearn: 0.2044113\ttotal: 2.08s\tremaining: 52.7s\n",
      "38:\tlearn: 0.2032919\ttotal: 2.13s\tremaining: 52.6s\n",
      "39:\tlearn: 0.2024964\ttotal: 2.18s\tremaining: 52.3s\n",
      "40:\tlearn: 0.2016822\ttotal: 2.23s\tremaining: 52.1s\n",
      "41:\tlearn: 0.2009006\ttotal: 2.27s\tremaining: 51.9s\n",
      "42:\tlearn: 0.2002284\ttotal: 2.32s\tremaining: 51.7s\n",
      "43:\tlearn: 0.1995025\ttotal: 2.37s\tremaining: 51.5s\n",
      "44:\tlearn: 0.1987066\ttotal: 2.42s\tremaining: 51.4s\n",
      "45:\tlearn: 0.1981136\ttotal: 2.47s\tremaining: 51.3s\n",
      "46:\tlearn: 0.1975524\ttotal: 2.52s\tremaining: 51.2s\n",
      "47:\tlearn: 0.1971688\ttotal: 2.57s\tremaining: 50.9s\n",
      "48:\tlearn: 0.1966241\ttotal: 2.62s\tremaining: 50.8s\n",
      "49:\tlearn: 0.1959533\ttotal: 2.67s\tremaining: 50.7s\n",
      "50:\tlearn: 0.1956036\ttotal: 2.72s\tremaining: 50.6s\n",
      "51:\tlearn: 0.1951952\ttotal: 2.77s\tremaining: 50.5s\n",
      "52:\tlearn: 0.1945392\ttotal: 2.83s\tremaining: 50.6s\n",
      "53:\tlearn: 0.1941077\ttotal: 2.89s\tremaining: 50.6s\n",
      "54:\tlearn: 0.1937663\ttotal: 2.94s\tremaining: 50.5s\n",
      "55:\tlearn: 0.1930610\ttotal: 3.1s\tremaining: 52.3s\n",
      "56:\tlearn: 0.1927362\ttotal: 3.29s\tremaining: 54.5s\n",
      "57:\tlearn: 0.1922850\ttotal: 3.37s\tremaining: 54.7s\n",
      "58:\tlearn: 0.1919437\ttotal: 3.44s\tremaining: 54.8s\n",
      "59:\tlearn: 0.1916552\ttotal: 3.51s\tremaining: 55s\n",
      "60:\tlearn: 0.1913803\ttotal: 3.58s\tremaining: 55.2s\n",
      "61:\tlearn: 0.1910749\ttotal: 3.66s\tremaining: 55.4s\n",
      "62:\tlearn: 0.1906902\ttotal: 3.74s\tremaining: 55.6s\n",
      "63:\tlearn: 0.1905902\ttotal: 3.8s\tremaining: 55.6s\n",
      "64:\tlearn: 0.1901708\ttotal: 3.86s\tremaining: 55.5s\n",
      "65:\tlearn: 0.1898614\ttotal: 3.92s\tremaining: 55.5s\n",
      "66:\tlearn: 0.1896904\ttotal: 3.98s\tremaining: 55.4s\n",
      "67:\tlearn: 0.1891239\ttotal: 4.04s\tremaining: 55.4s\n",
      "68:\tlearn: 0.1888658\ttotal: 4.09s\tremaining: 55.3s\n",
      "69:\tlearn: 0.1886409\ttotal: 4.15s\tremaining: 55.1s\n",
      "70:\tlearn: 0.1884346\ttotal: 4.21s\tremaining: 55s\n",
      "71:\tlearn: 0.1882233\ttotal: 4.27s\tremaining: 55s\n",
      "72:\tlearn: 0.1879223\ttotal: 4.34s\tremaining: 55.1s\n",
      "73:\tlearn: 0.1877270\ttotal: 4.41s\tremaining: 55.2s\n",
      "74:\tlearn: 0.1875451\ttotal: 4.47s\tremaining: 55.1s\n",
      "75:\tlearn: 0.1873120\ttotal: 4.52s\tremaining: 55s\n",
      "76:\tlearn: 0.1871237\ttotal: 4.58s\tremaining: 54.9s\n",
      "77:\tlearn: 0.1869547\ttotal: 4.63s\tremaining: 54.7s\n",
      "78:\tlearn: 0.1868231\ttotal: 4.68s\tremaining: 54.5s\n",
      "79:\tlearn: 0.1866978\ttotal: 4.73s\tremaining: 54.4s\n",
      "80:\tlearn: 0.1864228\ttotal: 4.79s\tremaining: 54.3s\n",
      "81:\tlearn: 0.1862804\ttotal: 4.84s\tremaining: 54.2s\n",
      "82:\tlearn: 0.1861791\ttotal: 4.9s\tremaining: 54.1s\n",
      "83:\tlearn: 0.1860155\ttotal: 4.95s\tremaining: 54s\n",
      "84:\tlearn: 0.1859253\ttotal: 5s\tremaining: 53.8s\n",
      "85:\tlearn: 0.1858104\ttotal: 5.05s\tremaining: 53.7s\n",
      "86:\tlearn: 0.1856453\ttotal: 5.11s\tremaining: 53.6s\n",
      "87:\tlearn: 0.1854888\ttotal: 5.18s\tremaining: 53.7s\n",
      "88:\tlearn: 0.1853441\ttotal: 5.23s\tremaining: 53.6s\n",
      "89:\tlearn: 0.1849079\ttotal: 5.29s\tremaining: 53.4s\n",
      "90:\tlearn: 0.1847310\ttotal: 5.33s\tremaining: 53.3s\n",
      "91:\tlearn: 0.1842550\ttotal: 5.39s\tremaining: 53.2s\n",
      "92:\tlearn: 0.1841524\ttotal: 5.44s\tremaining: 53s\n",
      "93:\tlearn: 0.1840025\ttotal: 5.49s\tremaining: 52.9s\n",
      "94:\tlearn: 0.1838504\ttotal: 5.54s\tremaining: 52.8s\n",
      "95:\tlearn: 0.1837863\ttotal: 5.59s\tremaining: 52.6s\n",
      "96:\tlearn: 0.1836124\ttotal: 5.64s\tremaining: 52.5s\n",
      "97:\tlearn: 0.1835363\ttotal: 5.7s\tremaining: 52.5s\n",
      "98:\tlearn: 0.1834467\ttotal: 5.87s\tremaining: 53.4s\n",
      "99:\tlearn: 0.1833309\ttotal: 5.98s\tremaining: 53.8s\n",
      "100:\tlearn: 0.1832208\ttotal: 6.04s\tremaining: 53.8s\n",
      "101:\tlearn: 0.1831609\ttotal: 6.11s\tremaining: 53.8s\n",
      "102:\tlearn: 0.1830739\ttotal: 6.18s\tremaining: 53.8s\n",
      "103:\tlearn: 0.1829562\ttotal: 6.25s\tremaining: 53.8s\n",
      "104:\tlearn: 0.1826583\ttotal: 6.33s\tremaining: 54s\n",
      "105:\tlearn: 0.1825286\ttotal: 6.4s\tremaining: 54s\n",
      "106:\tlearn: 0.1824097\ttotal: 6.48s\tremaining: 54.1s\n",
      "107:\tlearn: 0.1822820\ttotal: 6.55s\tremaining: 54.1s\n",
      "108:\tlearn: 0.1820396\ttotal: 6.61s\tremaining: 54.1s\n",
      "109:\tlearn: 0.1819784\ttotal: 6.66s\tremaining: 53.9s\n",
      "110:\tlearn: 0.1818187\ttotal: 6.72s\tremaining: 53.8s\n",
      "111:\tlearn: 0.1817576\ttotal: 6.77s\tremaining: 53.7s\n",
      "112:\tlearn: 0.1816587\ttotal: 6.82s\tremaining: 53.6s\n",
      "113:\tlearn: 0.1815232\ttotal: 6.88s\tremaining: 53.5s\n",
      "114:\tlearn: 0.1813780\ttotal: 6.93s\tremaining: 53.4s\n",
      "115:\tlearn: 0.1813156\ttotal: 6.99s\tremaining: 53.3s\n",
      "116:\tlearn: 0.1812659\ttotal: 7.07s\tremaining: 53.3s\n",
      "117:\tlearn: 0.1809588\ttotal: 7.15s\tremaining: 53.4s\n",
      "118:\tlearn: 0.1808669\ttotal: 7.2s\tremaining: 53.3s\n",
      "119:\tlearn: 0.1807600\ttotal: 7.25s\tremaining: 53.2s\n",
      "120:\tlearn: 0.1806698\ttotal: 7.3s\tremaining: 53s\n",
      "121:\tlearn: 0.1806179\ttotal: 7.35s\tremaining: 52.9s\n",
      "122:\tlearn: 0.1805746\ttotal: 7.4s\tremaining: 52.8s\n",
      "123:\tlearn: 0.1804649\ttotal: 7.46s\tremaining: 52.7s\n",
      "124:\tlearn: 0.1803854\ttotal: 7.51s\tremaining: 52.6s\n",
      "125:\tlearn: 0.1802960\ttotal: 7.57s\tremaining: 52.5s\n",
      "126:\tlearn: 0.1802022\ttotal: 7.62s\tremaining: 52.4s\n",
      "127:\tlearn: 0.1801370\ttotal: 7.68s\tremaining: 52.3s\n",
      "128:\tlearn: 0.1800892\ttotal: 7.74s\tremaining: 52.2s\n",
      "129:\tlearn: 0.1800193\ttotal: 7.79s\tremaining: 52.2s\n",
      "130:\tlearn: 0.1799521\ttotal: 7.85s\tremaining: 52.1s\n",
      "131:\tlearn: 0.1798815\ttotal: 7.92s\tremaining: 52.1s\n",
      "132:\tlearn: 0.1798020\ttotal: 7.98s\tremaining: 52s\n",
      "133:\tlearn: 0.1797439\ttotal: 8.04s\tremaining: 52s\n",
      "134:\tlearn: 0.1796376\ttotal: 8.11s\tremaining: 52s\n",
      "135:\tlearn: 0.1796142\ttotal: 8.17s\tremaining: 51.9s\n",
      "136:\tlearn: 0.1795587\ttotal: 8.24s\tremaining: 51.9s\n",
      "137:\tlearn: 0.1794734\ttotal: 8.3s\tremaining: 51.9s\n",
      "138:\tlearn: 0.1793878\ttotal: 8.37s\tremaining: 51.8s\n",
      "139:\tlearn: 0.1793667\ttotal: 8.43s\tremaining: 51.8s\n",
      "140:\tlearn: 0.1793314\ttotal: 8.49s\tremaining: 51.7s\n",
      "141:\tlearn: 0.1790906\ttotal: 8.56s\tremaining: 51.7s\n",
      "142:\tlearn: 0.1790368\ttotal: 8.62s\tremaining: 51.7s\n",
      "143:\tlearn: 0.1789064\ttotal: 8.7s\tremaining: 51.7s\n",
      "144:\tlearn: 0.1788869\ttotal: 8.75s\tremaining: 51.6s\n",
      "145:\tlearn: 0.1788147\ttotal: 8.82s\tremaining: 51.6s\n",
      "146:\tlearn: 0.1787087\ttotal: 8.89s\tremaining: 51.6s\n",
      "147:\tlearn: 0.1786511\ttotal: 8.95s\tremaining: 51.5s\n",
      "148:\tlearn: 0.1785915\ttotal: 9.02s\tremaining: 51.5s\n",
      "149:\tlearn: 0.1785396\ttotal: 9.08s\tremaining: 51.4s\n",
      "150:\tlearn: 0.1784909\ttotal: 9.14s\tremaining: 51.4s\n",
      "151:\tlearn: 0.1784380\ttotal: 9.2s\tremaining: 51.3s\n",
      "152:\tlearn: 0.1784161\ttotal: 9.27s\tremaining: 51.3s\n",
      "153:\tlearn: 0.1783161\ttotal: 9.34s\tremaining: 51.3s\n",
      "154:\tlearn: 0.1781570\ttotal: 9.41s\tremaining: 51.3s\n",
      "155:\tlearn: 0.1780941\ttotal: 9.48s\tremaining: 51.3s\n",
      "156:\tlearn: 0.1780454\ttotal: 9.55s\tremaining: 51.3s\n",
      "157:\tlearn: 0.1779995\ttotal: 9.61s\tremaining: 51.2s\n",
      "158:\tlearn: 0.1779277\ttotal: 9.67s\tremaining: 51.2s\n",
      "159:\tlearn: 0.1778489\ttotal: 9.74s\tremaining: 51.1s\n",
      "160:\tlearn: 0.1777713\ttotal: 9.81s\tremaining: 51.1s\n",
      "161:\tlearn: 0.1777314\ttotal: 9.87s\tremaining: 51s\n",
      "162:\tlearn: 0.1776219\ttotal: 9.93s\tremaining: 51s\n",
      "163:\tlearn: 0.1775679\ttotal: 10s\tremaining: 51s\n",
      "164:\tlearn: 0.1775498\ttotal: 10.1s\tremaining: 50.9s\n",
      "165:\tlearn: 0.1775253\ttotal: 10.1s\tremaining: 50.9s\n",
      "166:\tlearn: 0.1774295\ttotal: 10.2s\tremaining: 50.8s\n",
      "167:\tlearn: 0.1773819\ttotal: 10.3s\tremaining: 50.8s\n",
      "168:\tlearn: 0.1773408\ttotal: 10.3s\tremaining: 50.7s\n",
      "169:\tlearn: 0.1772895\ttotal: 10.4s\tremaining: 50.7s\n",
      "170:\tlearn: 0.1772387\ttotal: 10.4s\tremaining: 50.6s\n",
      "171:\tlearn: 0.1771641\ttotal: 10.5s\tremaining: 50.6s\n",
      "172:\tlearn: 0.1771166\ttotal: 10.6s\tremaining: 50.5s\n",
      "173:\tlearn: 0.1770125\ttotal: 10.6s\tremaining: 50.5s\n",
      "174:\tlearn: 0.1769265\ttotal: 10.7s\tremaining: 50.5s\n",
      "175:\tlearn: 0.1769096\ttotal: 10.8s\tremaining: 50.4s\n",
      "176:\tlearn: 0.1768626\ttotal: 10.8s\tremaining: 50.4s\n",
      "177:\tlearn: 0.1767832\ttotal: 10.9s\tremaining: 50.3s\n",
      "178:\tlearn: 0.1767329\ttotal: 11s\tremaining: 50.3s\n",
      "179:\tlearn: 0.1766855\ttotal: 11s\tremaining: 50.2s\n",
      "180:\tlearn: 0.1766264\ttotal: 11.1s\tremaining: 50.2s\n",
      "181:\tlearn: 0.1765737\ttotal: 11.2s\tremaining: 50.2s\n",
      "182:\tlearn: 0.1765307\ttotal: 11.2s\tremaining: 50.1s\n",
      "183:\tlearn: 0.1764620\ttotal: 11.3s\tremaining: 50.1s\n",
      "184:\tlearn: 0.1763859\ttotal: 11.4s\tremaining: 50s\n",
      "185:\tlearn: 0.1763517\ttotal: 11.4s\tremaining: 49.9s\n",
      "186:\tlearn: 0.1763031\ttotal: 11.5s\tremaining: 49.9s\n",
      "187:\tlearn: 0.1762149\ttotal: 11.5s\tremaining: 49.9s\n",
      "188:\tlearn: 0.1761810\ttotal: 11.6s\tremaining: 49.8s\n",
      "189:\tlearn: 0.1761658\ttotal: 11.7s\tremaining: 49.7s\n",
      "190:\tlearn: 0.1761174\ttotal: 11.7s\tremaining: 49.7s\n",
      "191:\tlearn: 0.1760848\ttotal: 11.8s\tremaining: 49.6s\n",
      "192:\tlearn: 0.1760183\ttotal: 11.9s\tremaining: 49.6s\n",
      "193:\tlearn: 0.1759769\ttotal: 11.9s\tremaining: 49.5s\n",
      "194:\tlearn: 0.1757715\ttotal: 12s\tremaining: 49.5s\n",
      "195:\tlearn: 0.1757267\ttotal: 12.1s\tremaining: 49.4s\n",
      "196:\tlearn: 0.1756810\ttotal: 12.1s\tremaining: 49.4s\n",
      "197:\tlearn: 0.1756595\ttotal: 12.2s\tremaining: 49.3s\n",
      "198:\tlearn: 0.1756117\ttotal: 12.2s\tremaining: 49.3s\n",
      "199:\tlearn: 0.1755818\ttotal: 12.3s\tremaining: 49.2s\n",
      "200:\tlearn: 0.1755582\ttotal: 12.4s\tremaining: 49.1s\n",
      "201:\tlearn: 0.1755234\ttotal: 12.4s\tremaining: 49s\n",
      "202:\tlearn: 0.1754283\ttotal: 12.5s\tremaining: 49s\n",
      "203:\tlearn: 0.1753582\ttotal: 12.6s\tremaining: 49s\n",
      "204:\tlearn: 0.1753031\ttotal: 12.6s\tremaining: 48.9s\n",
      "205:\tlearn: 0.1752620\ttotal: 12.7s\tremaining: 48.9s\n",
      "206:\tlearn: 0.1752115\ttotal: 12.7s\tremaining: 48.8s\n",
      "207:\tlearn: 0.1751387\ttotal: 12.8s\tremaining: 48.8s\n",
      "208:\tlearn: 0.1751077\ttotal: 12.9s\tremaining: 48.7s\n",
      "209:\tlearn: 0.1750805\ttotal: 12.9s\tremaining: 48.7s\n",
      "210:\tlearn: 0.1750420\ttotal: 13s\tremaining: 48.6s\n",
      "211:\tlearn: 0.1750132\ttotal: 13.1s\tremaining: 48.6s\n",
      "212:\tlearn: 0.1749662\ttotal: 13.1s\tremaining: 48.5s\n",
      "213:\tlearn: 0.1749251\ttotal: 13.2s\tremaining: 48.5s\n",
      "214:\tlearn: 0.1748868\ttotal: 13.3s\tremaining: 48.4s\n",
      "215:\tlearn: 0.1748550\ttotal: 13.3s\tremaining: 48.3s\n",
      "216:\tlearn: 0.1748054\ttotal: 13.4s\tremaining: 48.3s\n",
      "217:\tlearn: 0.1747686\ttotal: 13.4s\tremaining: 48.2s\n",
      "218:\tlearn: 0.1747325\ttotal: 13.5s\tremaining: 48.2s\n",
      "219:\tlearn: 0.1747194\ttotal: 13.6s\tremaining: 48.1s\n",
      "220:\tlearn: 0.1747009\ttotal: 13.6s\tremaining: 48s\n",
      "221:\tlearn: 0.1746528\ttotal: 13.7s\tremaining: 48s\n",
      "222:\tlearn: 0.1746102\ttotal: 13.8s\tremaining: 48s\n",
      "223:\tlearn: 0.1745666\ttotal: 13.8s\tremaining: 47.9s\n",
      "224:\tlearn: 0.1745440\ttotal: 13.9s\tremaining: 47.8s\n",
      "225:\tlearn: 0.1745214\ttotal: 13.9s\tremaining: 47.8s\n",
      "226:\tlearn: 0.1744823\ttotal: 14s\tremaining: 47.7s\n",
      "227:\tlearn: 0.1744529\ttotal: 14.1s\tremaining: 47.6s\n",
      "228:\tlearn: 0.1744118\ttotal: 14.1s\tremaining: 47.6s\n",
      "229:\tlearn: 0.1743640\ttotal: 14.2s\tremaining: 47.6s\n",
      "230:\tlearn: 0.1743409\ttotal: 14.3s\tremaining: 47.5s\n",
      "231:\tlearn: 0.1742913\ttotal: 14.3s\tremaining: 47.4s\n",
      "232:\tlearn: 0.1741326\ttotal: 14.4s\tremaining: 47.4s\n",
      "233:\tlearn: 0.1741028\ttotal: 14.5s\tremaining: 47.4s\n",
      "234:\tlearn: 0.1740663\ttotal: 14.5s\tremaining: 47.3s\n",
      "235:\tlearn: 0.1740488\ttotal: 14.6s\tremaining: 47.3s\n",
      "236:\tlearn: 0.1740294\ttotal: 14.7s\tremaining: 47.2s\n",
      "237:\tlearn: 0.1740097\ttotal: 14.7s\tremaining: 47.2s\n",
      "238:\tlearn: 0.1739528\ttotal: 14.8s\tremaining: 47.1s\n",
      "239:\tlearn: 0.1739153\ttotal: 14.9s\tremaining: 47s\n",
      "240:\tlearn: 0.1738735\ttotal: 14.9s\tremaining: 47s\n",
      "241:\tlearn: 0.1738460\ttotal: 15s\tremaining: 46.9s\n",
      "242:\tlearn: 0.1738151\ttotal: 15s\tremaining: 46.9s\n",
      "243:\tlearn: 0.1737917\ttotal: 15.1s\tremaining: 46.8s\n",
      "244:\tlearn: 0.1736645\ttotal: 15.2s\tremaining: 46.8s\n",
      "245:\tlearn: 0.1736503\ttotal: 15.2s\tremaining: 46.7s\n",
      "246:\tlearn: 0.1736127\ttotal: 15.3s\tremaining: 46.7s\n",
      "247:\tlearn: 0.1735679\ttotal: 15.4s\tremaining: 46.6s\n",
      "248:\tlearn: 0.1734972\ttotal: 15.4s\tremaining: 46.6s\n",
      "249:\tlearn: 0.1734755\ttotal: 15.5s\tremaining: 46.6s\n",
      "250:\tlearn: 0.1734427\ttotal: 15.6s\tremaining: 46.5s\n",
      "251:\tlearn: 0.1734100\ttotal: 15.6s\tremaining: 46.4s\n",
      "252:\tlearn: 0.1733777\ttotal: 15.7s\tremaining: 46.4s\n",
      "253:\tlearn: 0.1733399\ttotal: 15.8s\tremaining: 46.3s\n",
      "254:\tlearn: 0.1732860\ttotal: 15.8s\tremaining: 46.3s\n",
      "255:\tlearn: 0.1732720\ttotal: 15.9s\tremaining: 46.2s\n",
      "256:\tlearn: 0.1732194\ttotal: 16s\tremaining: 46.2s\n",
      "257:\tlearn: 0.1731872\ttotal: 16s\tremaining: 46.1s\n",
      "258:\tlearn: 0.1731500\ttotal: 16.1s\tremaining: 46s\n",
      "259:\tlearn: 0.1731326\ttotal: 16.2s\tremaining: 46s\n",
      "260:\tlearn: 0.1731130\ttotal: 16.2s\tremaining: 45.9s\n",
      "261:\tlearn: 0.1730778\ttotal: 16.3s\tremaining: 45.8s\n",
      "262:\tlearn: 0.1730261\ttotal: 16.3s\tremaining: 45.8s\n",
      "263:\tlearn: 0.1729716\ttotal: 16.4s\tremaining: 45.7s\n",
      "264:\tlearn: 0.1729476\ttotal: 16.5s\tremaining: 45.7s\n",
      "265:\tlearn: 0.1729190\ttotal: 16.5s\tremaining: 45.6s\n",
      "266:\tlearn: 0.1729084\ttotal: 16.6s\tremaining: 45.5s\n",
      "267:\tlearn: 0.1728797\ttotal: 16.7s\tremaining: 45.5s\n",
      "268:\tlearn: 0.1728411\ttotal: 16.7s\tremaining: 45.4s\n",
      "269:\tlearn: 0.1728124\ttotal: 16.8s\tremaining: 45.4s\n",
      "270:\tlearn: 0.1727978\ttotal: 16.9s\tremaining: 45.3s\n",
      "271:\tlearn: 0.1727709\ttotal: 16.9s\tremaining: 45.3s\n",
      "272:\tlearn: 0.1727269\ttotal: 17s\tremaining: 45.2s\n",
      "273:\tlearn: 0.1726931\ttotal: 17s\tremaining: 45.2s\n",
      "274:\tlearn: 0.1726427\ttotal: 17.1s\tremaining: 45.1s\n",
      "275:\tlearn: 0.1726117\ttotal: 17.2s\tremaining: 45.1s\n",
      "276:\tlearn: 0.1725516\ttotal: 17.3s\tremaining: 45s\n",
      "277:\tlearn: 0.1725355\ttotal: 17.3s\tremaining: 45s\n",
      "278:\tlearn: 0.1724893\ttotal: 17.4s\tremaining: 44.9s\n",
      "279:\tlearn: 0.1724798\ttotal: 17.4s\tremaining: 44.8s\n",
      "280:\tlearn: 0.1724575\ttotal: 17.5s\tremaining: 44.8s\n",
      "281:\tlearn: 0.1724199\ttotal: 17.6s\tremaining: 44.7s\n",
      "282:\tlearn: 0.1723489\ttotal: 17.6s\tremaining: 44.7s\n",
      "283:\tlearn: 0.1723178\ttotal: 17.7s\tremaining: 44.6s\n",
      "284:\tlearn: 0.1722918\ttotal: 17.8s\tremaining: 44.6s\n",
      "285:\tlearn: 0.1722562\ttotal: 17.8s\tremaining: 44.5s\n",
      "286:\tlearn: 0.1722349\ttotal: 17.9s\tremaining: 44.5s\n",
      "287:\tlearn: 0.1721972\ttotal: 18s\tremaining: 44.4s\n",
      "288:\tlearn: 0.1721572\ttotal: 18s\tremaining: 44.3s\n",
      "289:\tlearn: 0.1721395\ttotal: 18.1s\tremaining: 44.3s\n",
      "290:\tlearn: 0.1720892\ttotal: 18.2s\tremaining: 44.2s\n",
      "291:\tlearn: 0.1720612\ttotal: 18.2s\tremaining: 44.2s\n",
      "292:\tlearn: 0.1720297\ttotal: 18.3s\tremaining: 44.1s\n",
      "293:\tlearn: 0.1720011\ttotal: 18.3s\tremaining: 44s\n",
      "294:\tlearn: 0.1719766\ttotal: 18.4s\tremaining: 44s\n",
      "295:\tlearn: 0.1719456\ttotal: 18.5s\tremaining: 43.9s\n",
      "296:\tlearn: 0.1719341\ttotal: 18.5s\tremaining: 43.9s\n",
      "297:\tlearn: 0.1719174\ttotal: 18.6s\tremaining: 43.8s\n",
      "298:\tlearn: 0.1718649\ttotal: 18.7s\tremaining: 43.7s\n",
      "299:\tlearn: 0.1718371\ttotal: 18.7s\tremaining: 43.7s\n",
      "300:\tlearn: 0.1717801\ttotal: 18.8s\tremaining: 43.6s\n",
      "301:\tlearn: 0.1717089\ttotal: 18.9s\tremaining: 43.6s\n",
      "302:\tlearn: 0.1716840\ttotal: 18.9s\tremaining: 43.5s\n",
      "303:\tlearn: 0.1716399\ttotal: 19s\tremaining: 43.5s\n",
      "304:\tlearn: 0.1716312\ttotal: 19s\tremaining: 43.4s\n",
      "305:\tlearn: 0.1716040\ttotal: 19.1s\tremaining: 43.3s\n",
      "306:\tlearn: 0.1715845\ttotal: 19.2s\tremaining: 43.3s\n",
      "307:\tlearn: 0.1715599\ttotal: 19.2s\tremaining: 43.2s\n",
      "308:\tlearn: 0.1715331\ttotal: 19.3s\tremaining: 43.1s\n",
      "309:\tlearn: 0.1715000\ttotal: 19.4s\tremaining: 43.1s\n",
      "310:\tlearn: 0.1714888\ttotal: 19.4s\tremaining: 43s\n",
      "311:\tlearn: 0.1714532\ttotal: 19.5s\tremaining: 43s\n",
      "312:\tlearn: 0.1714198\ttotal: 19.6s\tremaining: 42.9s\n",
      "313:\tlearn: 0.1713902\ttotal: 19.6s\tremaining: 42.9s\n",
      "314:\tlearn: 0.1713649\ttotal: 19.7s\tremaining: 42.8s\n",
      "315:\tlearn: 0.1713408\ttotal: 19.7s\tremaining: 42.7s\n",
      "316:\tlearn: 0.1712960\ttotal: 19.8s\tremaining: 42.7s\n",
      "317:\tlearn: 0.1712879\ttotal: 19.9s\tremaining: 42.6s\n",
      "318:\tlearn: 0.1712734\ttotal: 19.9s\tremaining: 42.5s\n",
      "319:\tlearn: 0.1712391\ttotal: 20s\tremaining: 42.5s\n",
      "320:\tlearn: 0.1712243\ttotal: 20.1s\tremaining: 42.4s\n",
      "321:\tlearn: 0.1712168\ttotal: 20.1s\tremaining: 42.3s\n",
      "322:\tlearn: 0.1712015\ttotal: 20.2s\tremaining: 42.3s\n",
      "323:\tlearn: 0.1711769\ttotal: 20.2s\tremaining: 42.2s\n",
      "324:\tlearn: 0.1711488\ttotal: 20.3s\tremaining: 42.1s\n",
      "325:\tlearn: 0.1711393\ttotal: 20.3s\tremaining: 42.1s\n",
      "326:\tlearn: 0.1711114\ttotal: 20.4s\tremaining: 42s\n",
      "327:\tlearn: 0.1710758\ttotal: 20.5s\tremaining: 41.9s\n",
      "328:\tlearn: 0.1710599\ttotal: 20.5s\tremaining: 41.9s\n",
      "329:\tlearn: 0.1710528\ttotal: 20.6s\tremaining: 41.8s\n",
      "330:\tlearn: 0.1710240\ttotal: 20.7s\tremaining: 41.8s\n",
      "331:\tlearn: 0.1709978\ttotal: 20.7s\tremaining: 41.7s\n",
      "332:\tlearn: 0.1709912\ttotal: 20.8s\tremaining: 41.6s\n",
      "333:\tlearn: 0.1709771\ttotal: 20.8s\tremaining: 41.5s\n",
      "334:\tlearn: 0.1709622\ttotal: 20.9s\tremaining: 41.5s\n",
      "335:\tlearn: 0.1709442\ttotal: 21s\tremaining: 41.4s\n",
      "336:\tlearn: 0.1709342\ttotal: 21s\tremaining: 41.3s\n",
      "337:\tlearn: 0.1709164\ttotal: 21.1s\tremaining: 41.3s\n",
      "338:\tlearn: 0.1709011\ttotal: 21.1s\tremaining: 41.2s\n",
      "339:\tlearn: 0.1708814\ttotal: 21.2s\tremaining: 41.1s\n",
      "340:\tlearn: 0.1708526\ttotal: 21.3s\tremaining: 41.1s\n",
      "341:\tlearn: 0.1708240\ttotal: 21.3s\tremaining: 41s\n",
      "342:\tlearn: 0.1708024\ttotal: 21.4s\tremaining: 41s\n",
      "343:\tlearn: 0.1707807\ttotal: 21.4s\tremaining: 40.9s\n",
      "344:\tlearn: 0.1707652\ttotal: 21.5s\tremaining: 40.8s\n",
      "345:\tlearn: 0.1707454\ttotal: 21.6s\tremaining: 40.8s\n",
      "346:\tlearn: 0.1707047\ttotal: 21.6s\tremaining: 40.7s\n",
      "347:\tlearn: 0.1706881\ttotal: 21.7s\tremaining: 40.6s\n",
      "348:\tlearn: 0.1706480\ttotal: 21.8s\tremaining: 40.6s\n",
      "349:\tlearn: 0.1706233\ttotal: 21.8s\tremaining: 40.5s\n",
      "350:\tlearn: 0.1706118\ttotal: 21.9s\tremaining: 40.5s\n",
      "351:\tlearn: 0.1706043\ttotal: 21.9s\tremaining: 40.4s\n",
      "352:\tlearn: 0.1705765\ttotal: 22s\tremaining: 40.3s\n",
      "353:\tlearn: 0.1705401\ttotal: 22.1s\tremaining: 40.3s\n",
      "354:\tlearn: 0.1705109\ttotal: 22.1s\tremaining: 40.2s\n",
      "355:\tlearn: 0.1704741\ttotal: 22.2s\tremaining: 40.2s\n",
      "356:\tlearn: 0.1704516\ttotal: 22.3s\tremaining: 40.1s\n",
      "357:\tlearn: 0.1704346\ttotal: 22.3s\tremaining: 40s\n",
      "358:\tlearn: 0.1704178\ttotal: 22.4s\tremaining: 40s\n",
      "359:\tlearn: 0.1703920\ttotal: 22.5s\tremaining: 39.9s\n",
      "360:\tlearn: 0.1703733\ttotal: 22.5s\tremaining: 39.9s\n",
      "361:\tlearn: 0.1703411\ttotal: 22.6s\tremaining: 39.8s\n",
      "362:\tlearn: 0.1703266\ttotal: 22.6s\tremaining: 39.7s\n",
      "363:\tlearn: 0.1703197\ttotal: 22.7s\tremaining: 39.7s\n",
      "364:\tlearn: 0.1702977\ttotal: 22.8s\tremaining: 39.6s\n",
      "365:\tlearn: 0.1702814\ttotal: 22.8s\tremaining: 39.5s\n",
      "366:\tlearn: 0.1702651\ttotal: 22.9s\tremaining: 39.5s\n",
      "367:\tlearn: 0.1702495\ttotal: 22.9s\tremaining: 39.4s\n",
      "368:\tlearn: 0.1702393\ttotal: 23s\tremaining: 39.3s\n",
      "369:\tlearn: 0.1702217\ttotal: 23.1s\tremaining: 39.3s\n",
      "370:\tlearn: 0.1702000\ttotal: 23.1s\tremaining: 39.2s\n",
      "371:\tlearn: 0.1701737\ttotal: 23.2s\tremaining: 39.1s\n",
      "372:\tlearn: 0.1701473\ttotal: 23.2s\tremaining: 39.1s\n",
      "373:\tlearn: 0.1701333\ttotal: 23.3s\tremaining: 39s\n",
      "374:\tlearn: 0.1701148\ttotal: 23.4s\tremaining: 38.9s\n",
      "375:\tlearn: 0.1700796\ttotal: 23.4s\tremaining: 38.9s\n",
      "376:\tlearn: 0.1700613\ttotal: 23.5s\tremaining: 38.9s\n",
      "377:\tlearn: 0.1700325\ttotal: 23.6s\tremaining: 38.8s\n",
      "378:\tlearn: 0.1700247\ttotal: 23.6s\tremaining: 38.7s\n",
      "379:\tlearn: 0.1700006\ttotal: 23.7s\tremaining: 38.7s\n",
      "380:\tlearn: 0.1699844\ttotal: 23.8s\tremaining: 38.6s\n",
      "381:\tlearn: 0.1699623\ttotal: 23.8s\tremaining: 38.5s\n",
      "382:\tlearn: 0.1699392\ttotal: 23.9s\tremaining: 38.5s\n",
      "383:\tlearn: 0.1699144\ttotal: 24s\tremaining: 38.4s\n",
      "384:\tlearn: 0.1698833\ttotal: 24s\tremaining: 38.4s\n",
      "385:\tlearn: 0.1698622\ttotal: 24.1s\tremaining: 38.3s\n",
      "386:\tlearn: 0.1698491\ttotal: 24.1s\tremaining: 38.3s\n",
      "387:\tlearn: 0.1698286\ttotal: 24.2s\tremaining: 38.2s\n",
      "388:\tlearn: 0.1697963\ttotal: 24.3s\tremaining: 38.1s\n",
      "389:\tlearn: 0.1697846\ttotal: 24.3s\tremaining: 38.1s\n",
      "390:\tlearn: 0.1697680\ttotal: 24.4s\tremaining: 38s\n",
      "391:\tlearn: 0.1697452\ttotal: 24.5s\tremaining: 38s\n",
      "392:\tlearn: 0.1697266\ttotal: 24.5s\tremaining: 37.9s\n",
      "393:\tlearn: 0.1697119\ttotal: 24.6s\tremaining: 37.8s\n",
      "394:\tlearn: 0.1696964\ttotal: 24.7s\tremaining: 37.8s\n",
      "395:\tlearn: 0.1696766\ttotal: 24.7s\tremaining: 37.7s\n",
      "396:\tlearn: 0.1696509\ttotal: 24.8s\tremaining: 37.7s\n",
      "397:\tlearn: 0.1696300\ttotal: 24.9s\tremaining: 37.6s\n",
      "398:\tlearn: 0.1696228\ttotal: 24.9s\tremaining: 37.5s\n",
      "399:\tlearn: 0.1696062\ttotal: 25s\tremaining: 37.5s\n",
      "400:\tlearn: 0.1695961\ttotal: 25s\tremaining: 37.4s\n",
      "401:\tlearn: 0.1695761\ttotal: 25.1s\tremaining: 37.4s\n",
      "402:\tlearn: 0.1695559\ttotal: 25.2s\tremaining: 37.3s\n",
      "403:\tlearn: 0.1695278\ttotal: 25.2s\tremaining: 37.2s\n",
      "404:\tlearn: 0.1694965\ttotal: 25.3s\tremaining: 37.2s\n",
      "405:\tlearn: 0.1694840\ttotal: 25.4s\tremaining: 37.1s\n",
      "406:\tlearn: 0.1694589\ttotal: 25.4s\tremaining: 37.1s\n",
      "407:\tlearn: 0.1694407\ttotal: 25.5s\tremaining: 37s\n",
      "408:\tlearn: 0.1694235\ttotal: 25.6s\tremaining: 36.9s\n",
      "409:\tlearn: 0.1693902\ttotal: 25.6s\tremaining: 36.9s\n",
      "410:\tlearn: 0.1693566\ttotal: 25.7s\tremaining: 36.8s\n",
      "411:\tlearn: 0.1693336\ttotal: 25.8s\tremaining: 36.8s\n",
      "412:\tlearn: 0.1693202\ttotal: 25.8s\tremaining: 36.7s\n",
      "413:\tlearn: 0.1693017\ttotal: 25.9s\tremaining: 36.6s\n",
      "414:\tlearn: 0.1692806\ttotal: 25.9s\tremaining: 36.6s\n",
      "415:\tlearn: 0.1692587\ttotal: 26s\tremaining: 36.5s\n",
      "416:\tlearn: 0.1692147\ttotal: 26.1s\tremaining: 36.5s\n",
      "417:\tlearn: 0.1691588\ttotal: 26.2s\tremaining: 36.4s\n",
      "418:\tlearn: 0.1691124\ttotal: 26.2s\tremaining: 36.4s\n",
      "419:\tlearn: 0.1690877\ttotal: 26.3s\tremaining: 36.3s\n",
      "420:\tlearn: 0.1690728\ttotal: 26.3s\tremaining: 36.2s\n",
      "421:\tlearn: 0.1690541\ttotal: 26.4s\tremaining: 36.2s\n",
      "422:\tlearn: 0.1690316\ttotal: 26.5s\tremaining: 36.1s\n",
      "423:\tlearn: 0.1690173\ttotal: 26.5s\tremaining: 36.1s\n",
      "424:\tlearn: 0.1689927\ttotal: 26.6s\tremaining: 36s\n",
      "425:\tlearn: 0.1689804\ttotal: 26.7s\tremaining: 35.9s\n",
      "426:\tlearn: 0.1689430\ttotal: 26.7s\tremaining: 35.9s\n",
      "427:\tlearn: 0.1689158\ttotal: 26.8s\tremaining: 35.8s\n",
      "428:\tlearn: 0.1689060\ttotal: 26.9s\tremaining: 35.8s\n",
      "429:\tlearn: 0.1688907\ttotal: 26.9s\tremaining: 35.7s\n",
      "430:\tlearn: 0.1688541\ttotal: 27s\tremaining: 35.6s\n",
      "431:\tlearn: 0.1688269\ttotal: 27.1s\tremaining: 35.6s\n",
      "432:\tlearn: 0.1688183\ttotal: 27.1s\tremaining: 35.5s\n",
      "433:\tlearn: 0.1687812\ttotal: 27.2s\tremaining: 35.4s\n",
      "434:\tlearn: 0.1687447\ttotal: 27.2s\tremaining: 35.4s\n",
      "435:\tlearn: 0.1687199\ttotal: 27.3s\tremaining: 35.3s\n",
      "436:\tlearn: 0.1686986\ttotal: 27.4s\tremaining: 35.3s\n",
      "437:\tlearn: 0.1686844\ttotal: 27.4s\tremaining: 35.2s\n",
      "438:\tlearn: 0.1686638\ttotal: 27.5s\tremaining: 35.1s\n",
      "439:\tlearn: 0.1686393\ttotal: 27.6s\tremaining: 35.1s\n",
      "440:\tlearn: 0.1686190\ttotal: 27.6s\tremaining: 35s\n",
      "441:\tlearn: 0.1685868\ttotal: 27.7s\tremaining: 35s\n",
      "442:\tlearn: 0.1685767\ttotal: 27.8s\tremaining: 34.9s\n",
      "443:\tlearn: 0.1685666\ttotal: 27.8s\tremaining: 34.9s\n",
      "444:\tlearn: 0.1685334\ttotal: 27.9s\tremaining: 34.8s\n",
      "445:\tlearn: 0.1685149\ttotal: 28s\tremaining: 34.7s\n",
      "446:\tlearn: 0.1684944\ttotal: 28s\tremaining: 34.7s\n",
      "447:\tlearn: 0.1684588\ttotal: 28.1s\tremaining: 34.6s\n",
      "448:\tlearn: 0.1684427\ttotal: 28.2s\tremaining: 34.6s\n",
      "449:\tlearn: 0.1684279\ttotal: 28.2s\tremaining: 34.5s\n",
      "450:\tlearn: 0.1684040\ttotal: 28.3s\tremaining: 34.4s\n",
      "451:\tlearn: 0.1683905\ttotal: 28.4s\tremaining: 34.4s\n",
      "452:\tlearn: 0.1683747\ttotal: 28.4s\tremaining: 34.3s\n",
      "453:\tlearn: 0.1683535\ttotal: 28.5s\tremaining: 34.2s\n",
      "454:\tlearn: 0.1683223\ttotal: 28.5s\tremaining: 34.2s\n",
      "455:\tlearn: 0.1683138\ttotal: 28.6s\tremaining: 34.1s\n",
      "456:\tlearn: 0.1682975\ttotal: 28.7s\tremaining: 34s\n",
      "457:\tlearn: 0.1682813\ttotal: 28.7s\tremaining: 34s\n",
      "458:\tlearn: 0.1682515\ttotal: 28.8s\tremaining: 33.9s\n",
      "459:\tlearn: 0.1682088\ttotal: 28.8s\tremaining: 33.9s\n",
      "460:\tlearn: 0.1681963\ttotal: 28.9s\tremaining: 33.8s\n",
      "461:\tlearn: 0.1681779\ttotal: 29s\tremaining: 33.7s\n",
      "462:\tlearn: 0.1681608\ttotal: 29s\tremaining: 33.7s\n",
      "463:\tlearn: 0.1681504\ttotal: 29.1s\tremaining: 33.6s\n",
      "464:\tlearn: 0.1681432\ttotal: 29.1s\tremaining: 33.5s\n",
      "465:\tlearn: 0.1681114\ttotal: 29.2s\tremaining: 33.5s\n",
      "466:\tlearn: 0.1680855\ttotal: 29.3s\tremaining: 33.4s\n",
      "467:\tlearn: 0.1680702\ttotal: 29.3s\tremaining: 33.3s\n",
      "468:\tlearn: 0.1680547\ttotal: 29.4s\tremaining: 33.3s\n",
      "469:\tlearn: 0.1680405\ttotal: 29.4s\tremaining: 33.2s\n",
      "470:\tlearn: 0.1680207\ttotal: 29.5s\tremaining: 33.1s\n",
      "471:\tlearn: 0.1679973\ttotal: 29.6s\tremaining: 33.1s\n",
      "472:\tlearn: 0.1679858\ttotal: 29.6s\tremaining: 33s\n",
      "473:\tlearn: 0.1679631\ttotal: 29.7s\tremaining: 32.9s\n",
      "474:\tlearn: 0.1679409\ttotal: 29.7s\tremaining: 32.9s\n",
      "475:\tlearn: 0.1679276\ttotal: 29.8s\tremaining: 32.8s\n",
      "476:\tlearn: 0.1679070\ttotal: 29.9s\tremaining: 32.7s\n",
      "477:\tlearn: 0.1678867\ttotal: 29.9s\tremaining: 32.7s\n",
      "478:\tlearn: 0.1678677\ttotal: 30s\tremaining: 32.6s\n",
      "479:\tlearn: 0.1678497\ttotal: 30.1s\tremaining: 32.6s\n",
      "480:\tlearn: 0.1678296\ttotal: 30.1s\tremaining: 32.5s\n",
      "481:\tlearn: 0.1678206\ttotal: 30.2s\tremaining: 32.4s\n",
      "482:\tlearn: 0.1678034\ttotal: 30.3s\tremaining: 32.4s\n",
      "483:\tlearn: 0.1677897\ttotal: 30.3s\tremaining: 32.3s\n",
      "484:\tlearn: 0.1677690\ttotal: 30.4s\tremaining: 32.3s\n",
      "485:\tlearn: 0.1677558\ttotal: 30.4s\tremaining: 32.2s\n",
      "486:\tlearn: 0.1677360\ttotal: 30.5s\tremaining: 32.1s\n",
      "487:\tlearn: 0.1677263\ttotal: 30.6s\tremaining: 32.1s\n",
      "488:\tlearn: 0.1677130\ttotal: 30.6s\tremaining: 32s\n",
      "489:\tlearn: 0.1676948\ttotal: 30.7s\tremaining: 31.9s\n",
      "490:\tlearn: 0.1676804\ttotal: 30.8s\tremaining: 31.9s\n",
      "491:\tlearn: 0.1676595\ttotal: 30.8s\tremaining: 31.8s\n",
      "492:\tlearn: 0.1676484\ttotal: 30.9s\tremaining: 31.8s\n",
      "493:\tlearn: 0.1676323\ttotal: 30.9s\tremaining: 31.7s\n",
      "494:\tlearn: 0.1676103\ttotal: 31s\tremaining: 31.6s\n",
      "495:\tlearn: 0.1676027\ttotal: 31.1s\tremaining: 31.6s\n",
      "496:\tlearn: 0.1675813\ttotal: 31.1s\tremaining: 31.5s\n",
      "497:\tlearn: 0.1675602\ttotal: 31.2s\tremaining: 31.4s\n",
      "498:\tlearn: 0.1675439\ttotal: 31.3s\tremaining: 31.4s\n",
      "499:\tlearn: 0.1675219\ttotal: 31.3s\tremaining: 31.3s\n",
      "500:\tlearn: 0.1675091\ttotal: 31.4s\tremaining: 31.3s\n",
      "501:\tlearn: 0.1674973\ttotal: 31.5s\tremaining: 31.2s\n",
      "502:\tlearn: 0.1674729\ttotal: 31.5s\tremaining: 31.1s\n",
      "503:\tlearn: 0.1674646\ttotal: 31.6s\tremaining: 31.1s\n",
      "504:\tlearn: 0.1674355\ttotal: 31.7s\tremaining: 31.1s\n",
      "505:\tlearn: 0.1674206\ttotal: 31.8s\tremaining: 31s\n",
      "506:\tlearn: 0.1673857\ttotal: 31.8s\tremaining: 30.9s\n",
      "507:\tlearn: 0.1673738\ttotal: 31.9s\tremaining: 30.9s\n",
      "508:\tlearn: 0.1673654\ttotal: 31.9s\tremaining: 30.8s\n",
      "509:\tlearn: 0.1673488\ttotal: 32s\tremaining: 30.8s\n",
      "510:\tlearn: 0.1673421\ttotal: 32.1s\tremaining: 30.7s\n",
      "511:\tlearn: 0.1673240\ttotal: 32.1s\tremaining: 30.6s\n",
      "512:\tlearn: 0.1672977\ttotal: 32.2s\tremaining: 30.6s\n",
      "513:\tlearn: 0.1672795\ttotal: 32.3s\tremaining: 30.5s\n",
      "514:\tlearn: 0.1672566\ttotal: 32.3s\tremaining: 30.4s\n",
      "515:\tlearn: 0.1672437\ttotal: 32.4s\tremaining: 30.4s\n",
      "516:\tlearn: 0.1672236\ttotal: 32.5s\tremaining: 30.3s\n",
      "517:\tlearn: 0.1672064\ttotal: 32.5s\tremaining: 30.3s\n",
      "518:\tlearn: 0.1671945\ttotal: 32.6s\tremaining: 30.2s\n",
      "519:\tlearn: 0.1671795\ttotal: 32.7s\tremaining: 30.2s\n",
      "520:\tlearn: 0.1671669\ttotal: 32.7s\tremaining: 30.1s\n",
      "521:\tlearn: 0.1671434\ttotal: 32.8s\tremaining: 30s\n",
      "522:\tlearn: 0.1671205\ttotal: 32.9s\tremaining: 30s\n",
      "523:\tlearn: 0.1671064\ttotal: 32.9s\tremaining: 29.9s\n",
      "524:\tlearn: 0.1670857\ttotal: 33s\tremaining: 29.9s\n",
      "525:\tlearn: 0.1670705\ttotal: 33.1s\tremaining: 29.8s\n",
      "526:\tlearn: 0.1670386\ttotal: 33.1s\tremaining: 29.7s\n",
      "527:\tlearn: 0.1670250\ttotal: 33.2s\tremaining: 29.7s\n",
      "528:\tlearn: 0.1670078\ttotal: 33.2s\tremaining: 29.6s\n",
      "529:\tlearn: 0.1669931\ttotal: 33.3s\tremaining: 29.5s\n",
      "530:\tlearn: 0.1669811\ttotal: 33.4s\tremaining: 29.5s\n",
      "531:\tlearn: 0.1669523\ttotal: 33.4s\tremaining: 29.4s\n",
      "532:\tlearn: 0.1669307\ttotal: 33.5s\tremaining: 29.4s\n",
      "533:\tlearn: 0.1669138\ttotal: 33.6s\tremaining: 29.3s\n",
      "534:\tlearn: 0.1669012\ttotal: 33.6s\tremaining: 29.2s\n",
      "535:\tlearn: 0.1668800\ttotal: 33.7s\tremaining: 29.2s\n",
      "536:\tlearn: 0.1668635\ttotal: 33.8s\tremaining: 29.1s\n",
      "537:\tlearn: 0.1668188\ttotal: 33.8s\tremaining: 29.1s\n",
      "538:\tlearn: 0.1668092\ttotal: 33.9s\tremaining: 29s\n",
      "539:\tlearn: 0.1667723\ttotal: 34s\tremaining: 28.9s\n",
      "540:\tlearn: 0.1667566\ttotal: 34s\tremaining: 28.9s\n",
      "541:\tlearn: 0.1667454\ttotal: 34.1s\tremaining: 28.8s\n",
      "542:\tlearn: 0.1667220\ttotal: 34.1s\tremaining: 28.7s\n",
      "543:\tlearn: 0.1666871\ttotal: 34.2s\tremaining: 28.7s\n",
      "544:\tlearn: 0.1666673\ttotal: 34.3s\tremaining: 28.6s\n",
      "545:\tlearn: 0.1666548\ttotal: 34.3s\tremaining: 28.6s\n",
      "546:\tlearn: 0.1666452\ttotal: 34.4s\tremaining: 28.5s\n",
      "547:\tlearn: 0.1666208\ttotal: 34.5s\tremaining: 28.4s\n",
      "548:\tlearn: 0.1666079\ttotal: 34.5s\tremaining: 28.4s\n",
      "549:\tlearn: 0.1665720\ttotal: 34.6s\tremaining: 28.3s\n",
      "550:\tlearn: 0.1665528\ttotal: 34.7s\tremaining: 28.2s\n",
      "551:\tlearn: 0.1665432\ttotal: 34.7s\tremaining: 28.2s\n",
      "552:\tlearn: 0.1665225\ttotal: 34.8s\tremaining: 28.1s\n",
      "553:\tlearn: 0.1665054\ttotal: 34.9s\tremaining: 28.1s\n",
      "554:\tlearn: 0.1664807\ttotal: 34.9s\tremaining: 28s\n",
      "555:\tlearn: 0.1664473\ttotal: 35s\tremaining: 27.9s\n",
      "556:\tlearn: 0.1664279\ttotal: 35.1s\tremaining: 27.9s\n",
      "557:\tlearn: 0.1664182\ttotal: 35.1s\tremaining: 27.8s\n",
      "558:\tlearn: 0.1663987\ttotal: 35.2s\tremaining: 27.8s\n",
      "559:\tlearn: 0.1663898\ttotal: 35.2s\tremaining: 27.7s\n",
      "560:\tlearn: 0.1663783\ttotal: 35.3s\tremaining: 27.6s\n",
      "561:\tlearn: 0.1663609\ttotal: 35.4s\tremaining: 27.6s\n",
      "562:\tlearn: 0.1663384\ttotal: 35.4s\tremaining: 27.5s\n",
      "563:\tlearn: 0.1663321\ttotal: 35.5s\tremaining: 27.4s\n",
      "564:\tlearn: 0.1663114\ttotal: 35.6s\tremaining: 27.4s\n",
      "565:\tlearn: 0.1662756\ttotal: 35.6s\tremaining: 27.3s\n",
      "566:\tlearn: 0.1662579\ttotal: 35.7s\tremaining: 27.3s\n",
      "567:\tlearn: 0.1662441\ttotal: 35.8s\tremaining: 27.2s\n",
      "568:\tlearn: 0.1662283\ttotal: 35.8s\tremaining: 27.1s\n",
      "569:\tlearn: 0.1662167\ttotal: 35.9s\tremaining: 27.1s\n",
      "570:\tlearn: 0.1661889\ttotal: 35.9s\tremaining: 27s\n",
      "571:\tlearn: 0.1661802\ttotal: 36s\tremaining: 26.9s\n",
      "572:\tlearn: 0.1661669\ttotal: 36.1s\tremaining: 26.9s\n",
      "573:\tlearn: 0.1661445\ttotal: 36.1s\tremaining: 26.8s\n",
      "574:\tlearn: 0.1661292\ttotal: 36.2s\tremaining: 26.8s\n",
      "575:\tlearn: 0.1661167\ttotal: 36.3s\tremaining: 26.7s\n",
      "576:\tlearn: 0.1660972\ttotal: 36.3s\tremaining: 26.6s\n",
      "577:\tlearn: 0.1660874\ttotal: 36.4s\tremaining: 26.6s\n",
      "578:\tlearn: 0.1660787\ttotal: 36.4s\tremaining: 26.5s\n",
      "579:\tlearn: 0.1660587\ttotal: 36.5s\tremaining: 26.4s\n",
      "580:\tlearn: 0.1660424\ttotal: 36.6s\tremaining: 26.4s\n",
      "581:\tlearn: 0.1660225\ttotal: 36.6s\tremaining: 26.3s\n",
      "582:\tlearn: 0.1660037\ttotal: 36.7s\tremaining: 26.3s\n",
      "583:\tlearn: 0.1659901\ttotal: 36.8s\tremaining: 26.2s\n",
      "584:\tlearn: 0.1659738\ttotal: 36.8s\tremaining: 26.1s\n",
      "585:\tlearn: 0.1659606\ttotal: 36.9s\tremaining: 26.1s\n",
      "586:\tlearn: 0.1659477\ttotal: 37s\tremaining: 26s\n",
      "587:\tlearn: 0.1659276\ttotal: 37s\tremaining: 25.9s\n",
      "588:\tlearn: 0.1659113\ttotal: 37.1s\tremaining: 25.9s\n",
      "589:\tlearn: 0.1658933\ttotal: 37.2s\tremaining: 25.8s\n",
      "590:\tlearn: 0.1658845\ttotal: 37.2s\tremaining: 25.8s\n",
      "591:\tlearn: 0.1658690\ttotal: 37.3s\tremaining: 25.7s\n",
      "592:\tlearn: 0.1658502\ttotal: 37.3s\tremaining: 25.6s\n",
      "593:\tlearn: 0.1658436\ttotal: 37.4s\tremaining: 25.6s\n",
      "594:\tlearn: 0.1658334\ttotal: 37.5s\tremaining: 25.5s\n",
      "595:\tlearn: 0.1658092\ttotal: 37.5s\tremaining: 25.4s\n",
      "596:\tlearn: 0.1657967\ttotal: 37.6s\tremaining: 25.4s\n",
      "597:\tlearn: 0.1657779\ttotal: 37.7s\tremaining: 25.3s\n",
      "598:\tlearn: 0.1657626\ttotal: 37.7s\tremaining: 25.3s\n",
      "599:\tlearn: 0.1657535\ttotal: 37.8s\tremaining: 25.2s\n",
      "600:\tlearn: 0.1657376\ttotal: 37.9s\tremaining: 25.1s\n",
      "601:\tlearn: 0.1657287\ttotal: 37.9s\tremaining: 25.1s\n",
      "602:\tlearn: 0.1657127\ttotal: 38s\tremaining: 25s\n",
      "603:\tlearn: 0.1657009\ttotal: 38s\tremaining: 24.9s\n",
      "604:\tlearn: 0.1656895\ttotal: 38.1s\tremaining: 24.9s\n",
      "605:\tlearn: 0.1656705\ttotal: 38.2s\tremaining: 24.8s\n",
      "606:\tlearn: 0.1656569\ttotal: 38.2s\tremaining: 24.7s\n",
      "607:\tlearn: 0.1656485\ttotal: 38.3s\tremaining: 24.7s\n",
      "608:\tlearn: 0.1656390\ttotal: 38.3s\tremaining: 24.6s\n",
      "609:\tlearn: 0.1656224\ttotal: 38.4s\tremaining: 24.6s\n",
      "610:\tlearn: 0.1656117\ttotal: 38.5s\tremaining: 24.5s\n",
      "611:\tlearn: 0.1655991\ttotal: 38.5s\tremaining: 24.4s\n",
      "612:\tlearn: 0.1655785\ttotal: 38.6s\tremaining: 24.4s\n",
      "613:\tlearn: 0.1655615\ttotal: 38.7s\tremaining: 24.3s\n",
      "614:\tlearn: 0.1655475\ttotal: 38.7s\tremaining: 24.2s\n",
      "615:\tlearn: 0.1655124\ttotal: 38.8s\tremaining: 24.2s\n",
      "616:\tlearn: 0.1654517\ttotal: 38.9s\tremaining: 24.1s\n",
      "617:\tlearn: 0.1654371\ttotal: 38.9s\tremaining: 24.1s\n",
      "618:\tlearn: 0.1654176\ttotal: 39s\tremaining: 24s\n",
      "619:\tlearn: 0.1654097\ttotal: 39.1s\tremaining: 23.9s\n",
      "620:\tlearn: 0.1654001\ttotal: 39.1s\tremaining: 23.9s\n",
      "621:\tlearn: 0.1653861\ttotal: 39.2s\tremaining: 23.8s\n",
      "622:\tlearn: 0.1653689\ttotal: 39.2s\tremaining: 23.7s\n",
      "623:\tlearn: 0.1653534\ttotal: 39.3s\tremaining: 23.7s\n",
      "624:\tlearn: 0.1653426\ttotal: 39.4s\tremaining: 23.6s\n",
      "625:\tlearn: 0.1653295\ttotal: 39.4s\tremaining: 23.6s\n",
      "626:\tlearn: 0.1653195\ttotal: 39.5s\tremaining: 23.5s\n",
      "627:\tlearn: 0.1653016\ttotal: 39.6s\tremaining: 23.4s\n",
      "628:\tlearn: 0.1652886\ttotal: 39.6s\tremaining: 23.4s\n",
      "629:\tlearn: 0.1652698\ttotal: 39.7s\tremaining: 23.3s\n",
      "630:\tlearn: 0.1652567\ttotal: 39.8s\tremaining: 23.3s\n",
      "631:\tlearn: 0.1652477\ttotal: 39.8s\tremaining: 23.2s\n",
      "632:\tlearn: 0.1652250\ttotal: 39.9s\tremaining: 23.1s\n",
      "633:\tlearn: 0.1651915\ttotal: 40s\tremaining: 23.1s\n",
      "634:\tlearn: 0.1651735\ttotal: 40s\tremaining: 23s\n",
      "635:\tlearn: 0.1651481\ttotal: 40.1s\tremaining: 23s\n",
      "636:\tlearn: 0.1651238\ttotal: 40.2s\tremaining: 22.9s\n",
      "637:\tlearn: 0.1651179\ttotal: 40.2s\tremaining: 22.8s\n",
      "638:\tlearn: 0.1651029\ttotal: 40.3s\tremaining: 22.8s\n",
      "639:\tlearn: 0.1650872\ttotal: 40.4s\tremaining: 22.7s\n",
      "640:\tlearn: 0.1650730\ttotal: 40.4s\tremaining: 22.6s\n",
      "641:\tlearn: 0.1650569\ttotal: 40.5s\tremaining: 22.6s\n",
      "642:\tlearn: 0.1650450\ttotal: 40.6s\tremaining: 22.5s\n",
      "643:\tlearn: 0.1650380\ttotal: 40.6s\tremaining: 22.5s\n",
      "644:\tlearn: 0.1650204\ttotal: 40.7s\tremaining: 22.4s\n",
      "645:\tlearn: 0.1650074\ttotal: 40.8s\tremaining: 22.3s\n",
      "646:\tlearn: 0.1649996\ttotal: 40.8s\tremaining: 22.3s\n",
      "647:\tlearn: 0.1649861\ttotal: 40.9s\tremaining: 22.2s\n",
      "648:\tlearn: 0.1649715\ttotal: 40.9s\tremaining: 22.1s\n",
      "649:\tlearn: 0.1649614\ttotal: 41s\tremaining: 22.1s\n",
      "650:\tlearn: 0.1649542\ttotal: 41.1s\tremaining: 22s\n",
      "651:\tlearn: 0.1649450\ttotal: 41.1s\tremaining: 22s\n",
      "652:\tlearn: 0.1649306\ttotal: 41.2s\tremaining: 21.9s\n",
      "653:\tlearn: 0.1649238\ttotal: 41.3s\tremaining: 21.8s\n",
      "654:\tlearn: 0.1649083\ttotal: 41.3s\tremaining: 21.8s\n",
      "655:\tlearn: 0.1648957\ttotal: 41.4s\tremaining: 21.7s\n",
      "656:\tlearn: 0.1648895\ttotal: 41.5s\tremaining: 21.6s\n",
      "657:\tlearn: 0.1648803\ttotal: 41.5s\tremaining: 21.6s\n",
      "658:\tlearn: 0.1648728\ttotal: 41.6s\tremaining: 21.5s\n",
      "659:\tlearn: 0.1648606\ttotal: 41.6s\tremaining: 21.5s\n",
      "660:\tlearn: 0.1648557\ttotal: 41.7s\tremaining: 21.4s\n",
      "661:\tlearn: 0.1648366\ttotal: 41.8s\tremaining: 21.3s\n",
      "662:\tlearn: 0.1648247\ttotal: 41.8s\tremaining: 21.3s\n",
      "663:\tlearn: 0.1648137\ttotal: 41.9s\tremaining: 21.2s\n",
      "664:\tlearn: 0.1647990\ttotal: 42s\tremaining: 21.1s\n",
      "665:\tlearn: 0.1647866\ttotal: 42s\tremaining: 21.1s\n",
      "666:\tlearn: 0.1647713\ttotal: 42.1s\tremaining: 21s\n",
      "667:\tlearn: 0.1647558\ttotal: 42.2s\tremaining: 21s\n",
      "668:\tlearn: 0.1647461\ttotal: 42.2s\tremaining: 20.9s\n",
      "669:\tlearn: 0.1647271\ttotal: 42.3s\tremaining: 20.8s\n",
      "670:\tlearn: 0.1647203\ttotal: 42.4s\tremaining: 20.8s\n",
      "671:\tlearn: 0.1647050\ttotal: 42.4s\tremaining: 20.7s\n",
      "672:\tlearn: 0.1646951\ttotal: 42.5s\tremaining: 20.6s\n",
      "673:\tlearn: 0.1646873\ttotal: 42.5s\tremaining: 20.6s\n",
      "674:\tlearn: 0.1646754\ttotal: 42.6s\tremaining: 20.5s\n",
      "675:\tlearn: 0.1646632\ttotal: 42.7s\tremaining: 20.5s\n",
      "676:\tlearn: 0.1646551\ttotal: 42.7s\tremaining: 20.4s\n",
      "677:\tlearn: 0.1646434\ttotal: 42.8s\tremaining: 20.3s\n",
      "678:\tlearn: 0.1646220\ttotal: 42.9s\tremaining: 20.3s\n",
      "679:\tlearn: 0.1646037\ttotal: 42.9s\tremaining: 20.2s\n",
      "680:\tlearn: 0.1645938\ttotal: 43s\tremaining: 20.1s\n",
      "681:\tlearn: 0.1645655\ttotal: 43.1s\tremaining: 20.1s\n",
      "682:\tlearn: 0.1645569\ttotal: 43.1s\tremaining: 20s\n",
      "683:\tlearn: 0.1645477\ttotal: 43.2s\tremaining: 19.9s\n",
      "684:\tlearn: 0.1645413\ttotal: 43.2s\tremaining: 19.9s\n",
      "685:\tlearn: 0.1645362\ttotal: 43.3s\tremaining: 19.8s\n",
      "686:\tlearn: 0.1645154\ttotal: 43.4s\tremaining: 19.8s\n",
      "687:\tlearn: 0.1644997\ttotal: 43.4s\tremaining: 19.7s\n",
      "688:\tlearn: 0.1644742\ttotal: 43.5s\tremaining: 19.6s\n",
      "689:\tlearn: 0.1644592\ttotal: 43.6s\tremaining: 19.6s\n",
      "690:\tlearn: 0.1644470\ttotal: 43.6s\tremaining: 19.5s\n",
      "691:\tlearn: 0.1644395\ttotal: 43.7s\tremaining: 19.4s\n",
      "692:\tlearn: 0.1644256\ttotal: 43.8s\tremaining: 19.4s\n",
      "693:\tlearn: 0.1644133\ttotal: 43.8s\tremaining: 19.3s\n",
      "694:\tlearn: 0.1644054\ttotal: 43.9s\tremaining: 19.3s\n",
      "695:\tlearn: 0.1643894\ttotal: 44s\tremaining: 19.2s\n",
      "696:\tlearn: 0.1643694\ttotal: 44s\tremaining: 19.1s\n",
      "697:\tlearn: 0.1643575\ttotal: 44.1s\tremaining: 19.1s\n",
      "698:\tlearn: 0.1643489\ttotal: 44.1s\tremaining: 19s\n",
      "699:\tlearn: 0.1643370\ttotal: 44.2s\tremaining: 18.9s\n",
      "700:\tlearn: 0.1643242\ttotal: 44.3s\tremaining: 18.9s\n",
      "701:\tlearn: 0.1643100\ttotal: 44.4s\tremaining: 18.8s\n",
      "702:\tlearn: 0.1642980\ttotal: 44.4s\tremaining: 18.8s\n",
      "703:\tlearn: 0.1642913\ttotal: 44.5s\tremaining: 18.7s\n",
      "704:\tlearn: 0.1642828\ttotal: 44.6s\tremaining: 18.6s\n",
      "705:\tlearn: 0.1642748\ttotal: 44.6s\tremaining: 18.6s\n",
      "706:\tlearn: 0.1642624\ttotal: 44.7s\tremaining: 18.5s\n",
      "707:\tlearn: 0.1642503\ttotal: 44.7s\tremaining: 18.4s\n",
      "708:\tlearn: 0.1642431\ttotal: 44.8s\tremaining: 18.4s\n",
      "709:\tlearn: 0.1642362\ttotal: 44.9s\tremaining: 18.3s\n",
      "710:\tlearn: 0.1642283\ttotal: 44.9s\tremaining: 18.3s\n",
      "711:\tlearn: 0.1642067\ttotal: 45s\tremaining: 18.2s\n",
      "712:\tlearn: 0.1641926\ttotal: 45s\tremaining: 18.1s\n",
      "713:\tlearn: 0.1641744\ttotal: 45.1s\tremaining: 18.1s\n",
      "714:\tlearn: 0.1641638\ttotal: 45.2s\tremaining: 18s\n",
      "715:\tlearn: 0.1641445\ttotal: 45.2s\tremaining: 17.9s\n",
      "716:\tlearn: 0.1641317\ttotal: 45.3s\tremaining: 17.9s\n",
      "717:\tlearn: 0.1641204\ttotal: 45.4s\tremaining: 17.8s\n",
      "718:\tlearn: 0.1641018\ttotal: 45.4s\tremaining: 17.8s\n",
      "719:\tlearn: 0.1640965\ttotal: 45.5s\tremaining: 17.7s\n",
      "720:\tlearn: 0.1640842\ttotal: 45.6s\tremaining: 17.6s\n",
      "721:\tlearn: 0.1640720\ttotal: 45.6s\tremaining: 17.6s\n",
      "722:\tlearn: 0.1640617\ttotal: 45.7s\tremaining: 17.5s\n",
      "723:\tlearn: 0.1640534\ttotal: 45.8s\tremaining: 17.4s\n",
      "724:\tlearn: 0.1640463\ttotal: 45.8s\tremaining: 17.4s\n",
      "725:\tlearn: 0.1640232\ttotal: 45.9s\tremaining: 17.3s\n",
      "726:\tlearn: 0.1640095\ttotal: 46s\tremaining: 17.3s\n",
      "727:\tlearn: 0.1639924\ttotal: 46s\tremaining: 17.2s\n",
      "728:\tlearn: 0.1639747\ttotal: 46.1s\tremaining: 17.1s\n",
      "729:\tlearn: 0.1639607\ttotal: 46.2s\tremaining: 17.1s\n",
      "730:\tlearn: 0.1639484\ttotal: 46.2s\tremaining: 17s\n",
      "731:\tlearn: 0.1639367\ttotal: 46.3s\tremaining: 17s\n",
      "732:\tlearn: 0.1639308\ttotal: 46.4s\tremaining: 16.9s\n",
      "733:\tlearn: 0.1639200\ttotal: 46.4s\tremaining: 16.8s\n",
      "734:\tlearn: 0.1639050\ttotal: 46.5s\tremaining: 16.8s\n",
      "735:\tlearn: 0.1638984\ttotal: 46.6s\tremaining: 16.7s\n",
      "736:\tlearn: 0.1638827\ttotal: 46.6s\tremaining: 16.6s\n",
      "737:\tlearn: 0.1638713\ttotal: 46.7s\tremaining: 16.6s\n",
      "738:\tlearn: 0.1638598\ttotal: 46.7s\tremaining: 16.5s\n",
      "739:\tlearn: 0.1638509\ttotal: 46.8s\tremaining: 16.4s\n",
      "740:\tlearn: 0.1638459\ttotal: 46.9s\tremaining: 16.4s\n",
      "741:\tlearn: 0.1638343\ttotal: 46.9s\tremaining: 16.3s\n",
      "742:\tlearn: 0.1638244\ttotal: 47s\tremaining: 16.3s\n",
      "743:\tlearn: 0.1638126\ttotal: 47.1s\tremaining: 16.2s\n",
      "744:\tlearn: 0.1638036\ttotal: 47.1s\tremaining: 16.1s\n",
      "745:\tlearn: 0.1637915\ttotal: 47.2s\tremaining: 16.1s\n",
      "746:\tlearn: 0.1637796\ttotal: 47.3s\tremaining: 16s\n",
      "747:\tlearn: 0.1637659\ttotal: 47.3s\tremaining: 15.9s\n",
      "748:\tlearn: 0.1637525\ttotal: 47.4s\tremaining: 15.9s\n",
      "749:\tlearn: 0.1637374\ttotal: 47.5s\tremaining: 15.8s\n",
      "750:\tlearn: 0.1637284\ttotal: 47.5s\tremaining: 15.8s\n",
      "751:\tlearn: 0.1637115\ttotal: 47.6s\tremaining: 15.7s\n",
      "752:\tlearn: 0.1636979\ttotal: 47.7s\tremaining: 15.6s\n",
      "753:\tlearn: 0.1636775\ttotal: 47.7s\tremaining: 15.6s\n",
      "754:\tlearn: 0.1636491\ttotal: 47.8s\tremaining: 15.5s\n",
      "755:\tlearn: 0.1636349\ttotal: 47.9s\tremaining: 15.4s\n",
      "756:\tlearn: 0.1636226\ttotal: 47.9s\tremaining: 15.4s\n",
      "757:\tlearn: 0.1636008\ttotal: 48s\tremaining: 15.3s\n",
      "758:\tlearn: 0.1635862\ttotal: 48.1s\tremaining: 15.3s\n",
      "759:\tlearn: 0.1635802\ttotal: 48.1s\tremaining: 15.2s\n",
      "760:\tlearn: 0.1635636\ttotal: 48.2s\tremaining: 15.1s\n",
      "761:\tlearn: 0.1635529\ttotal: 48.3s\tremaining: 15.1s\n",
      "762:\tlearn: 0.1635311\ttotal: 48.3s\tremaining: 15s\n",
      "763:\tlearn: 0.1635218\ttotal: 48.4s\tremaining: 15s\n",
      "764:\tlearn: 0.1635109\ttotal: 48.5s\tremaining: 14.9s\n",
      "765:\tlearn: 0.1634998\ttotal: 48.5s\tremaining: 14.8s\n",
      "766:\tlearn: 0.1634909\ttotal: 48.6s\tremaining: 14.8s\n",
      "767:\tlearn: 0.1634792\ttotal: 48.7s\tremaining: 14.7s\n",
      "768:\tlearn: 0.1634670\ttotal: 48.7s\tremaining: 14.6s\n",
      "769:\tlearn: 0.1634504\ttotal: 48.8s\tremaining: 14.6s\n",
      "770:\tlearn: 0.1634274\ttotal: 48.9s\tremaining: 14.5s\n",
      "771:\tlearn: 0.1634162\ttotal: 48.9s\tremaining: 14.4s\n",
      "772:\tlearn: 0.1634014\ttotal: 49s\tremaining: 14.4s\n",
      "773:\tlearn: 0.1633886\ttotal: 49.1s\tremaining: 14.3s\n",
      "774:\tlearn: 0.1633775\ttotal: 49.1s\tremaining: 14.3s\n",
      "775:\tlearn: 0.1633640\ttotal: 49.2s\tremaining: 14.2s\n",
      "776:\tlearn: 0.1633207\ttotal: 49.3s\tremaining: 14.1s\n",
      "777:\tlearn: 0.1633157\ttotal: 49.3s\tremaining: 14.1s\n",
      "778:\tlearn: 0.1633067\ttotal: 49.4s\tremaining: 14s\n",
      "779:\tlearn: 0.1632939\ttotal: 49.5s\tremaining: 14s\n",
      "780:\tlearn: 0.1632883\ttotal: 49.5s\tremaining: 13.9s\n",
      "781:\tlearn: 0.1632715\ttotal: 49.6s\tremaining: 13.8s\n",
      "782:\tlearn: 0.1632606\ttotal: 49.7s\tremaining: 13.8s\n",
      "783:\tlearn: 0.1632543\ttotal: 49.7s\tremaining: 13.7s\n",
      "784:\tlearn: 0.1632456\ttotal: 49.8s\tremaining: 13.6s\n",
      "785:\tlearn: 0.1632408\ttotal: 49.8s\tremaining: 13.6s\n",
      "786:\tlearn: 0.1632313\ttotal: 49.9s\tremaining: 13.5s\n",
      "787:\tlearn: 0.1632165\ttotal: 50s\tremaining: 13.4s\n",
      "788:\tlearn: 0.1632025\ttotal: 50s\tremaining: 13.4s\n",
      "789:\tlearn: 0.1631914\ttotal: 50.1s\tremaining: 13.3s\n",
      "790:\tlearn: 0.1631815\ttotal: 50.2s\tremaining: 13.3s\n",
      "791:\tlearn: 0.1631702\ttotal: 50.2s\tremaining: 13.2s\n",
      "792:\tlearn: 0.1631654\ttotal: 50.3s\tremaining: 13.1s\n",
      "793:\tlearn: 0.1631602\ttotal: 50.4s\tremaining: 13.1s\n",
      "794:\tlearn: 0.1631489\ttotal: 50.4s\tremaining: 13s\n",
      "795:\tlearn: 0.1631374\ttotal: 50.5s\tremaining: 12.9s\n",
      "796:\tlearn: 0.1631294\ttotal: 50.6s\tremaining: 12.9s\n",
      "797:\tlearn: 0.1631210\ttotal: 50.6s\tremaining: 12.8s\n",
      "798:\tlearn: 0.1631091\ttotal: 50.7s\tremaining: 12.8s\n",
      "799:\tlearn: 0.1631059\ttotal: 50.8s\tremaining: 12.7s\n",
      "800:\tlearn: 0.1630841\ttotal: 50.8s\tremaining: 12.6s\n",
      "801:\tlearn: 0.1630756\ttotal: 50.9s\tremaining: 12.6s\n",
      "802:\tlearn: 0.1630659\ttotal: 50.9s\tremaining: 12.5s\n",
      "803:\tlearn: 0.1630609\ttotal: 51s\tremaining: 12.4s\n",
      "804:\tlearn: 0.1630503\ttotal: 51.1s\tremaining: 12.4s\n",
      "805:\tlearn: 0.1630415\ttotal: 51.1s\tremaining: 12.3s\n",
      "806:\tlearn: 0.1630296\ttotal: 51.2s\tremaining: 12.2s\n",
      "807:\tlearn: 0.1630255\ttotal: 51.2s\tremaining: 12.2s\n",
      "808:\tlearn: 0.1630139\ttotal: 51.3s\tremaining: 12.1s\n",
      "809:\tlearn: 0.1630042\ttotal: 51.4s\tremaining: 12.1s\n",
      "810:\tlearn: 0.1629899\ttotal: 51.4s\tremaining: 12s\n",
      "811:\tlearn: 0.1629740\ttotal: 51.5s\tremaining: 11.9s\n",
      "812:\tlearn: 0.1629632\ttotal: 51.6s\tremaining: 11.9s\n",
      "813:\tlearn: 0.1629548\ttotal: 51.6s\tremaining: 11.8s\n",
      "814:\tlearn: 0.1629466\ttotal: 51.7s\tremaining: 11.7s\n",
      "815:\tlearn: 0.1629359\ttotal: 51.8s\tremaining: 11.7s\n",
      "816:\tlearn: 0.1629212\ttotal: 51.8s\tremaining: 11.6s\n",
      "817:\tlearn: 0.1629124\ttotal: 51.9s\tremaining: 11.5s\n",
      "818:\tlearn: 0.1629082\ttotal: 52s\tremaining: 11.5s\n",
      "819:\tlearn: 0.1628984\ttotal: 52s\tremaining: 11.4s\n",
      "820:\tlearn: 0.1628805\ttotal: 52.1s\tremaining: 11.4s\n",
      "821:\tlearn: 0.1628707\ttotal: 52.1s\tremaining: 11.3s\n",
      "822:\tlearn: 0.1628583\ttotal: 52.2s\tremaining: 11.2s\n",
      "823:\tlearn: 0.1628497\ttotal: 52.3s\tremaining: 11.2s\n",
      "824:\tlearn: 0.1628408\ttotal: 52.3s\tremaining: 11.1s\n",
      "825:\tlearn: 0.1628284\ttotal: 52.4s\tremaining: 11s\n",
      "826:\tlearn: 0.1628181\ttotal: 52.5s\tremaining: 11s\n",
      "827:\tlearn: 0.1628065\ttotal: 52.5s\tremaining: 10.9s\n",
      "828:\tlearn: 0.1627920\ttotal: 52.6s\tremaining: 10.8s\n",
      "829:\tlearn: 0.1627792\ttotal: 52.7s\tremaining: 10.8s\n",
      "830:\tlearn: 0.1627720\ttotal: 52.7s\tremaining: 10.7s\n",
      "831:\tlearn: 0.1627553\ttotal: 52.8s\tremaining: 10.7s\n",
      "832:\tlearn: 0.1627457\ttotal: 52.9s\tremaining: 10.6s\n",
      "833:\tlearn: 0.1627307\ttotal: 52.9s\tremaining: 10.5s\n",
      "834:\tlearn: 0.1627196\ttotal: 53s\tremaining: 10.5s\n",
      "835:\tlearn: 0.1627134\ttotal: 53.1s\tremaining: 10.4s\n",
      "836:\tlearn: 0.1626945\ttotal: 53.1s\tremaining: 10.3s\n",
      "837:\tlearn: 0.1626867\ttotal: 53.2s\tremaining: 10.3s\n",
      "838:\tlearn: 0.1626814\ttotal: 53.2s\tremaining: 10.2s\n",
      "839:\tlearn: 0.1626688\ttotal: 53.3s\tremaining: 10.2s\n",
      "840:\tlearn: 0.1626613\ttotal: 53.4s\tremaining: 10.1s\n",
      "841:\tlearn: 0.1626506\ttotal: 53.4s\tremaining: 10s\n",
      "842:\tlearn: 0.1626410\ttotal: 53.5s\tremaining: 9.96s\n",
      "843:\tlearn: 0.1626296\ttotal: 53.6s\tremaining: 9.9s\n",
      "844:\tlearn: 0.1626152\ttotal: 53.6s\tremaining: 9.84s\n",
      "845:\tlearn: 0.1625979\ttotal: 53.7s\tremaining: 9.77s\n",
      "846:\tlearn: 0.1625806\ttotal: 53.8s\tremaining: 9.71s\n",
      "847:\tlearn: 0.1625702\ttotal: 53.8s\tremaining: 9.65s\n",
      "848:\tlearn: 0.1625448\ttotal: 53.9s\tremaining: 9.59s\n",
      "849:\tlearn: 0.1625329\ttotal: 54s\tremaining: 9.52s\n",
      "850:\tlearn: 0.1625196\ttotal: 54s\tremaining: 9.46s\n",
      "851:\tlearn: 0.1625104\ttotal: 54.1s\tremaining: 9.4s\n",
      "852:\tlearn: 0.1624992\ttotal: 54.2s\tremaining: 9.33s\n",
      "853:\tlearn: 0.1624918\ttotal: 54.2s\tremaining: 9.27s\n",
      "854:\tlearn: 0.1624842\ttotal: 54.3s\tremaining: 9.21s\n",
      "855:\tlearn: 0.1624752\ttotal: 54.3s\tremaining: 9.14s\n",
      "856:\tlearn: 0.1624600\ttotal: 54.4s\tremaining: 9.08s\n",
      "857:\tlearn: 0.1624533\ttotal: 54.5s\tremaining: 9.02s\n",
      "858:\tlearn: 0.1624399\ttotal: 54.5s\tremaining: 8.95s\n",
      "859:\tlearn: 0.1624295\ttotal: 54.6s\tremaining: 8.89s\n",
      "860:\tlearn: 0.1624169\ttotal: 54.7s\tremaining: 8.83s\n",
      "861:\tlearn: 0.1623775\ttotal: 54.7s\tremaining: 8.76s\n",
      "862:\tlearn: 0.1623687\ttotal: 54.8s\tremaining: 8.7s\n",
      "863:\tlearn: 0.1623578\ttotal: 54.9s\tremaining: 8.64s\n",
      "864:\tlearn: 0.1623432\ttotal: 54.9s\tremaining: 8.57s\n",
      "865:\tlearn: 0.1623183\ttotal: 55s\tremaining: 8.51s\n",
      "866:\tlearn: 0.1623136\ttotal: 55.1s\tremaining: 8.45s\n",
      "867:\tlearn: 0.1622934\ttotal: 55.2s\tremaining: 8.39s\n",
      "868:\tlearn: 0.1622854\ttotal: 55.2s\tremaining: 8.32s\n",
      "869:\tlearn: 0.1622768\ttotal: 55.3s\tremaining: 8.26s\n",
      "870:\tlearn: 0.1622723\ttotal: 55.3s\tremaining: 8.2s\n",
      "871:\tlearn: 0.1622690\ttotal: 55.4s\tremaining: 8.13s\n",
      "872:\tlearn: 0.1622627\ttotal: 55.5s\tremaining: 8.07s\n",
      "873:\tlearn: 0.1622552\ttotal: 55.5s\tremaining: 8.01s\n",
      "874:\tlearn: 0.1622435\ttotal: 55.6s\tremaining: 7.94s\n",
      "875:\tlearn: 0.1622270\ttotal: 55.7s\tremaining: 7.88s\n",
      "876:\tlearn: 0.1622118\ttotal: 55.7s\tremaining: 7.81s\n",
      "877:\tlearn: 0.1622033\ttotal: 55.8s\tremaining: 7.75s\n",
      "878:\tlearn: 0.1621900\ttotal: 55.8s\tremaining: 7.69s\n",
      "879:\tlearn: 0.1621797\ttotal: 55.9s\tremaining: 7.63s\n",
      "880:\tlearn: 0.1621710\ttotal: 56s\tremaining: 7.56s\n",
      "881:\tlearn: 0.1621632\ttotal: 56.1s\tremaining: 7.5s\n",
      "882:\tlearn: 0.1621572\ttotal: 56.1s\tremaining: 7.43s\n",
      "883:\tlearn: 0.1621495\ttotal: 56.2s\tremaining: 7.37s\n",
      "884:\tlearn: 0.1621360\ttotal: 56.3s\tremaining: 7.31s\n",
      "885:\tlearn: 0.1621254\ttotal: 56.3s\tremaining: 7.25s\n",
      "886:\tlearn: 0.1621143\ttotal: 56.4s\tremaining: 7.18s\n",
      "887:\tlearn: 0.1621015\ttotal: 56.5s\tremaining: 7.12s\n",
      "888:\tlearn: 0.1620939\ttotal: 56.5s\tremaining: 7.06s\n",
      "889:\tlearn: 0.1620782\ttotal: 56.6s\tremaining: 6.99s\n",
      "890:\tlearn: 0.1620664\ttotal: 56.6s\tremaining: 6.93s\n",
      "891:\tlearn: 0.1620577\ttotal: 56.7s\tremaining: 6.87s\n",
      "892:\tlearn: 0.1620491\ttotal: 56.8s\tremaining: 6.8s\n",
      "893:\tlearn: 0.1620397\ttotal: 56.8s\tremaining: 6.74s\n",
      "894:\tlearn: 0.1620290\ttotal: 56.9s\tremaining: 6.67s\n",
      "895:\tlearn: 0.1620208\ttotal: 57s\tremaining: 6.61s\n",
      "896:\tlearn: 0.1620126\ttotal: 57s\tremaining: 6.55s\n",
      "897:\tlearn: 0.1619983\ttotal: 57.1s\tremaining: 6.49s\n",
      "898:\tlearn: 0.1619876\ttotal: 57.2s\tremaining: 6.42s\n",
      "899:\tlearn: 0.1619820\ttotal: 57.2s\tremaining: 6.36s\n",
      "900:\tlearn: 0.1619770\ttotal: 57.3s\tremaining: 6.29s\n",
      "901:\tlearn: 0.1619691\ttotal: 57.4s\tremaining: 6.23s\n",
      "902:\tlearn: 0.1619523\ttotal: 57.4s\tremaining: 6.17s\n",
      "903:\tlearn: 0.1619419\ttotal: 57.5s\tremaining: 6.1s\n",
      "904:\tlearn: 0.1619353\ttotal: 57.6s\tremaining: 6.04s\n",
      "905:\tlearn: 0.1619299\ttotal: 57.6s\tremaining: 5.98s\n",
      "906:\tlearn: 0.1619226\ttotal: 57.7s\tremaining: 5.91s\n",
      "907:\tlearn: 0.1619136\ttotal: 57.7s\tremaining: 5.85s\n",
      "908:\tlearn: 0.1619032\ttotal: 57.8s\tremaining: 5.79s\n",
      "909:\tlearn: 0.1618919\ttotal: 57.9s\tremaining: 5.72s\n",
      "910:\tlearn: 0.1618778\ttotal: 58s\tremaining: 5.66s\n",
      "911:\tlearn: 0.1618672\ttotal: 58s\tremaining: 5.6s\n",
      "912:\tlearn: 0.1618617\ttotal: 58.1s\tremaining: 5.54s\n",
      "913:\tlearn: 0.1618537\ttotal: 58.1s\tremaining: 5.47s\n",
      "914:\tlearn: 0.1618406\ttotal: 58.2s\tremaining: 5.41s\n",
      "915:\tlearn: 0.1618263\ttotal: 58.3s\tremaining: 5.34s\n",
      "916:\tlearn: 0.1618201\ttotal: 58.4s\tremaining: 5.28s\n",
      "917:\tlearn: 0.1618061\ttotal: 58.4s\tremaining: 5.22s\n",
      "918:\tlearn: 0.1617982\ttotal: 58.5s\tremaining: 5.15s\n",
      "919:\tlearn: 0.1617875\ttotal: 58.6s\tremaining: 5.09s\n",
      "920:\tlearn: 0.1617812\ttotal: 58.6s\tremaining: 5.03s\n",
      "921:\tlearn: 0.1617729\ttotal: 58.7s\tremaining: 4.96s\n",
      "922:\tlearn: 0.1617658\ttotal: 58.7s\tremaining: 4.9s\n",
      "923:\tlearn: 0.1617540\ttotal: 58.8s\tremaining: 4.84s\n",
      "924:\tlearn: 0.1617459\ttotal: 58.9s\tremaining: 4.77s\n",
      "925:\tlearn: 0.1617317\ttotal: 58.9s\tremaining: 4.71s\n",
      "926:\tlearn: 0.1617218\ttotal: 59s\tremaining: 4.65s\n",
      "927:\tlearn: 0.1617143\ttotal: 59.1s\tremaining: 4.58s\n",
      "928:\tlearn: 0.1617040\ttotal: 59.1s\tremaining: 4.52s\n",
      "929:\tlearn: 0.1616920\ttotal: 59.2s\tremaining: 4.46s\n",
      "930:\tlearn: 0.1616826\ttotal: 59.3s\tremaining: 4.39s\n",
      "931:\tlearn: 0.1616748\ttotal: 59.3s\tremaining: 4.33s\n",
      "932:\tlearn: 0.1616604\ttotal: 59.4s\tremaining: 4.27s\n",
      "933:\tlearn: 0.1616509\ttotal: 59.5s\tremaining: 4.2s\n",
      "934:\tlearn: 0.1616397\ttotal: 59.5s\tremaining: 4.14s\n",
      "935:\tlearn: 0.1616203\ttotal: 59.6s\tremaining: 4.08s\n",
      "936:\tlearn: 0.1616094\ttotal: 59.7s\tremaining: 4.01s\n",
      "937:\tlearn: 0.1615954\ttotal: 59.7s\tremaining: 3.95s\n",
      "938:\tlearn: 0.1615840\ttotal: 59.8s\tremaining: 3.88s\n",
      "939:\tlearn: 0.1615771\ttotal: 59.9s\tremaining: 3.82s\n",
      "940:\tlearn: 0.1615740\ttotal: 59.9s\tremaining: 3.76s\n",
      "941:\tlearn: 0.1615669\ttotal: 60s\tremaining: 3.69s\n",
      "942:\tlearn: 0.1615551\ttotal: 1m\tremaining: 3.63s\n",
      "943:\tlearn: 0.1615330\ttotal: 1m\tremaining: 3.57s\n",
      "944:\tlearn: 0.1615248\ttotal: 1m\tremaining: 3.5s\n",
      "945:\tlearn: 0.1615191\ttotal: 1m\tremaining: 3.44s\n",
      "946:\tlearn: 0.1615043\ttotal: 1m\tremaining: 3.38s\n",
      "947:\tlearn: 0.1614934\ttotal: 1m\tremaining: 3.31s\n",
      "948:\tlearn: 0.1614781\ttotal: 1m\tremaining: 3.25s\n",
      "949:\tlearn: 0.1614636\ttotal: 1m\tremaining: 3.19s\n",
      "950:\tlearn: 0.1614550\ttotal: 1m\tremaining: 3.12s\n",
      "951:\tlearn: 0.1614479\ttotal: 1m\tremaining: 3.06s\n",
      "952:\tlearn: 0.1614357\ttotal: 1m\tremaining: 2.99s\n",
      "953:\tlearn: 0.1614206\ttotal: 1m\tremaining: 2.93s\n",
      "954:\tlearn: 0.1614066\ttotal: 1m\tremaining: 2.87s\n",
      "955:\tlearn: 0.1614000\ttotal: 1m\tremaining: 2.8s\n",
      "956:\tlearn: 0.1613933\ttotal: 1m\tremaining: 2.74s\n",
      "957:\tlearn: 0.1613836\ttotal: 1m 1s\tremaining: 2.67s\n",
      "958:\tlearn: 0.1613792\ttotal: 1m 1s\tremaining: 2.61s\n",
      "959:\tlearn: 0.1613697\ttotal: 1m 1s\tremaining: 2.55s\n",
      "960:\tlearn: 0.1613635\ttotal: 1m 1s\tremaining: 2.48s\n",
      "961:\tlearn: 0.1613534\ttotal: 1m 1s\tremaining: 2.42s\n",
      "962:\tlearn: 0.1613431\ttotal: 1m 1s\tremaining: 2.36s\n",
      "963:\tlearn: 0.1613269\ttotal: 1m 1s\tremaining: 2.29s\n",
      "964:\tlearn: 0.1613139\ttotal: 1m 1s\tremaining: 2.23s\n",
      "965:\tlearn: 0.1613017\ttotal: 1m 1s\tremaining: 2.17s\n",
      "966:\tlearn: 0.1612900\ttotal: 1m 1s\tremaining: 2.1s\n",
      "967:\tlearn: 0.1612798\ttotal: 1m 1s\tremaining: 2.04s\n",
      "968:\tlearn: 0.1612762\ttotal: 1m 1s\tremaining: 1.98s\n",
      "969:\tlearn: 0.1612702\ttotal: 1m 1s\tremaining: 1.91s\n",
      "970:\tlearn: 0.1612649\ttotal: 1m 1s\tremaining: 1.85s\n",
      "971:\tlearn: 0.1612523\ttotal: 1m 1s\tremaining: 1.78s\n",
      "972:\tlearn: 0.1612452\ttotal: 1m 2s\tremaining: 1.72s\n",
      "973:\tlearn: 0.1612271\ttotal: 1m 2s\tremaining: 1.66s\n",
      "974:\tlearn: 0.1612223\ttotal: 1m 2s\tremaining: 1.59s\n",
      "975:\tlearn: 0.1612060\ttotal: 1m 2s\tremaining: 1.53s\n",
      "976:\tlearn: 0.1611941\ttotal: 1m 2s\tremaining: 1.47s\n",
      "977:\tlearn: 0.1611886\ttotal: 1m 2s\tremaining: 1.4s\n",
      "978:\tlearn: 0.1611846\ttotal: 1m 2s\tremaining: 1.34s\n",
      "979:\tlearn: 0.1611784\ttotal: 1m 2s\tremaining: 1.27s\n",
      "980:\tlearn: 0.1611739\ttotal: 1m 2s\tremaining: 1.21s\n",
      "981:\tlearn: 0.1611643\ttotal: 1m 2s\tremaining: 1.15s\n",
      "982:\tlearn: 0.1611360\ttotal: 1m 2s\tremaining: 1.08s\n",
      "983:\tlearn: 0.1611279\ttotal: 1m 2s\tremaining: 1.02s\n",
      "984:\tlearn: 0.1611148\ttotal: 1m 2s\tremaining: 957ms\n",
      "985:\tlearn: 0.1611042\ttotal: 1m 2s\tremaining: 893ms\n",
      "986:\tlearn: 0.1610683\ttotal: 1m 2s\tremaining: 829ms\n",
      "987:\tlearn: 0.1610597\ttotal: 1m 3s\tremaining: 766ms\n",
      "988:\tlearn: 0.1610497\ttotal: 1m 3s\tremaining: 702ms\n",
      "989:\tlearn: 0.1610329\ttotal: 1m 3s\tremaining: 638ms\n",
      "990:\tlearn: 0.1610224\ttotal: 1m 3s\tremaining: 574ms\n",
      "991:\tlearn: 0.1610087\ttotal: 1m 3s\tremaining: 511ms\n",
      "992:\tlearn: 0.1610053\ttotal: 1m 3s\tremaining: 447ms\n",
      "993:\tlearn: 0.1609933\ttotal: 1m 3s\tremaining: 383ms\n",
      "994:\tlearn: 0.1609870\ttotal: 1m 3s\tremaining: 319ms\n",
      "995:\tlearn: 0.1609828\ttotal: 1m 3s\tremaining: 255ms\n",
      "996:\tlearn: 0.1609712\ttotal: 1m 3s\tremaining: 191ms\n",
      "997:\tlearn: 0.1609602\ttotal: 1m 3s\tremaining: 128ms\n",
      "998:\tlearn: 0.1609481\ttotal: 1m 3s\tremaining: 63.8ms\n",
      "999:\tlearn: 0.1609377\ttotal: 1m 3s\tremaining: 0us\n"
     ]
    },
    {
     "data": {
      "text/plain": [
       "<catboost.core.CatBoostRegressor at 0x1bc8e882f10>"
      ]
     },
     "execution_count": 43,
     "metadata": {},
     "output_type": "execute_result"
    }
   ],
   "source": [
    "from catboost import CatBoostRegressor\n",
    "cbr = CatBoostRegressor(loss_function='RMSE', iterations=1000)\n",
    "cbr.fit(X_train, y_train)"
   ]
  },
  {
   "cell_type": "code",
   "execution_count": 44,
   "metadata": {},
   "outputs": [
    {
     "name": "stdout",
     "output_type": "stream",
     "text": [
      "Mean Absolute Error :->  0.0463\n",
      "Mean Squared Error :->  0.029\n",
      "Root Mean Squared Error :->  0.1703\n",
      "R-Square :->  0.9572\n"
     ]
    }
   ],
   "source": [
    "y_pred_cat = cbr.predict(X_test)\n",
    "mae, mse, rmse, r2 = evaluate(y_test, y_pred_cat)"
   ]
  },
  {
   "cell_type": "code",
   "execution_count": 45,
   "metadata": {},
   "outputs": [],
   "source": [
    "algo_score['CatBoost'] = r2"
   ]
  },
  {
   "cell_type": "markdown",
   "metadata": {},
   "source": [
    "### RandomForest Regressor"
   ]
  },
  {
   "cell_type": "code",
   "execution_count": 46,
   "metadata": {},
   "outputs": [
    {
     "data": {
      "text/plain": [
       "RandomForestRegressor()"
      ]
     },
     "execution_count": 46,
     "metadata": {},
     "output_type": "execute_result"
    }
   ],
   "source": [
    "from sklearn.ensemble import RandomForestRegressor\n",
    "rf_reg = RandomForestRegressor()\n",
    "rf_reg.fit(X_train, y_train)"
   ]
  },
  {
   "cell_type": "code",
   "execution_count": 47,
   "metadata": {},
   "outputs": [
    {
     "name": "stdout",
     "output_type": "stream",
     "text": [
      "Mean Absolute Error :->  0.0446\n",
      "Mean Squared Error :->  0.0306\n",
      "Root Mean Squared Error :->  0.1749\n",
      "R-Square :->  0.9548\n"
     ]
    }
   ],
   "source": [
    "y_pred_rf = rf_reg.predict(X_test)\n",
    "mae, mse, rmse, r2 = evaluate(y_test, y_pred_rf)"
   ]
  },
  {
   "cell_type": "code",
   "execution_count": 48,
   "metadata": {},
   "outputs": [],
   "source": [
    "algo_score['Random Forest'] = r2"
   ]
  },
  {
   "cell_type": "markdown",
   "metadata": {},
   "source": [
    "### K Nearest Neighbour Regressor"
   ]
  },
  {
   "cell_type": "code",
   "execution_count": 49,
   "metadata": {},
   "outputs": [
    {
     "data": {
      "text/plain": [
       "KNeighborsRegressor(n_neighbors=4)"
      ]
     },
     "execution_count": 49,
     "metadata": {},
     "output_type": "execute_result"
    }
   ],
   "source": [
    "from sklearn.neighbors import KNeighborsRegressor\n",
    "knn = KNeighborsRegressor(n_neighbors=4)\n",
    "knn.fit(X_train, y_train)"
   ]
  },
  {
   "cell_type": "code",
   "execution_count": 50,
   "metadata": {},
   "outputs": [
    {
     "name": "stdout",
     "output_type": "stream",
     "text": [
      "Mean Absolute Error :->  0.1018\n",
      "Mean Squared Error :->  0.1382\n",
      "Root Mean Squared Error :->  0.3718\n",
      "R-Square :->  0.7567\n"
     ]
    }
   ],
   "source": [
    "y_pred_knn = knn.predict(X_test)\n",
    "mae, mse, rmse, r2 = evaluate(y_test, y_pred_knn)"
   ]
  },
  {
   "cell_type": "code",
   "execution_count": 51,
   "metadata": {},
   "outputs": [],
   "source": [
    "algo_score['K Nearest Neighbour'] = r2"
   ]
  },
  {
   "cell_type": "markdown",
   "metadata": {},
   "source": [
    "### Decision Tree Regressor"
   ]
  },
  {
   "cell_type": "code",
   "execution_count": 55,
   "metadata": {},
   "outputs": [
    {
     "data": {
      "text/plain": [
       "DecisionTreeRegressor()"
      ]
     },
     "execution_count": 55,
     "metadata": {},
     "output_type": "execute_result"
    }
   ],
   "source": [
    "from sklearn.tree import DecisionTreeRegressor\n",
    "tree = DecisionTreeRegressor()\n",
    "tree.fit(X_train, y_train)"
   ]
  },
  {
   "cell_type": "code",
   "execution_count": 56,
   "metadata": {},
   "outputs": [
    {
     "name": "stdout",
     "output_type": "stream",
     "text": [
      "Mean Absolute Error :->  0.0606\n",
      "Mean Squared Error :->  0.062\n",
      "Root Mean Squared Error :->  0.249\n",
      "R-Square :->  0.9123\n"
     ]
    }
   ],
   "source": [
    "y_pred_tree = tree.predict(X_test)\n",
    "mae, mse, rmse, r2 = evaluate(y_test, y_pred_tree)"
   ]
  },
  {
   "cell_type": "code",
   "execution_count": 57,
   "metadata": {},
   "outputs": [],
   "source": [
    "algo_score['Decision Tree'] = r2"
   ]
  },
  {
   "cell_type": "markdown",
   "metadata": {},
   "source": [
    "### XGBoost Regressor"
   ]
  },
  {
   "cell_type": "code",
   "execution_count": 58,
   "metadata": {},
   "outputs": [
    {
     "data": {
      "text/plain": [
       "XGBRegressor(base_score=0.5, booster='gbtree', colsample_bylevel=1,\n",
       "             colsample_bynode=1, colsample_bytree=1, gamma=0, gpu_id=-1,\n",
       "             importance_type='gain', interaction_constraints='',\n",
       "             learning_rate=0.300000012, max_delta_step=0, max_depth=6,\n",
       "             min_child_weight=1, missing=nan, monotone_constraints='()',\n",
       "             n_estimators=100, n_jobs=8, num_parallel_tree=1, random_state=0,\n",
       "             reg_alpha=0, reg_lambda=1, scale_pos_weight=1, subsample=1,\n",
       "             tree_method='exact', validate_parameters=1, verbosity=None)"
      ]
     },
     "execution_count": 58,
     "metadata": {},
     "output_type": "execute_result"
    }
   ],
   "source": [
    "from xgboost import XGBRegressor\n",
    "xgb_r = XGBRegressor()\n",
    "xgb_r.fit(X_train, y_train)"
   ]
  },
  {
   "cell_type": "code",
   "execution_count": 59,
   "metadata": {},
   "outputs": [
    {
     "name": "stdout",
     "output_type": "stream",
     "text": [
      "Mean Absolute Error :->  0.0458\n",
      "Mean Squared Error :->  0.0299\n",
      "Root Mean Squared Error :->  0.1729\n",
      "R-Square :->  0.9558\n"
     ]
    }
   ],
   "source": [
    "y_pred_xgb = xgb_r.predict(X_test)\n",
    "mae, mse, rmse, r2 = evaluate(y_test, y_pred_xgb)"
   ]
  },
  {
   "cell_type": "code",
   "execution_count": 60,
   "metadata": {},
   "outputs": [],
   "source": [
    "algo_score['XG Boost'] = r2"
   ]
  },
  {
   "cell_type": "markdown",
   "metadata": {},
   "source": [
    "### Artificial Neural Network"
   ]
  },
  {
   "cell_type": "code",
   "execution_count": 61,
   "metadata": {},
   "outputs": [],
   "source": [
    "from keras.models import Sequential\n",
    "from keras.layers import Dense"
   ]
  },
  {
   "cell_type": "code",
   "execution_count": 70,
   "metadata": {},
   "outputs": [],
   "source": [
    "ann = Sequential()\n",
    "ann.add(Dense(input_dim=X_train.shape[1], units=8, kernel_initializer=\"he_uniform\", activation=\"relu\"))\n",
    "ann.add(Dense(units=5, kernel_initializer=\"he_uniform\", activation=\"relu\"))\n",
    "ann.add(Dense(units=1, activation='relu'))"
   ]
  },
  {
   "cell_type": "code",
   "execution_count": 71,
   "metadata": {},
   "outputs": [
    {
     "name": "stdout",
     "output_type": "stream",
     "text": [
      "Model: \"sequential_1\"\n",
      "_________________________________________________________________\n",
      "Layer (type)                 Output Shape              Param #   \n",
      "=================================================================\n",
      "dense_3 (Dense)              (None, 8)                 256       \n",
      "_________________________________________________________________\n",
      "dense_4 (Dense)              (None, 5)                 45        \n",
      "_________________________________________________________________\n",
      "dense_5 (Dense)              (None, 1)                 6         \n",
      "=================================================================\n",
      "Total params: 307\n",
      "Trainable params: 307\n",
      "Non-trainable params: 0\n",
      "_________________________________________________________________\n"
     ]
    }
   ],
   "source": [
    "ann.summary()"
   ]
  },
  {
   "cell_type": "code",
   "execution_count": 72,
   "metadata": {},
   "outputs": [
    {
     "name": "stdout",
     "output_type": "stream",
     "text": [
      "Epoch 1/5\n",
      "2306/2306 [==============================] - 6s 3ms/step - loss: 2.5075 - val_loss: 0.2957\n",
      "Epoch 2/5\n",
      "2306/2306 [==============================] - 5s 2ms/step - loss: 0.2214 - val_loss: 0.1747\n",
      "Epoch 3/5\n",
      "2306/2306 [==============================] - 5s 2ms/step - loss: 0.1435 - val_loss: 0.1194\n",
      "Epoch 4/5\n",
      "2306/2306 [==============================] - 4s 2ms/step - loss: 0.1021 - val_loss: 0.0932\n",
      "Epoch 5/5\n",
      "2306/2306 [==============================] - 4s 2ms/step - loss: 0.0861 - val_loss: 0.0830\n"
     ]
    }
   ],
   "source": [
    "ann.compile(optimizer='adam', loss='mean_squared_error')\n",
    "ann_r = ann.fit(X_train, y_train, validation_split=0.3, epochs=5, batch_size=200)"
   ]
  },
  {
   "cell_type": "code",
   "execution_count": 73,
   "metadata": {},
   "outputs": [
    {
     "name": "stdout",
     "output_type": "stream",
     "text": [
      "Mean Absolute Error :->  0.1074\n",
      "Mean Squared Error :->  0.0823\n",
      "Root Mean Squared Error :->  0.2869\n",
      "R-Square :->  0.8686\n"
     ]
    }
   ],
   "source": [
    "y_pred_ann = ann.predict(X_test)\n",
    "mae, mse, rmse, r2 = evaluate(y_test, y_pred_ann)"
   ]
  },
  {
   "cell_type": "code",
   "execution_count": 74,
   "metadata": {},
   "outputs": [],
   "source": [
    "algo_score['ANN'] = r2"
   ]
  },
  {
   "cell_type": "markdown",
   "metadata": {},
   "source": [
    "## Accuracy of Algorithms"
   ]
  },
  {
   "cell_type": "code",
   "execution_count": 76,
   "metadata": {},
   "outputs": [
    {
     "data": {
      "image/png": "[encoded data removed]",
      "text/plain": [
       "<Figure size 1440x576 with 1 Axes>"
      ]
     },
     "metadata": {
      "needs_background": "light"
     },
     "output_type": "display_data"
    }
   ],
   "source": [
    "plt.figure(figsize=(20,8))\n",
    "sns.barplot(x=list(algo_score.keys()), y=list(algo_score.values()))\n",
    "plt.title(\"Algorithms Performance\")\n",
    "plt.xlabel(\"Algorithms\")\n",
    "plt.ylabel(\"R-Squared Values\")\n",
    "plt.show()"
   ]
  },
  {
   "cell_type": "code",
   "execution_count": 77,
   "metadata": {},
   "outputs": [
    {
     "name": "stdout",
     "output_type": "stream",
     "text": [
      "CatBoost ---> 0.9572\n",
      "Random Forest ---> 0.9548\n",
      "K Nearest Neighbour ---> 0.7567\n",
      "Decision Tree ---> 0.9123\n",
      "XG Boost ---> 0.9558\n",
      "ANN ---> 0.8686\n"
     ]
    }
   ],
   "source": [
    "for key, val in algo_score.items():\n",
    "    print(key, '--->', val)"
   ]
  },
  {
   "cell_type": "code",
   "execution_count": 78,
   "metadata": {},
   "outputs": [
    {
     "name": "stdout",
     "output_type": "stream",
     "text": [
      "Best Performing Algorithm is :->  CatBoost\n",
      "R-Squared :->  0.9572\n"
     ]
    }
   ],
   "source": [
    "maxi = 0\n",
    "best_algo = \"\"\n",
    "for key, val in algo_score.items():\n",
    "    if val > maxi:\n",
    "        maxi = val\n",
    "        best_algo = key\n",
    "print(\"Best Performing Algorithm is :-> \", best_algo)\n",
    "print(\"R-Squared :-> \", maxi)"
   ]
  },
  {
   "cell_type": "markdown",
   "metadata": {},
   "source": [
    "# Best performing Model is CatBoost Regressor"
   ]
  }
 ],
 "metadata": {
  "interpreter": {
   "hash": "9ddfba760c93d0781cb88c4db9a31eb68ca4e1616821530f19d735f356a5c9ec"
  },
  "kernelspec": {
   "display_name": "Python 3.8.3 64-bit",
   "name": "python3"
  },
  "language_info": {
   "codemirror_mode": {
    "name": "ipython",
    "version": 3
   },
   "file_extension": ".py",
   "mimetype": "text/x-python",
   "name": "python",
   "nbconvert_exporter": "python",
   "pygments_lexer": "ipython3",
   "version": "3.8.3"
  }
 },
 "nbformat": 4,
 "nbformat_minor": 4
}
